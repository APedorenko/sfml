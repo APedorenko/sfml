{
 "cells": [
  {
   "cell_type": "markdown",
   "metadata": {},
   "source": [
    "# SkillFactory\n",
    "## Введение в ML, введение в sklearn"
   ]
  },
  {
   "cell_type": "markdown",
   "metadata": {},
   "source": [
    "В этом задании мы с вами рассмотрим данные с конкурса [Задача предсказания отклика клиентов ОТП Банка](http://www.machinelearning.ru/wiki/index.php?title=%D0%97%D0%B0%D0%B4%D0%B0%D1%87%D0%B0_%D0%BF%D1%80%D0%B5%D0%B4%D1%81%D0%BA%D0%B0%D0%B7%D0%B0%D0%BD%D0%B8%D1%8F_%D0%BE%D1%82%D0%BA%D0%BB%D0%B8%D0%BA%D0%B0_%D0%BA%D0%BB%D0%B8%D0%B5%D0%BD%D1%82%D0%BE%D0%B2_%D0%9E%D0%A2%D0%9F_%D0%91%D0%B0%D0%BD%D0%BA%D0%B0_%28%D0%BA%D0%BE%D0%BD%D0%BA%D1%83%D1%80%D1%81%29)"
   ]
  },
  {
   "cell_type": "code",
   "execution_count": 509,
   "metadata": {},
   "outputs": [],
   "source": [
    "import pandas as pd\n",
    "import numpy as np\n",
    "import matplotlib.pyplot as plt\n",
    "\n",
    "%matplotlib inline\n",
    "\n",
    "plt.style.use('ggplot')\n",
    "plt.rcParams['figure.figsize'] = (12,5)"
   ]
  },
  {
   "cell_type": "markdown",
   "metadata": {},
   "source": [
    "### Грузим данные"
   ]
  },
  {
   "cell_type": "markdown",
   "metadata": {},
   "source": [
    "Считаем описание данных"
   ]
  },
  {
   "cell_type": "code",
   "execution_count": 510,
   "metadata": {},
   "outputs": [],
   "source": [
    "\n",
    "df_descr = pd.read_csv('/Users/apedorenko/Desktop/SkillFactory/Stage 2/lesson_02/HW_lesson_02/data/otp_description.csv', sep='\\t', encoding='utf8')"
   ]
  },
  {
   "cell_type": "code",
   "execution_count": 511,
   "metadata": {},
   "outputs": [
    {
     "data": {
      "text/html": [
       "<div>\n",
       "<style scoped>\n",
       "    .dataframe tbody tr th:only-of-type {\n",
       "        vertical-align: middle;\n",
       "    }\n",
       "\n",
       "    .dataframe tbody tr th {\n",
       "        vertical-align: top;\n",
       "    }\n",
       "\n",
       "    .dataframe thead th {\n",
       "        text-align: right;\n",
       "    }\n",
       "</style>\n",
       "<table border=\"1\" class=\"dataframe\">\n",
       "  <thead>\n",
       "    <tr style=\"text-align: right;\">\n",
       "      <th></th>\n",
       "      <th>ПОЛЕ</th>\n",
       "      <th>ОПИСАНИЕ</th>\n",
       "    </tr>\n",
       "  </thead>\n",
       "  <tbody>\n",
       "    <tr>\n",
       "      <th>0</th>\n",
       "      <td>AGREEMENT_RK</td>\n",
       "      <td>уникальный идентификатор объекта в выборке</td>\n",
       "    </tr>\n",
       "    <tr>\n",
       "      <th>1</th>\n",
       "      <td>AGE</td>\n",
       "      <td>возраст клиента</td>\n",
       "    </tr>\n",
       "    <tr>\n",
       "      <th>2</th>\n",
       "      <td>SOCSTATUS_WORK_FL</td>\n",
       "      <td>социальный статус клиента относительно работы ...</td>\n",
       "    </tr>\n",
       "    <tr>\n",
       "      <th>3</th>\n",
       "      <td>SOCSTATUS_PENS_FL</td>\n",
       "      <td>социальный статус клиента относительно пенсии ...</td>\n",
       "    </tr>\n",
       "    <tr>\n",
       "      <th>4</th>\n",
       "      <td>GENDER</td>\n",
       "      <td>пол клиента (1- женщины, 0-мужчины)</td>\n",
       "    </tr>\n",
       "    <tr>\n",
       "      <th>5</th>\n",
       "      <td>CHILD_TOTAL</td>\n",
       "      <td>количество детей клиента</td>\n",
       "    </tr>\n",
       "    <tr>\n",
       "      <th>6</th>\n",
       "      <td>DEPENDANTS</td>\n",
       "      <td>количество иждивенцев клиента</td>\n",
       "    </tr>\n",
       "    <tr>\n",
       "      <th>7</th>\n",
       "      <td>EDUCATION</td>\n",
       "      <td>образование</td>\n",
       "    </tr>\n",
       "    <tr>\n",
       "      <th>8</th>\n",
       "      <td>MARITAL_STATUS</td>\n",
       "      <td>семейное положение</td>\n",
       "    </tr>\n",
       "    <tr>\n",
       "      <th>9</th>\n",
       "      <td>GEN_INDUSTRY</td>\n",
       "      <td>отрасль работы клиента</td>\n",
       "    </tr>\n",
       "    <tr>\n",
       "      <th>10</th>\n",
       "      <td>GEN_TITLE</td>\n",
       "      <td>должность</td>\n",
       "    </tr>\n",
       "    <tr>\n",
       "      <th>11</th>\n",
       "      <td>ORG_TP_STATE</td>\n",
       "      <td>форма собственности компании</td>\n",
       "    </tr>\n",
       "    <tr>\n",
       "      <th>12</th>\n",
       "      <td>ORG_TP_FCAPITAL</td>\n",
       "      <td>отношение к иностранному капиталу</td>\n",
       "    </tr>\n",
       "    <tr>\n",
       "      <th>13</th>\n",
       "      <td>JOB_DIR</td>\n",
       "      <td>направление деятельности в нутри компании</td>\n",
       "    </tr>\n",
       "    <tr>\n",
       "      <th>14</th>\n",
       "      <td>FAMILY_INCOME</td>\n",
       "      <td>семейный доход (несколько категорий)</td>\n",
       "    </tr>\n",
       "    <tr>\n",
       "      <th>15</th>\n",
       "      <td>PERSONAL_INCOME</td>\n",
       "      <td>личный доход клиента (в рублях)</td>\n",
       "    </tr>\n",
       "    <tr>\n",
       "      <th>16</th>\n",
       "      <td>REG_ADDRESS_PROVINCE</td>\n",
       "      <td>область регистрации клиента</td>\n",
       "    </tr>\n",
       "    <tr>\n",
       "      <th>17</th>\n",
       "      <td>FACT_ADDRESS_PROVINCE</td>\n",
       "      <td>область фактического пребывания клиента</td>\n",
       "    </tr>\n",
       "    <tr>\n",
       "      <th>18</th>\n",
       "      <td>POSTAL_ADDRESS_PROVINCE</td>\n",
       "      <td>почтовый адрес область</td>\n",
       "    </tr>\n",
       "    <tr>\n",
       "      <th>19</th>\n",
       "      <td>TP_PROVINCE</td>\n",
       "      <td>область торговой точки, где клиент брал послед...</td>\n",
       "    </tr>\n",
       "    <tr>\n",
       "      <th>20</th>\n",
       "      <td>REGION_NM</td>\n",
       "      <td>регион РФ</td>\n",
       "    </tr>\n",
       "    <tr>\n",
       "      <th>21</th>\n",
       "      <td>REG_FACT_FL</td>\n",
       "      <td>адрес регистрации и адрес фактического пребыва...</td>\n",
       "    </tr>\n",
       "    <tr>\n",
       "      <th>22</th>\n",
       "      <td>FACT_POST_FL</td>\n",
       "      <td>адрес фактического пребывания клиента и его по...</td>\n",
       "    </tr>\n",
       "    <tr>\n",
       "      <th>23</th>\n",
       "      <td>REG_POST_FL</td>\n",
       "      <td>адрес регистрации клиента и его почтовый адрес...</td>\n",
       "    </tr>\n",
       "    <tr>\n",
       "      <th>24</th>\n",
       "      <td>REG_FACT_POST_FL</td>\n",
       "      <td>почтовый, фактический и адрес регистрации совп...</td>\n",
       "    </tr>\n",
       "    <tr>\n",
       "      <th>25</th>\n",
       "      <td>REG_FACT_POST_TP_FL</td>\n",
       "      <td>область регистрации, фактического пребывания, ...</td>\n",
       "    </tr>\n",
       "    <tr>\n",
       "      <th>26</th>\n",
       "      <td>FL_PRESENCE_FL</td>\n",
       "      <td>наличие в собственности квартиры (1 - есть, 0 ...</td>\n",
       "    </tr>\n",
       "    <tr>\n",
       "      <th>27</th>\n",
       "      <td>OWN_AUTO</td>\n",
       "      <td>кол-во автомобилей в собственности</td>\n",
       "    </tr>\n",
       "    <tr>\n",
       "      <th>28</th>\n",
       "      <td>AUTO_RUS_FL</td>\n",
       "      <td>наличие в собственности автомобиля российского...</td>\n",
       "    </tr>\n",
       "    <tr>\n",
       "      <th>29</th>\n",
       "      <td>HS_PRESENCE_FL</td>\n",
       "      <td>наличие в собственности загородного дома (1 - ...</td>\n",
       "    </tr>\n",
       "    <tr>\n",
       "      <th>30</th>\n",
       "      <td>COT_PRESENCE_FL</td>\n",
       "      <td>наличие в собственности котеджа (1 - есть, 0 -...</td>\n",
       "    </tr>\n",
       "    <tr>\n",
       "      <th>31</th>\n",
       "      <td>GAR_PRESENCE_FL</td>\n",
       "      <td>наличие в собственности гаража (1 - есть, 0 - ...</td>\n",
       "    </tr>\n",
       "    <tr>\n",
       "      <th>32</th>\n",
       "      <td>LAND_PRESENCE_FL</td>\n",
       "      <td>наличие в собственности земельного участка (1 ...</td>\n",
       "    </tr>\n",
       "    <tr>\n",
       "      <th>33</th>\n",
       "      <td>CREDIT</td>\n",
       "      <td>сумма последнего кредита клиента (в рублях)</td>\n",
       "    </tr>\n",
       "    <tr>\n",
       "      <th>34</th>\n",
       "      <td>TERM</td>\n",
       "      <td>срок кредита</td>\n",
       "    </tr>\n",
       "    <tr>\n",
       "      <th>35</th>\n",
       "      <td>FST_PAYMENT</td>\n",
       "      <td>первоначальный взнос (в рублях)</td>\n",
       "    </tr>\n",
       "    <tr>\n",
       "      <th>36</th>\n",
       "      <td>DL_DOCUMENT_FL</td>\n",
       "      <td>в анкете клиент указал водительское удостовере...</td>\n",
       "    </tr>\n",
       "    <tr>\n",
       "      <th>37</th>\n",
       "      <td>GPF_DOCUMENT_FL</td>\n",
       "      <td>в анкете клиен указал ГПФ (1 - указал, 0 - не ...</td>\n",
       "    </tr>\n",
       "    <tr>\n",
       "      <th>38</th>\n",
       "      <td>FACT_LIVING_TERM</td>\n",
       "      <td>количество месяцев проживания по месту фактиче...</td>\n",
       "    </tr>\n",
       "    <tr>\n",
       "      <th>39</th>\n",
       "      <td>WORK_TIME</td>\n",
       "      <td>время работы на текущем месте (в месяцах)</td>\n",
       "    </tr>\n",
       "    <tr>\n",
       "      <th>40</th>\n",
       "      <td>FACT_PHONE_FL</td>\n",
       "      <td>наличие в заявке телефона по фактическому мест...</td>\n",
       "    </tr>\n",
       "    <tr>\n",
       "      <th>41</th>\n",
       "      <td>REG_PHONE_FL</td>\n",
       "      <td>наличие в заявке телефона по месту регистрации</td>\n",
       "    </tr>\n",
       "    <tr>\n",
       "      <th>42</th>\n",
       "      <td>GEN_PHONE_FL</td>\n",
       "      <td>наличие в заявке рабочего телефона</td>\n",
       "    </tr>\n",
       "    <tr>\n",
       "      <th>43</th>\n",
       "      <td>LOAN_NUM_TOTAL</td>\n",
       "      <td>количество ссуд клиента</td>\n",
       "    </tr>\n",
       "    <tr>\n",
       "      <th>44</th>\n",
       "      <td>LOAN_NUM_CLOSED</td>\n",
       "      <td>количество погашенных ссуд клиента</td>\n",
       "    </tr>\n",
       "    <tr>\n",
       "      <th>45</th>\n",
       "      <td>LOAN_NUM_PAYM</td>\n",
       "      <td>количество платежей, которые сделал клиент</td>\n",
       "    </tr>\n",
       "    <tr>\n",
       "      <th>46</th>\n",
       "      <td>LOAN_DLQ_NUM</td>\n",
       "      <td>количество просрочек, допущенных клиентом</td>\n",
       "    </tr>\n",
       "    <tr>\n",
       "      <th>47</th>\n",
       "      <td>LOAN_MAX_DLQ</td>\n",
       "      <td>номер максимальной просрочки, допущенной клиентом</td>\n",
       "    </tr>\n",
       "    <tr>\n",
       "      <th>48</th>\n",
       "      <td>LOAN_AVG_DLQ_AMT</td>\n",
       "      <td>средняя сумма просрочки (в рублях)</td>\n",
       "    </tr>\n",
       "    <tr>\n",
       "      <th>49</th>\n",
       "      <td>LOAN_MAX_DLQ_AMT</td>\n",
       "      <td>максимальная сумма просрочки (в рублях)</td>\n",
       "    </tr>\n",
       "    <tr>\n",
       "      <th>50</th>\n",
       "      <td>PREVIOUS_CARD_NUM_UTILIZED</td>\n",
       "      <td>количество уже утилизированных карт ( если пус...</td>\n",
       "    </tr>\n",
       "  </tbody>\n",
       "</table>\n",
       "</div>"
      ],
      "text/plain": [
       "                          ПОЛЕ  \\\n",
       "0                 AGREEMENT_RK   \n",
       "1                          AGE   \n",
       "2            SOCSTATUS_WORK_FL   \n",
       "3            SOCSTATUS_PENS_FL   \n",
       "4                       GENDER   \n",
       "5                  CHILD_TOTAL   \n",
       "6                   DEPENDANTS   \n",
       "7                    EDUCATION   \n",
       "8               MARITAL_STATUS   \n",
       "9                 GEN_INDUSTRY   \n",
       "10                   GEN_TITLE   \n",
       "11                ORG_TP_STATE   \n",
       "12             ORG_TP_FCAPITAL   \n",
       "13                     JOB_DIR   \n",
       "14               FAMILY_INCOME   \n",
       "15             PERSONAL_INCOME   \n",
       "16        REG_ADDRESS_PROVINCE   \n",
       "17       FACT_ADDRESS_PROVINCE   \n",
       "18     POSTAL_ADDRESS_PROVINCE   \n",
       "19                 TP_PROVINCE   \n",
       "20                   REGION_NM   \n",
       "21                 REG_FACT_FL   \n",
       "22                FACT_POST_FL   \n",
       "23                 REG_POST_FL   \n",
       "24            REG_FACT_POST_FL   \n",
       "25         REG_FACT_POST_TP_FL   \n",
       "26              FL_PRESENCE_FL   \n",
       "27                    OWN_AUTO   \n",
       "28                 AUTO_RUS_FL   \n",
       "29              HS_PRESENCE_FL   \n",
       "30             COT_PRESENCE_FL   \n",
       "31             GAR_PRESENCE_FL   \n",
       "32            LAND_PRESENCE_FL   \n",
       "33                      CREDIT   \n",
       "34                        TERM   \n",
       "35                 FST_PAYMENT   \n",
       "36              DL_DOCUMENT_FL   \n",
       "37             GPF_DOCUMENT_FL   \n",
       "38            FACT_LIVING_TERM   \n",
       "39                   WORK_TIME   \n",
       "40               FACT_PHONE_FL   \n",
       "41                REG_PHONE_FL   \n",
       "42                GEN_PHONE_FL   \n",
       "43              LOAN_NUM_TOTAL   \n",
       "44             LOAN_NUM_CLOSED   \n",
       "45               LOAN_NUM_PAYM   \n",
       "46                LOAN_DLQ_NUM   \n",
       "47                LOAN_MAX_DLQ   \n",
       "48            LOAN_AVG_DLQ_AMT   \n",
       "49            LOAN_MAX_DLQ_AMT   \n",
       "50  PREVIOUS_CARD_NUM_UTILIZED   \n",
       "\n",
       "                                             ОПИСАНИЕ  \n",
       "0          уникальный идентификатор объекта в выборке  \n",
       "1                                     возраст клиента  \n",
       "2   социальный статус клиента относительно работы ...  \n",
       "3   социальный статус клиента относительно пенсии ...  \n",
       "4                 пол клиента (1- женщины, 0-мужчины)  \n",
       "5                            количество детей клиента  \n",
       "6                       количество иждивенцев клиента  \n",
       "7                                         образование  \n",
       "8                                  семейное положение  \n",
       "9                              отрасль работы клиента  \n",
       "10                                          должность  \n",
       "11                       форма собственности компании  \n",
       "12                  отношение к иностранному капиталу  \n",
       "13          направление деятельности в нутри компании  \n",
       "14               семейный доход (несколько категорий)  \n",
       "15                    личный доход клиента (в рублях)  \n",
       "16                        область регистрации клиента  \n",
       "17            область фактического пребывания клиента  \n",
       "18                             почтовый адрес область  \n",
       "19  область торговой точки, где клиент брал послед...  \n",
       "20                                          регион РФ  \n",
       "21  адрес регистрации и адрес фактического пребыва...  \n",
       "22  адрес фактического пребывания клиента и его по...  \n",
       "23  адрес регистрации клиента и его почтовый адрес...  \n",
       "24  почтовый, фактический и адрес регистрации совп...  \n",
       "25  область регистрации, фактического пребывания, ...  \n",
       "26  наличие в собственности квартиры (1 - есть, 0 ...  \n",
       "27                кол-во автомобилей в собственности   \n",
       "28  наличие в собственности автомобиля российского...  \n",
       "29  наличие в собственности загородного дома (1 - ...  \n",
       "30  наличие в собственности котеджа (1 - есть, 0 -...  \n",
       "31  наличие в собственности гаража (1 - есть, 0 - ...  \n",
       "32  наличие в собственности земельного участка (1 ...  \n",
       "33        сумма последнего кредита клиента (в рублях)  \n",
       "34                                       срок кредита  \n",
       "35                    первоначальный взнос (в рублях)  \n",
       "36  в анкете клиент указал водительское удостовере...  \n",
       "37  в анкете клиен указал ГПФ (1 - указал, 0 - не ...  \n",
       "38  количество месяцев проживания по месту фактиче...  \n",
       "39          время работы на текущем месте (в месяцах)  \n",
       "40  наличие в заявке телефона по фактическому мест...  \n",
       "41     наличие в заявке телефона по месту регистрации  \n",
       "42                 наличие в заявке рабочего телефона  \n",
       "43                            количество ссуд клиента  \n",
       "44                 количество погашенных ссуд клиента  \n",
       "45         количество платежей, которые сделал клиент  \n",
       "46          количество просрочек, допущенных клиентом  \n",
       "47  номер максимальной просрочки, допущенной клиентом  \n",
       "48                 средняя сумма просрочки (в рублях)  \n",
       "49            максимальная сумма просрочки (в рублях)  \n",
       "50  количество уже утилизированных карт ( если пус...  "
      ]
     },
     "execution_count": 511,
     "metadata": {},
     "output_type": "execute_result"
    }
   ],
   "source": [
    "# print(df_descr[df_descr['ПОЛЕ']=='PREVIOUS_CARD_NUM_UTILIZED'])\n",
    "df_descr"
   ]
  },
  {
   "cell_type": "markdown",
   "metadata": {},
   "source": [
    "Считаем обучающую выборки и тестовую (которую мы как бы не видим)"
   ]
  },
  {
   "cell_type": "code",
   "execution_count": 512,
   "metadata": {},
   "outputs": [],
   "source": [
    "df_train = pd.read_csv('/Users/apedorenko/Desktop/SkillFactory/Stage 2/lesson_02/HW_lesson_02/data/otp_train.csv', sep='\\t', encoding='utf8')"
   ]
  },
  {
   "cell_type": "code",
   "execution_count": 513,
   "metadata": {},
   "outputs": [
    {
     "data": {
      "text/plain": [
       "(15223, 52)"
      ]
     },
     "execution_count": 513,
     "metadata": {},
     "output_type": "execute_result"
    }
   ],
   "source": [
    "df_train.shape"
   ]
  },
  {
   "cell_type": "code",
   "execution_count": 514,
   "metadata": {},
   "outputs": [],
   "source": [
    "df_test = pd.read_csv('/Users/apedorenko/Desktop/SkillFactory/Stage 2/lesson_02/HW_lesson_02/data/otp_test.csv', sep='\\t', encoding='utf8')"
   ]
  },
  {
   "cell_type": "code",
   "execution_count": 515,
   "metadata": {},
   "outputs": [
    {
     "data": {
      "text/plain": [
       "(14910, 52)"
      ]
     },
     "execution_count": 515,
     "metadata": {},
     "output_type": "execute_result"
    }
   ],
   "source": [
    "df_test.shape"
   ]
  },
  {
   "cell_type": "code",
   "execution_count": 516,
   "metadata": {},
   "outputs": [
    {
     "data": {
      "text/html": [
       "<div>\n",
       "<style scoped>\n",
       "    .dataframe tbody tr th:only-of-type {\n",
       "        vertical-align: middle;\n",
       "    }\n",
       "\n",
       "    .dataframe tbody tr th {\n",
       "        vertical-align: top;\n",
       "    }\n",
       "\n",
       "    .dataframe thead th {\n",
       "        text-align: right;\n",
       "    }\n",
       "</style>\n",
       "<table border=\"1\" class=\"dataframe\">\n",
       "  <thead>\n",
       "    <tr style=\"text-align: right;\">\n",
       "      <th></th>\n",
       "      <th>AGREEMENT_RK</th>\n",
       "      <th>TARGET</th>\n",
       "      <th>AGE</th>\n",
       "      <th>SOCSTATUS_WORK_FL</th>\n",
       "      <th>SOCSTATUS_PENS_FL</th>\n",
       "      <th>GENDER</th>\n",
       "      <th>CHILD_TOTAL</th>\n",
       "      <th>DEPENDANTS</th>\n",
       "      <th>EDUCATION</th>\n",
       "      <th>MARITAL_STATUS</th>\n",
       "      <th>...</th>\n",
       "      <th>REG_PHONE_FL</th>\n",
       "      <th>GEN_PHONE_FL</th>\n",
       "      <th>LOAN_NUM_TOTAL</th>\n",
       "      <th>LOAN_NUM_CLOSED</th>\n",
       "      <th>LOAN_NUM_PAYM</th>\n",
       "      <th>LOAN_DLQ_NUM</th>\n",
       "      <th>LOAN_MAX_DLQ</th>\n",
       "      <th>LOAN_AVG_DLQ_AMT</th>\n",
       "      <th>LOAN_MAX_DLQ_AMT</th>\n",
       "      <th>PREVIOUS_CARD_NUM_UTILIZED</th>\n",
       "    </tr>\n",
       "  </thead>\n",
       "  <tbody>\n",
       "    <tr>\n",
       "      <th>0</th>\n",
       "      <td>59910150</td>\n",
       "      <td>0</td>\n",
       "      <td>49</td>\n",
       "      <td>1</td>\n",
       "      <td>0</td>\n",
       "      <td>1</td>\n",
       "      <td>2</td>\n",
       "      <td>1</td>\n",
       "      <td>Среднее специальное</td>\n",
       "      <td>Состою в браке</td>\n",
       "      <td>...</td>\n",
       "      <td>0</td>\n",
       "      <td>1</td>\n",
       "      <td>1</td>\n",
       "      <td>1</td>\n",
       "      <td>6</td>\n",
       "      <td>2</td>\n",
       "      <td>1</td>\n",
       "      <td>1580</td>\n",
       "      <td>1580</td>\n",
       "      <td>NaN</td>\n",
       "    </tr>\n",
       "    <tr>\n",
       "      <th>1</th>\n",
       "      <td>59910230</td>\n",
       "      <td>0</td>\n",
       "      <td>32</td>\n",
       "      <td>1</td>\n",
       "      <td>0</td>\n",
       "      <td>1</td>\n",
       "      <td>3</td>\n",
       "      <td>3</td>\n",
       "      <td>Среднее</td>\n",
       "      <td>Состою в браке</td>\n",
       "      <td>...</td>\n",
       "      <td>0</td>\n",
       "      <td>1</td>\n",
       "      <td>1</td>\n",
       "      <td>1</td>\n",
       "      <td>6</td>\n",
       "      <td>1</td>\n",
       "      <td>1</td>\n",
       "      <td>4020</td>\n",
       "      <td>4020</td>\n",
       "      <td>NaN</td>\n",
       "    </tr>\n",
       "    <tr>\n",
       "      <th>2</th>\n",
       "      <td>59910525</td>\n",
       "      <td>0</td>\n",
       "      <td>52</td>\n",
       "      <td>1</td>\n",
       "      <td>0</td>\n",
       "      <td>1</td>\n",
       "      <td>4</td>\n",
       "      <td>0</td>\n",
       "      <td>Неполное среднее</td>\n",
       "      <td>Состою в браке</td>\n",
       "      <td>...</td>\n",
       "      <td>0</td>\n",
       "      <td>1</td>\n",
       "      <td>2</td>\n",
       "      <td>1</td>\n",
       "      <td>11</td>\n",
       "      <td>0</td>\n",
       "      <td>0</td>\n",
       "      <td>0</td>\n",
       "      <td>0</td>\n",
       "      <td>NaN</td>\n",
       "    </tr>\n",
       "    <tr>\n",
       "      <th>3</th>\n",
       "      <td>59910803</td>\n",
       "      <td>0</td>\n",
       "      <td>39</td>\n",
       "      <td>1</td>\n",
       "      <td>0</td>\n",
       "      <td>1</td>\n",
       "      <td>1</td>\n",
       "      <td>1</td>\n",
       "      <td>Высшее</td>\n",
       "      <td>Состою в браке</td>\n",
       "      <td>...</td>\n",
       "      <td>1</td>\n",
       "      <td>1</td>\n",
       "      <td>1</td>\n",
       "      <td>1</td>\n",
       "      <td>6</td>\n",
       "      <td>3</td>\n",
       "      <td>1</td>\n",
       "      <td>1589,92333333333</td>\n",
       "      <td>1590</td>\n",
       "      <td>NaN</td>\n",
       "    </tr>\n",
       "    <tr>\n",
       "      <th>4</th>\n",
       "      <td>59911781</td>\n",
       "      <td>0</td>\n",
       "      <td>30</td>\n",
       "      <td>1</td>\n",
       "      <td>0</td>\n",
       "      <td>0</td>\n",
       "      <td>0</td>\n",
       "      <td>0</td>\n",
       "      <td>Среднее</td>\n",
       "      <td>Состою в браке</td>\n",
       "      <td>...</td>\n",
       "      <td>0</td>\n",
       "      <td>1</td>\n",
       "      <td>2</td>\n",
       "      <td>1</td>\n",
       "      <td>16</td>\n",
       "      <td>2</td>\n",
       "      <td>1</td>\n",
       "      <td>1152,15</td>\n",
       "      <td>2230</td>\n",
       "      <td>NaN</td>\n",
       "    </tr>\n",
       "  </tbody>\n",
       "</table>\n",
       "<p>5 rows × 52 columns</p>\n",
       "</div>"
      ],
      "text/plain": [
       "   AGREEMENT_RK  TARGET  AGE  SOCSTATUS_WORK_FL  SOCSTATUS_PENS_FL  GENDER  \\\n",
       "0      59910150       0   49                  1                  0       1   \n",
       "1      59910230       0   32                  1                  0       1   \n",
       "2      59910525       0   52                  1                  0       1   \n",
       "3      59910803       0   39                  1                  0       1   \n",
       "4      59911781       0   30                  1                  0       0   \n",
       "\n",
       "   CHILD_TOTAL  DEPENDANTS            EDUCATION  MARITAL_STATUS  \\\n",
       "0            2           1  Среднее специальное  Состою в браке   \n",
       "1            3           3              Среднее  Состою в браке   \n",
       "2            4           0     Неполное среднее  Состою в браке   \n",
       "3            1           1               Высшее  Состою в браке   \n",
       "4            0           0              Среднее  Состою в браке   \n",
       "\n",
       "             ...             REG_PHONE_FL GEN_PHONE_FL LOAN_NUM_TOTAL  \\\n",
       "0            ...                        0            1              1   \n",
       "1            ...                        0            1              1   \n",
       "2            ...                        0            1              2   \n",
       "3            ...                        1            1              1   \n",
       "4            ...                        0            1              2   \n",
       "\n",
       "  LOAN_NUM_CLOSED LOAN_NUM_PAYM LOAN_DLQ_NUM LOAN_MAX_DLQ  LOAN_AVG_DLQ_AMT  \\\n",
       "0               1             6            2            1              1580   \n",
       "1               1             6            1            1              4020   \n",
       "2               1            11            0            0                 0   \n",
       "3               1             6            3            1  1589,92333333333   \n",
       "4               1            16            2            1           1152,15   \n",
       "\n",
       "  LOAN_MAX_DLQ_AMT PREVIOUS_CARD_NUM_UTILIZED  \n",
       "0             1580                        NaN  \n",
       "1             4020                        NaN  \n",
       "2                0                        NaN  \n",
       "3             1590                        NaN  \n",
       "4             2230                        NaN  \n",
       "\n",
       "[5 rows x 52 columns]"
      ]
     },
     "execution_count": 516,
     "metadata": {},
     "output_type": "execute_result"
    }
   ],
   "source": [
    "df_train.head()"
   ]
  },
  {
   "cell_type": "markdown",
   "metadata": {},
   "source": [
    "## Объединим две выборки\n",
    "\n",
    "Так как пока мы пока не умеем работать sklearn  Pipeline, то для того, чтобы после предобработки столбцы в двух выборках находились на своих местах.\n",
    "\n",
    "Для того, чтобы в дальнейшем отделить их введем новый столбец \"sample\""
   ]
  },
  {
   "cell_type": "code",
   "execution_count": 517,
   "metadata": {},
   "outputs": [],
   "source": [
    "df_train.loc[:, 'sample'] = 'train'\n",
    "df_test.loc[:, 'sample'] = 'test'"
   ]
  },
  {
   "cell_type": "code",
   "execution_count": 518,
   "metadata": {},
   "outputs": [],
   "source": [
    "df = df_test.append(df_train).reset_index(drop=True)"
   ]
  },
  {
   "cell_type": "code",
   "execution_count": 519,
   "metadata": {},
   "outputs": [
    {
     "data": {
      "text/plain": [
       "(30133, 53)"
      ]
     },
     "execution_count": 519,
     "metadata": {},
     "output_type": "execute_result"
    }
   ],
   "source": [
    "df.shape"
   ]
  },
  {
   "cell_type": "markdown",
   "metadata": {},
   "source": [
    "### Чуть-чуть посмотрим на данные"
   ]
  },
  {
   "cell_type": "markdown",
   "metadata": {
    "collapsed": true
   },
   "source": [
    "Посмотрим типы данных и их заполняемость"
   ]
  },
  {
   "cell_type": "code",
   "execution_count": 520,
   "metadata": {
    "scrolled": false
   },
   "outputs": [
    {
     "name": "stdout",
     "output_type": "stream",
     "text": [
      "<class 'pandas.core.frame.DataFrame'>\n",
      "RangeIndex: 30133 entries, 0 to 30132\n",
      "Data columns (total 53 columns):\n",
      "AGREEMENT_RK                  30133 non-null int64\n",
      "TARGET                        30133 non-null int64\n",
      "AGE                           30133 non-null int64\n",
      "SOCSTATUS_WORK_FL             30133 non-null int64\n",
      "SOCSTATUS_PENS_FL             30133 non-null int64\n",
      "GENDER                        30133 non-null int64\n",
      "CHILD_TOTAL                   30133 non-null int64\n",
      "DEPENDANTS                    30133 non-null int64\n",
      "EDUCATION                     30133 non-null object\n",
      "MARITAL_STATUS                30133 non-null object\n",
      "GEN_INDUSTRY                  27420 non-null object\n",
      "GEN_TITLE                     27420 non-null object\n",
      "ORG_TP_STATE                  27420 non-null object\n",
      "ORG_TP_FCAPITAL               27425 non-null object\n",
      "JOB_DIR                       27420 non-null object\n",
      "FAMILY_INCOME                 30133 non-null object\n",
      "PERSONAL_INCOME               30133 non-null object\n",
      "REG_ADDRESS_PROVINCE          30133 non-null object\n",
      "FACT_ADDRESS_PROVINCE         30133 non-null object\n",
      "POSTAL_ADDRESS_PROVINCE       30133 non-null object\n",
      "TP_PROVINCE                   29543 non-null object\n",
      "REGION_NM                     30131 non-null object\n",
      "REG_FACT_FL                   30133 non-null int64\n",
      "FACT_POST_FL                  30133 non-null int64\n",
      "REG_POST_FL                   30133 non-null int64\n",
      "REG_FACT_POST_FL              30133 non-null int64\n",
      "REG_FACT_POST_TP_FL           30133 non-null int64\n",
      "FL_PRESENCE_FL                30133 non-null int64\n",
      "OWN_AUTO                      30133 non-null int64\n",
      "AUTO_RUS_FL                   30133 non-null int64\n",
      "HS_PRESENCE_FL                30133 non-null int64\n",
      "COT_PRESENCE_FL               30133 non-null int64\n",
      "GAR_PRESENCE_FL               30133 non-null int64\n",
      "LAND_PRESENCE_FL              30133 non-null int64\n",
      "CREDIT                        30133 non-null object\n",
      "TERM                          30133 non-null int64\n",
      "FST_PAYMENT                   30133 non-null object\n",
      "DL_DOCUMENT_FL                30133 non-null int64\n",
      "GPF_DOCUMENT_FL               30133 non-null int64\n",
      "FACT_LIVING_TERM              30133 non-null int64\n",
      "WORK_TIME                     27416 non-null float64\n",
      "FACT_PHONE_FL                 30133 non-null int64\n",
      "REG_PHONE_FL                  30133 non-null int64\n",
      "GEN_PHONE_FL                  30133 non-null int64\n",
      "LOAN_NUM_TOTAL                30133 non-null int64\n",
      "LOAN_NUM_CLOSED               30133 non-null int64\n",
      "LOAN_NUM_PAYM                 30133 non-null int64\n",
      "LOAN_DLQ_NUM                  30133 non-null int64\n",
      "LOAN_MAX_DLQ                  30133 non-null int64\n",
      "LOAN_AVG_DLQ_AMT              30133 non-null object\n",
      "LOAN_MAX_DLQ_AMT              30133 non-null object\n",
      "PREVIOUS_CARD_NUM_UTILIZED    600 non-null float64\n",
      "sample                        30133 non-null object\n",
      "dtypes: float64(2), int64(32), object(19)\n",
      "memory usage: 12.2+ MB\n"
     ]
    }
   ],
   "source": [
    "df.info()"
   ]
  },
  {
   "cell_type": "markdown",
   "metadata": {
    "collapsed": true
   },
   "source": [
    "Видим, что часть данных - object, скорее всего стоки.\n",
    "\n",
    "\n",
    "Давайте выведем эти значения для каждого столбца"
   ]
  },
  {
   "cell_type": "code",
   "execution_count": 521,
   "metadata": {},
   "outputs": [
    {
     "name": "stdout",
     "output_type": "stream",
     "text": [
      "==========\n",
      "EDUCATION\n",
      "{'Неоконченное высшее', 'Среднее', 'Ученая степень', 'Два и более высших образования', 'Высшее', 'Среднее специальное', 'Неполное среднее'}\n",
      "\n",
      "\n",
      "==========\n",
      "MARITAL_STATUS\n",
      "{'Разведен(а)', 'Гражданский брак', 'Вдовец/Вдова', 'Не состоял в браке', 'Состою в браке'}\n",
      "\n",
      "\n",
      "==========\n",
      "GEN_INDUSTRY\n",
      "{nan, 'Коммунальное хоз-во/Дорожные службы', 'Сельское хозяйство', 'Нефтегазовая промышленность', 'Салоны красоты и здоровья', 'Маркетинг', 'Сборочные производства', 'Информационные услуги', 'ЧОП/Детективная д-ть', 'Металлургия/Промышленность/Машиностроение', 'Подбор персонала', 'Управляющая компания', 'Юридические услуги/нотариальные услуги', 'Здравоохранение', 'Ресторанный бизнес/Общественное питание', 'Образование', 'Недвижимость', 'Другие сферы', 'Банк/Финансы', 'Транспорт', 'Торговля', 'Химия/Парфюмерия/Фармацевтика', 'Логистика', 'Туризм', 'Энергетика', 'СМИ/Реклама/PR-агенства', 'Строительство', 'Страхование', 'Государственная служба', 'Наука', 'Развлечения/Искусство', 'Информационные технологии'}\n",
      "\n",
      "\n",
      "==========\n",
      "GEN_TITLE\n",
      "{nan, 'Служащий', 'Руководитель среднего звена', 'Рабочий', 'Специалист', 'Другое', 'Работник сферы услуг', 'Руководитель высшего звена', 'Партнер', 'Индивидуальный предприниматель', 'Руководитель низшего звена', 'Высококвалифиц. специалист', 'Военнослужащий по контракту'}\n",
      "\n",
      "\n",
      "==========\n",
      "ORG_TP_STATE\n",
      "{nan, 'Частная компания', 'Некоммерческая организация', 'Государственная комп./учреж.', 'Индивидуальный предприниматель', 'Частная ком. с инос. капиталом'}\n",
      "\n",
      "\n",
      "==========\n",
      "ORG_TP_FCAPITAL\n",
      "{'Без участия', nan, 'С участием'}\n",
      "\n",
      "\n",
      "==========\n",
      "JOB_DIR\n",
      "{nan, 'Вспомогательный техперсонал', 'Участие в основ. деятельности', 'Служба безопасности', 'Адм-хоз. и трансп. службы', 'Снабжение и сбыт', 'Бухгалтерия, финансы, планир.', 'Пр-техн. обесп. и телеком.', 'Юридическая служба', 'Кадровая служба и секретариат', 'Реклама и маркетинг'}\n",
      "\n",
      "\n",
      "==========\n",
      "FAMILY_INCOME\n",
      "{'от 5000 до 10000 руб.', 'от 20000 до 50000 руб.', 'от 10000 до 20000 руб.', 'до 5000 руб.', 'свыше 50000 руб.'}\n",
      "\n",
      "\n",
      "==========\n",
      "PERSONAL_INCOME\n",
      "{'41000', '3200', '18000', '7600', '4000', '10000', '52000', '9100', '28300', '17800', '35500', '17400', '7380', '2500', '9900', '9640', '6780', '6359', '94000', '10100', '8066', '23000', '3900', '43000', '50000', '6524', '4760', '3700', '11000', '9340', '150000', '10500', '38000', '4480', '7082', '5280', '12600', '19300', '16100', '5000', '9600', '13100', '4300', '27300', '2800', '13600', '7200', '11500', '7900', '8726', '7260', '10200', '31000', '4700', '20500', '22500', '15400', '9800', '14120', '5350', '14200', '13900', '13200', '25800', '9700', '8060', '5380', '6600', '22000', '30000', '21500', '14700', '24400', '13650', '19000', '12200', '32500', '16500', '3600', '19700', '4750', '15600', '24500', '17500', '13160', '44000', '6900', '5085', '75000', '13300', '14300', '13150', '12700', '7000', '32000', '13400', '10400', '6400', '42500', '4360', '11800', '15560', '29400', '37000', '9750', '10800', '7800', '22180', '7100', '19500', '8500', '7220', '7250', '6000', '12300', '18800', '13800', '8900', '3800', '12100', '3400', '3500', '6700', '8030', '11200', '5966', '48000', '54000', '7251', '8075', '15900', '13000', '13700', '130000', '4900', '8350', '4530', '38600', '5425', '3000', '7700', '15800', '67000', '20880', '6300', '21000', '92000', '19800', '70000', '16800', '9000', '13500', '14900', '18700', '2776', '20646,16', '9200', '16050', '5360', '7550', '22120', '15500', '17300', '7650', '55000', '45000', '90000', '15300', '23100', '26800', '14800', '36000', '4500', '18500', '40000', '5900', '34000', '8100', '7340', '5680', '19200', '20600', '8600', '6800', '4515', '13000000', '42145', '220000', '5582', '7050', '11900', '47000', '2100', '15700', '34500', '11300', '17000', '25500', '4704', '24000', '160000', '4550', '18250', '27000', '68000', '7170,08', '16900', '32640', '10600', '35000', '7780', '4680', '65000', '19600', '17404', '17700', '33000', '24800', '4860', '8400', '7500', '5750', '5173', '18600', '5088', '12650', '18200', '5400', '29000', '23500', '21800', '6608', '8700', '27200', '12900', '8250', '11600', '4887', '6500', '8750', '4200', '5600', '25000', '6200', '158000', '4850', '15750', '15939', '7101', '4400', '5790', '5120', '12800', '7460', '45900', '41900', '9240', '23800', '67700', '4600', '8200', '29800', '10700', '15200', '22955', '4800', '53500', '5460', '28470', '5050', '58640', '9400', '16300', '9500', '57000', '2300', '15380', '16000', '7330', '14600', '18300', '5446', '56000', '3300', '5450', '170000', '6825', '3100', '5500', '6650', '22565', '5890', '80000', '49000', '7400', '26000', '60000', '110000', '18100', '7850', '42000', '7300', '100000', '14358', '9330', '12500', '17900', '13450', '9628', '5200', '5339', '77000', '30600', '5230', '2000', '12450', '4340', '21300', '4100', '15000', '4330', '120000', '6100', '9300', '39000', '17600', '11640', '6270', '46000', '6350', '16700', '7830', '29500', '16107,47', '12000', '6299,19', '5700', '250000', '4950', '12400', '200000', '20000', '14000', '6180', '53000', '51000', '28000', '10300', '5800', '1950', '7350', '9860', '6670', '8000', '11700', '5100', '5860', '10900', '14500', '2680', '8800', '17200', '11400', '4250', '16600', '4590', '230000', '24', '7640', '8300', '5300', '16200', '26500'}\n",
      "\n",
      "\n",
      "==========\n",
      "REG_ADDRESS_PROVINCE\n",
      "{'Адыгея', 'Ямало-Ненецкий АО', 'Амурская область', 'Кировская область', 'Свердловская область', 'Карелия', 'Бурятия', 'Северная Осетия', 'Челябинская область', 'Астраханская область', 'Ульяновская область', 'Московская область', 'Санкт-Петербург', 'Самарская область', 'Псковская область', 'Воронежская область', 'Пермская область', 'Архангельская область', 'Усть-Ордынский Бурятский АО', 'Приморский край', 'Алтайский край', 'Ленинградская область', 'Сахалинская область', 'Ярославская область', 'Ивановская область', 'Красноярский край', 'Тверская область', 'Горный Алтай', 'Брянская область', 'Коми-Пермяцкий АО', 'Кемеровская область', 'Оренбургская область', 'Магаданская область', 'Карачаево-Черкесия', 'Камчатская область', 'Эвенкийский АО', 'Коми', 'Вологодская область', 'Читинская область', 'Липецкая область', 'Ханты-Мансийский АО', 'Рязанская область', 'Мордовская республика', 'Мурманская область', 'Марийская республика', 'Нижегородская область', 'Ставропольский край', 'Тюменская область', 'Саратовская область', 'Тульская область', 'Дагестан', 'Калмыкия', 'Чувашия', 'Курская область', 'Омская область', 'Татарстан', 'Калининградская область', 'Тамбовская область', 'Удмуртия', 'Белгородская область', 'Ростовская область', 'Калужская область', 'Смоленская область', 'Пензенская область', 'Москва', 'Краснодарский край', 'Томская область', 'Хакасия', 'Волгоградская область', 'Новгородская область', 'Курганская область', 'Башкирия', 'Новосибирская область', 'Орловская область', 'Костромская область', 'Якутия', 'Агинский Бурятский АО', 'Иркутская область', 'Хабаровский край', 'Владимирская область', 'Кабардино-Балкария', 'Еврейская АО'}\n",
      "\n",
      "\n",
      "==========\n",
      "FACT_ADDRESS_PROVINCE\n",
      "{'Адыгея', 'Ямало-Ненецкий АО', 'Амурская область', 'Кировская область', 'Свердловская область', 'Карелия', 'Бурятия', 'Северная Осетия', 'Челябинская область', 'Астраханская область', 'Ульяновская область', 'Московская область', 'Санкт-Петербург', 'Самарская область', 'Псковская область', 'Воронежская область', 'Пермская область', 'Архангельская область', 'Усть-Ордынский Бурятский АО', 'Приморский край', 'Алтайский край', 'Ленинградская область', 'Сахалинская область', 'Ярославская область', 'Ивановская область', 'Красноярский край', 'Тверская область', 'Горный Алтай', 'Брянская область', 'Коми-Пермяцкий АО', 'Кемеровская область', 'Оренбургская область', 'Магаданская область', 'Карачаево-Черкесия', 'Камчатская область', 'Эвенкийский АО', 'Коми', 'Вологодская область', 'Читинская область', 'Липецкая область', 'Ханты-Мансийский АО', 'Рязанская область', 'Мордовская республика', 'Мурманская область', 'Марийская республика', 'Нижегородская область', 'Ставропольский край', 'Тюменская область', 'Саратовская область', 'Тульская область', 'Дагестан', 'Калмыкия', 'Чувашия', 'Курская область', 'Омская область', 'Татарстан', 'Калининградская область', 'Тамбовская область', 'Удмуртия', 'Белгородская область', 'Ростовская область', 'Калужская область', 'Смоленская область', 'Пензенская область', 'Москва', 'Краснодарский край', 'Томская область', 'Хакасия', 'Волгоградская область', 'Новгородская область', 'Курганская область', 'Башкирия', 'Чечня', 'Новосибирская область', 'Орловская область', 'Костромская область', 'Якутия', 'Агинский Бурятский АО', 'Иркутская область', 'Хабаровский край', 'Владимирская область', 'Кабардино-Балкария', 'Еврейская АО'}\n",
      "\n",
      "\n",
      "==========\n",
      "POSTAL_ADDRESS_PROVINCE\n",
      "{'Адыгея', 'Ямало-Ненецкий АО', 'Амурская область', 'Кировская область', 'Свердловская область', 'Карелия', 'Бурятия', 'Северная Осетия', 'Челябинская область', 'Астраханская область', 'Ульяновская область', 'Московская область', 'Санкт-Петербург', 'Самарская область', 'Псковская область', 'Воронежская область', 'Пермская область', 'Архангельская область', 'Усть-Ордынский Бурятский АО', 'Приморский край', 'Алтайский край', 'Ленинградская область', 'Сахалинская область', 'Ярославская область', 'Ивановская область', 'Красноярский край', 'Тверская область', 'Горный Алтай', 'Брянская область', 'Коми-Пермяцкий АО', 'Кемеровская область', 'Оренбургская область', 'Магаданская область', 'Карачаево-Черкесия', 'Камчатская область', 'Эвенкийский АО', 'Коми', 'Вологодская область', 'Читинская область', 'Липецкая область', 'Ханты-Мансийский АО', 'Рязанская область', 'Мордовская республика', 'Мурманская область', 'Марийская республика', 'Нижегородская область', 'Ставропольский край', 'Тюменская область', 'Саратовская область', 'Тульская область', 'Дагестан', 'Калмыкия', 'Чувашия', 'Курская область', 'Омская область', 'Татарстан', 'Калининградская область', 'Тамбовская область', 'Удмуртия', 'Белгородская область', 'Ростовская область', 'Калужская область', 'Смоленская область', 'Пензенская область', 'Москва', 'Краснодарский край', 'Томская область', 'Хакасия', 'Волгоградская область', 'Новгородская область', 'Курганская область', 'Башкирия', 'Новосибирская область', 'Орловская область', 'Костромская область', 'Якутия', 'Агинский Бурятский АО', 'Иркутская область', 'Хабаровский край', 'Владимирская область', 'Кабардино-Балкария', 'Еврейская АО'}\n",
      "\n",
      "\n",
      "==========\n",
      "TP_PROVINCE\n",
      "{nan, 'Волгоградская область', 'Сахалинская область', 'Новгородская область', 'Ярославская область', 'Рязанская область', 'Ивановская область', 'Мордовская республика', 'Амурская область', 'Кировская область', 'Марийская республика', 'Курганская область', 'Мурманская область', 'Красноярский край', 'Свердловская область', 'Тверская область', 'Горный Алтай', 'Башкирия', 'Карелия', 'Нижегородская область', 'Ставропольский край', 'Тульская область', 'Саратовская область', 'Краснодарский край', 'Тюменская область', 'Адыгея', 'Бурятия', 'Брянская область', 'Новосибирская область', 'Чувашия', 'Кемеровская область', 'Курская область', 'Омская область', 'Челябинская область', 'Астраханская область', 'Оренбургская область', 'Орловская область', 'Еврейская АО', 'Костромская область', 'Татарстан', 'Ульяновская область', 'Калининградская область', 'Санкт-Петербург', 'Якутия', 'Магаданская область', 'Самарская область', 'Иркутская область', 'Тамбовская область', 'Хабаровский край', 'Удмуртия', 'Белгородская область', 'Ростовская область', 'Камчатская область', 'Смоленская область', 'Псковская область', 'Калужская область', 'Воронежская область', 'Владимирская область', 'Коми', 'Пензенская область', 'Вологодская область', 'Кабардино-Балкария', 'Пермская область', 'Читинская область', 'Москва', 'Липецкая область', 'Архангельская область', 'Ханты-Мансийский АО', 'Приморский край', 'Алтайский край', 'Томская область'}\n",
      "\n",
      "\n",
      "==========\n",
      "REGION_NM\n",
      "{nan, 'ВОСТОЧНО-СИБИРСКИЙ', 'УРАЛЬСКИЙ', 'ПРИВОЛЖСКИЙ', 'ЦЕНТРАЛЬНЫЙ ОФИС', 'СЕВЕРО-ЗАПАДНЫЙ', 'ЦЕНТРАЛЬНЫЙ 2', 'ЮЖНЫЙ', 'ЦЕНТРАЛЬНЫЙ 1', 'ДАЛЬНЕВОСТОЧНЫЙ', 'ЗАПАДНО-СИБИРСКИЙ', 'ПОВОЛЖСКИЙ'}\n",
      "\n",
      "\n",
      "==========\n",
      "CREDIT\n",
      "{'4064', '7290', '99308', '3411', '5397', '4732', '24620', '12213', '5576', '3420', '9100', '3301', '40824', '28080', '14454', '60300', '13970', '12960', '7008,48', '7693', '16740', '35821', '7590,31', '4739', '10490', '6220', '6978', '41990', '15291,92', '29963,85', '2340,9', '14254', '8905', '11389', '3732', '23459', '18654', '5691', '11090', '2157,45', '5612', '8720', '41500', '29960', '6984', '4458', '24358', '6486', '13825', '12384', '3999', '9037', '28535', '28530', '14630', '29060', '5939', '28310', '6799', '23858', '15999', '3310', '15610', '61920', '4969', '9003', '3940', '9712', '2899', '9335', '9499', '28039', '20209', '8699', '5141', '19071', '19897,1', '6181', '11450,9', '30655', '56319', '23836', '39950', '4970', '4293', '70936,32', '10366', '15069', '8241', '14650', '2565', '52930', '22492', '22747,4', '2595', '7751', '12572', '2172', '14850', '76730', '8604', '3484', '6513', '5369,34', '20700', '27796', '26936', '4469', '20680', '17573', '5208', '2990', '8377', '23352', '28760', '18175', '12343,5', '15050', '10576,2', '22079', '5382', '9842', '10948', '10846', '7357', '24090', '36527', '17577', '15315', '20701', '12542', '17211', '39800', '4049', '3735', '8670', '21836', '14700', '4284', '29300', '3387', '12317', '2176', '49743', '17719', '24506', '5344', '7420', '17231', '6116', '30681', '23854', '18143', '24555', '27408', '33183,4', '34466,4', '34739', '3471', '15600', '20669', '35991', '14845', '7655', '17500', '16869', '12219', '8299', '3159', '9095', '10210', '6283', '31520', '5232,2', '48920', '5912', '6997', '10790', '7965', '10628', '16848', '25588', '2931', '35140', '3141', '16359', '12482', '10699', '10265', '14141', '3516', '10647', '19699', '9117', '3483', '7478', '20100', '32890', '3311', '5364', '8605', '17962', '9491', '26990', '12211', '5658', '9677', '17697', '28079,84', '20075,83', '4131', '5852', '11431', '10020', '34800', '37000', '7404', '17528', '24105,21', '3569', '8117', '16467', '4086', '40829,55', '12225', '40642,38', '10373', '6135', '7210', '25868', '17497', '38500', '9529', '51570', '15127,4', '20252', '17890', '15748', '8731,47', '10983', '10220', '12598,1', '14107', '53169', '20001', '6255', '18825', '11958', '21506', '33107,4', '4496', '8874', '9144', '23110', '13899', '9459,9', '13990,92', '3932', '17097', '8620', '10034', '38032', '5614', '9431', '74500', '26537', '21730', '19927', '23347', '17999,9', '20770', '21440', '8235', '10659', '9551', '27800', '16980', '31013', '8949', '16265', '3789', '13000', '19670', '4779', '16781', '26886', '26570', '44440', '18334', '16780', '6708', '17297,6', '4040,1', '6780,95', '5660,92', '19946', '27922', '43010', '18714', '10498', '12096', '4530', '4631,4', '5060', '6361', '12657', '8622', '19210', '11796', '24740', '18128', '42762', '6938', '31931', '6024', '13301', '13846', '12610', '36943', '21000', '14413', '79200', '4792,3', '3980', '4869', '84570', '7872', '2518', '6993', '25319', '46385', '9098', '11669', '11558', '18572,5', '21570', '6520', '37450', '19498', '11499', '32508,2', '4370', '30826', '17347', '7488', '12589,92', '3142', '60720', '20245', '12314', '9359', '9239', '11887', '19938', '21881', '22925', '11650', '4572', '6023,7', '23790', '14306', '8405', '5723,84', '18148', '42850', '45000', '6386,4', '14976', '3393', '29950', '5579', '3599', '20863', '5988,46', '6096,13', '37490', '41498', '27472', '6257', '5366', '7558', '23370', '19340', '11320', '23550', '19719', '36000', '6192', '75424', '28132', '4040', '17769', '7105', '8755,6', '19765', '29691', '14990', '31587', '20583', '14596', '29101,95', '13515', '5790,91', '11477', '4777', '29160', '17099,1', '87928', '29663', '6856', '30750', '84622,3', '22284', '15569', '17230', '38491', '31409', '22870', '26695,8', '11592', '14080', '7407', '45500', '32914,31', '22490,91', '18009', '7376', '3207', '8346', '91500', '5405', '42742', '31263', '5515', '2844', '9951', '5678', '28778,3', '8412', '6643', '28308', '20570', '17045', '27000', '17363', '9565', '9367', '23163', '3281', '13490', '8345', '25522', '8330', '16919', '9938', '18439', '18908,1', '4896', '11337', '7236', '14758', '7794', '6586', '3774', '6071', '4973', '7695', '14096', '15945', '20845', '11371', '18500,8', '14469', '4673', '23980', '17700', '14490', '3314', '31333', '9560', '14724', '6128', '5019', '4149', '17361,76', '4525', '50500', '4852', '7523', '7247', '23186', '13332', '25271', '21399', '2243,7', '45159', '7867', '12292', '7066', '59625', '4022', '14030', '27963', '16650', '17329,92', '11977', '4350', '26084', '4379', '3047', '31605', '20571', '2805,53', '27827', '9268', '18450', '7189,6', '11009', '31720', '13779,81', '19489,91', '22896', '49500', '4819', '17139', '8997', '40196', '33423', '13514', '16565,65', '19099', '6290', '39276', '3396', '25550', '2673', '13302', '22756', '10350', '6990,91', '27022', '45730', '3235', '11820', '31955', '24314', '7272', '4180', '9538,9', '8436', '6648', '23954', '2890', '40357', '8878', '13278', '50950', '10675', '2378', '23689', '5999', '41994', '15724', '24749', '9876', '4390', '18452', '21529', '9838', '3076', '19320', '54105', '17276', '4147', '61350', '7949', '41210', '21590', '13298', '22760', '3527', '18067', '15599', '3620', '13882,92', '13556', '9260', '15570,4', '38880', '25168', '34449', '40691', '26400', '2408', '15380', '19129', '29294', '6281', '4653', '18455', '25410', '5044', '10483', '20766', '21620', '21921', '83000', '20155', '4683', '4347', '77762', '15930', '22920', '18306', '6609', '22881', '23760', '7381', '6210', '27428', '3703', '11520', '24697', '21058', '4661', '14292', '8904', '49100', '25370', '22075', '13185', '2255,4', '79820', '9045', '4983', '14148', '4208', '16063', '7471', '18197', '3477', '5247', '25790', '2028,56', '30196', '25584', '20699', '3718', '7107', '16399', '5294', '8786', '2346', '6766', '10790,94', '8848', '9036', '79380', '10793', '11750,31', '33143', '23026', '15470', '15559', '3712', '4329', '31135', '24840', '17476', '8852', '28894', '30600', '4340', '10162', '16591', '32256', '67950', '15036', '14743', '7334', '28421', '8320', '30078,4', '26909', '23659', '19830', '24116', '5435', '19929', '21771', '26889', '44700', '3820', '43984', '7443', '5837', '3619', '18590', '20097', '20315', '19224', '3729', '15745', '5245', '18020', '8638', '12090', '15760', '5700', '13014', '4950', '5067', '5776', '3730', '4785', '26157', '8963', '5921', '98042', '7144', '7025', '17671,2', '24297', '21390', '24675,85', '17160', '5581', '12908', '10338', '2490', '24496', '70020', '7560', '3006', '3323', '13012', '17141', '29460', '10751', '7676', '31056', '16465', '17998,2', '20939', '13240', '10898', '16542', '17946,2', '4778', '3195', '17948', '6670', '38800', '27518', '8787', '32415', '19324', '4628', '16438', '6461', '14166', '6779', '6920', '10837', '16485', '4187', '22225', '45297', '13790', '6858', '23265', '10972', '11434', '10089', '47704', '12636', '11400', '38764', '4041', '51540', '41451', '7730,1', '16379', '11311', '16860', '20587', '3336', '6217', '5300', '10180', '8390', '26199', '23485', '17371', '27455', '10827', '12099,1', '2330', '12447', '43995,3', '8116', '6155', '7856', '19388', '3200', '3398', '11049', '23200', '13496', '30680', '25400', '25100', '32444', '22345', '2820', '28059', '13297', '4122', '11225', '2830,5', '22560', '15704', '17800', '18669,2', '24990', '27934', '3945', '81500', '10035', '4630', '6628', '9450', '10100', '16691', '12150', '79959', '7859', '5813', '16532', '23649', '8658', '26963', '21015', '2769,1', '17702', '6890', '24980', '17435', '10586,1', '11495', '9179,92', '6962', '28717', '31509', '21900', '63600', '53364', '10421,5', '22770', '6807', '12197', '15435', '31882', '13747', '4730', '11817', '18121', '8151', '21990', '45280', '6831', '5950', '4203', '9241', '11770', '21740', '8230', '22692,96', '20305', '4013', '24219', '21586', '30756', '9047,53', '12790', '4882', '7088', '13978', '17240', '17922', '26478', '9389,1', '12106', '22091', '6660', '19470', '11319', '32348', '14265', '9278,1', '7990', '12818', '40450', '16733', '17963', '26363', '11308', '19966', '7670', '17446', '7870', '22890', '14274', '3034', '19230', '10445', '25800', '17040', '6830', '9679', '12541', '15859', '21901', '17570', '10526', '6543', '28640', '13173', '4176', '6972', '18762', '5931,8', '6741', '28899', '5474', '26540', '10275', '9517', '18471', '3222', '8872', '5399,2', '27570', '14443', '15856', '13324', '29490', '36976', '8022,6', '9980', '20609', '22264', '4005', '7621', '26010', '17752', '9655,2', '14180', '3410', '15216,06', '9009,91', '16923', '7484', '89200', '9850', '26689', '6286', '3424', '12110', '5849', '9894', '5630', '20380', '15523', '22662', '25060', '12200', '11764', '25897', '4928', '14065', '23505,1', '25461', '11672', '8549,9', '23519', '30837', '25453', '4448', '35248', '12060', '21688', '27990', '23103', '24220', '39450', '15595', '31916', '17420', '7549,89', '6953', '22627', '11890', '20220', '4134,4', '12490,91', '18190', '30361', '4372,2', '8337', '9499,2', '13566', '10769', '13591', '45299', '5455,8', '28534,5', '34010', '19029', '16590', '12749', '14934', '3321', '16280', '13133', '7610', '10840', '21648', '15201', '39250', '17804', '14910', '18760,75', '21690', '37990', '20206', '19030', '6048', '56002,28', '14072', '28237', '12884', '4923', '41400', '11014,81', '25792', '27886', '69500', '25177', '8858,8', '42881', '30656', '21832', '19650', '4244', '19710', '14475', '32828', '43059,8', '15340,01', '19730', '23647', '24386', '18460', '52540', '21040', '16870', '18319', '12628,91', '2848', '23202', '27124', '20590', '21472,86', '17690', '10348', '25250', '2511,82', '9977', '5427', '27050', '9789', '24470', '2785', '12020', '2559', '18054', '20573', '15269', '3737', '31990,6', '29430', '4435', '24711', '10559', '15732', '14044', '4080,7', '24499', '17424', '23130', '19128,41', '31420', '14494', '8990', '25638', '13534', '6880', '2313', '5312', '3123', '15798', '12648,46', '7988', '11524,79', '3495', '17501', '13376', '33190', '14787', '12490', '63700', '7151', '17375', '28983', '22453', '24003', '22983', '14315', '21154', '32690', '4806,9', '5482,3', '72000', '10565', '16720', '25978', '22250', '50560', '16662', '39590', '4098', '5378', '8419', '47090', '20409', '11269', '20827', '10270', '4169', '18423', '3143', '13210', '6504', '19835', '8609,92', '11390', '4963', '6298', '9901', '16690', '6492', '5279', '15319', '6189,3', '3470', '8102', '7433', '4914', '40900', '16965', '37855', '6998', '5680', '30200', '8917', '22203', '18318', '18040', '15759', '19195', '2853', '5497', '15826', '12870', '10630', '23923', '16222', '19648', '7902', '15497', '23251', '17466', '44050', '7730', '9870', '42540', '19567', '33990', '21066,1', '5470', '3889', '4190', '2751', '14237', '19074', '6209', '27012', '22514', '22252', '23044', '24773,2', '2970', '10230', '3450', '19581', '17399,2', '18022', '5721', '18744', '82130', '33292', '15848', '26432', '22145,1', '7820', '35787', '9646', '4556', '15555', '12588', '12222', '13994', '16389', '5941', '4984', '9532', '6311', '15065', '24850', '7752', '6190,92', '5258', '3657', '5016', '18845,91', '2928', '17860', '16005', '15820', '13184', '5232', '30340', '5400', '13695', '10748', '19341', '38300', '4490,9', '18180', '8700', '45665', '8078', '8617', '7553', '4031', '9890', '17051', '19898,95', '20113', '15389', '11908', '2151', '26547', '15010', '18643', '27259', '22277', '15190,5', '11680', '2688', '25195', '11065', '22950', '12940', '2939,2', '3322', '5396', '17895', '42228', '25386', '3354', '76360', '19900', '11260', '18499', '20943', '3199,2', '4190,9', '11188,14', '11297', '18399', '4471', '35450', '34990,92', '9467', '38778,01', '5078', '15755', '9957', '12128', '48580', '11651', '16745', '12797', '21721,1', '37508', '4102', '15902', '33316', '21865', '6393', '73306', '15529', '53091', '17609', '5105,7', '18482', '20690', '26095', '22364', '7045,2', '32400', '40700', '8247', '63306', '5118,3', '17924', '3286', '16507', '15775', '35331', '22323', '9500', '22195', '2686', '23425', '8211', '10671', '27660', '16011', '24700,2', '6499,2', '14765', '14355', '27670', '12420', '25326,55', '4191', '6726,1', '13541', '30550', '6941', '15199', '6553', '11618', '13918', '7199', '15246', '6538', '18240,91', '3995', '33394', '15370', '16474', '16436', '8071', '12662', '25313', '17173', '3300', '3756', '3390,2', '12236', '5754', '7022,7', '21750', '10430', '9739', '16010', '24868', '11790', '12117', '10198', '25780', '6867', '3423', '17292', '7729', '18557', '9341', '27950', '17248', '21889,92', '58086', '21075', '3232', '10225', '25965', '26955', '4709', '21814', '17098,2', '11070', '16452', '12678', '22860', '31498', '7763', '6939', '53208,92', '12898', '17379', '11439', '2090', '22945', '18198', '14498', '10830', '3885', '26587', '6797', '25850', '48900', '11426', '34901', '13198', '31150', '19982', '12699', '10085,9', '3474,9', '7180,9', '6515', '14664', '16499', '20670', '23949', '17928', '19046', '16324', '16400', '13195', '16794', '19589', '16052', '32920', '23791', '13326', '28594', '8849', '14436,1', '25639', '4008,32', '25167', '15255', '27160', '11848', '10127,7', '5878', '11393', '17532', '30900', '7497', '43950', '26420', '4390,91', '12000', '24640', '3959', '20356', '52870', '20640', '13607', '6450', '3026', '3817', '39003', '20592', '17099', '27350', '43285', '29694', '14280', '26330', '6470,9', '13490,2', '13841', '5757', '28584', '15100,82', '11305', '25624', '22460', '2696', '13690', '19929,91', '7927', '4493', '5285', '8472', '7687', '16890', '4290,9', '31694', '33030', '20160', '12429', '15810', '4699', '6653', '12687', '19141', '22489', '24461', '24897', '23795', '15927', '7296', '10611', '37480', '21615', '16889,92', '38408', '29033', '4958', '6407,5', '19809', '4697', '24150', '5237', '83407', '23390,91', '34190', '8495', '10737', '18176', '33797', '82500', '3498', '30031', '3753', '9910', '22221', '18895', '13441', '3553', '3598', '5970', '17995', '22420', '40970', '18560', '9291', '5937', '12405', '36800', '30201,2', '12393', '25254,1', '4851,81', '16810', '21382', '3059', '9295', '27909', '5517', '6332', '2435', '63200', '6987', '7649', '13110', '33460', '12253', '19550', '45270', '10260', '9534', '6141,75', '31793', '18239', '12270', '78350', '17400', '29640', '20985,62', '12124', '12670', '23094', '10192', '13021', '4326', '2004', '3441', '50000', '7584', '2669', '23317', '26082', '8188,04', '30299', '10170', '9002', '13290', '11630', '5778', '88555', '11723', '16858', '4795', '20890', '4419', '6795', '23869', '21420', '76173', '5681', '11453', '11571', '12816', '21895', '11490', '14010', '6870', '10115', '58900', '21090', '16879', '2800', '3320', '13550', '7360', '35793', '20374', '52561', '15660', '13527', '6766,4', '41907', '19772', '73035', '6386', '13330', '4165', '9464', '7490', '31815', '6221', '12711', '8459', '19143', '10019', '23009,1', '7229', '14966', '28264', '41936', '19925', '4319', '17901', '10150', '4951', '10801', '14200', '99313', '5684', '9230,9', '27249', '14510', '21130', '16250', '26262', '15336', '14094', '21660', '17947', '26485', '9706', '43548,81', '9936', '12795', '18489,91', '32335', '5439,2', '5067,2', '26380', '9570', '17398,1', '27490', '17430', '2224,8', '19377', '11106', '8058,5', '19934', '11687,6', '7863', '34695', '25580', '8831', '24400', '11140', '7315', '4026,4', '15490', '14985', '7616', '22280', '10114', '2399', '17086', '23998', '28890', '57625', '23912', '15048', '12514', '3570', '10451', '34990,8', '11893,5', '16081', '28460', '22413', '3710', '14994,6', '6584', '23256', '22008', '5956', '17460', '36177', '4365', '11289', '6613', '26824,5', '19595', '13400', '3137', '12986', '3385', '5307', '21190', '27230', '31643', '7180', '3654', '14205', '3893', '13165,61', '19513', '8322,77', '3707', '26280', '21724', '13337', '16560', '27990,91', '2572', '12140', '24100', '10855', '6658', '6908,4', '31806', '38490', '27720', '36570', '3274,2', '13420', '6839', '10789', '17546', '22871', '5250', '11473', '10858', '12998', '19597', '16380', '4220', '17897,1', '4484', '19048', '26100', '24416', '10069', '5428,1', '12328', '6655', '18119', '18918', '14027', '19375', '6260', '19489', '21430', '15756', '28623', '7431', '13392', '3839', '17790', '27860', '17474', '8438', '5538,6', '13146,1', '28042', '5554', '4530,7', '4043', '60080', '8260', '24914,84', '11398', '6591', '10687', '13810', '22497', '15272', '8835', '23199', '7515', '23470', '30500', '15844', '35669', '22536', '5265', '50700', '20928', '31140', '11981', '2704', '4698', '19886', '19872', '25179', '11116', '24170', '20753', '26174', '5919', '98644', '5580', '15430', '25998', '6168', '26999', '17475', '7700', '16298', '18090', '5239', '10136', '30951', '17586', '17388', '35024', '2958', '16844', '50757', '5508', '12230', '3929', '11192', '11113', '23704', '34391', '8973', '3770', '18530', '19910', '5039', '5672', '13397', '23400', '88500', '15695', '10076', '8483', '4257', '5712', '26927', '26468', '3616', '69990,94', '11081,52', '11420', '19482', '7679', '30391', '24299', '14371', '29074', '42780', '24263', '32600', '18041', '39023', '28565', '48721', '28083', '42047,91', '10438', '23191', '2165,16', '24070', '17624', '28170', '6351', '4596', '3971', '3949', '13674', '10927', '7340', '16776', '74800', '4965', '4982', '4039', '67944', '4212,9', '11805', '40309', '20748', '24755', '4096', '11204', '15874', '10920', '13860', '20066', '14530', '6288', '23774', '18572', '6433,65', '3289', '8118', '31498,2', '12803,4', '8393', '6033', '15564', '5383', '26055', '19908,1', '18847', '14240', '29782', '7624', '25992', '31680', '27066', '41132', '12950', '96000', '19805', '32220', '17718', '19542', '15100', '11660,93', '7099', '2349', '17681,6', '3990', '12498', '8188', '27666,14', '4479', '10791', '26370', '3187', '12146', '15110', '8559', '6518', '17810', '8441', '21809', '27620', '9246', '7160', '3764', '42669', '16740,65', '15940', '33600', '8126', '6743', '12560', '28440', '14046', '19877', '8754', '21214', '4428,1', '3861', '8508', '7130', '25146', '11840', '20555', '12840', '15079,91', '3960', '29428', '20659', '26379,91', '32938', '9360', '32150', '11989', '6381', '6540', '7386', '19635', '5757,1', '23037', '17615', '25506,19', '13165', '15111', '10690', '22820', '25380', '26848', '3860', '6042', '90200', '10978', '46173', '23630', '25000', '16859', '16105', '2031', '23302', '17631', '17258', '17030', '9707,4', '18610', '5790', '9972', '6247', '18940', '27135', '3787', '12800', '18130', '2792', '33550,35', '9852', '9680', '16272', '3319', '29817', '32819', '5131', '13625', '26430', '24066', '5899', '13620', '5764', '32900', '15151', '3584,1', '20960', '32844', '3550', '9809', '17058', '5050', '6720', '15286', '30590', '96490', '38850', '3906', '4182', '9429', '20883', '32241,82', '12928', '23315', '5370', '9777', '17458', '11480', '25440', '16169', '5510', '24995', '17263', '2797,95', '6596', '33100', '18717', '14113', '3013', '19924', '19890', '4689,94', '13155', '18789', '6950,7', '12325', '63332', '14039,9', '5096', '7038', '20392', '5240', '12509,9', '27740', '18718', '2860', '23126', '5276', '72220', '2476', '15730', '20131', '9578', '28500', '22479', '10782', '10021,5', '5112', '33126', '4390,92', '72890', '47309', '16630', '16985', '13898', '12464', '7017', '7690', '20698,1', '13191', '20896', '14199', '2061', '49863', '39439', '14969', '12592', '13671', '17896', '5333,4', '36963,5', '14326', '12285', '3918', '5017,3', '18750', '24160', '14031', '4968', '16418', '22085', '5481', '8055', '14847', '9835', '27198', '9518', '29810', '24502', '10262,2', '24983', '8435', '27205', '13793', '13890', '22498,2', '50400', '12750', '18972', '4845', '8532', '20852', '6574', '27971', '42820', '24741', '20767', '14150', '26904', '6510', '20900', '14472', '6925', '2719,2', '18204', '2226', '7910', '14648', '11518', '8156', '4330', '23608', '14786', '23158,1', '11339', '5847', '12231', '31431', '14640', '20310', '24047', '13592', '3870', '7011', '5793,3', '27857', '25115', '23946', '4941', '38520', '25485', '12580', '20650', '94300', '9420', '28112', '41837', '46000', '2968', '19833', '6625', '2573', '23416', '2097', '29500', '30597', '2781', '33340', '11530', '3793', '3539', '26321', '11755', '16796', '45630', '16647', '18010', '4670', '9389', '7222', '66780', '29052', '7473,3', '13581', '31580', '14639', '51000', '4879,8', '34905', '24063', '18141', '4074', '8460', '31449', '23355', '3899,2', '34200', '23663', '29653', '7856,9', '19169', '7511', '24790', '22959', '2870', '12290,94', '18458', '5985', '91168', '10940', '3916', '3112', '50929,82', '4399', '11620', '16675', '5100', '27099', '15403,02', '38625', '29335', '11998', '8654,1', '12829', '52295', '29376', '11635', '4918', '15512', '36350', '7486,1', '22798', '11322', '6077,7', '17200', '15420,3', '12745', '47991', '67160', '11489,45', '12232', '6058,1', '11130', '13356', '6403', '15771', '12380', '26097', '29721', '42682', '7228', '3098', '21265', '18584', '3505', '32390', '28745', '24360', '18165', '24923,39', '5742', '4386', '7365,6', '7599', '7040', '8627', '23490', '5748,3', '16166', '9263', '13444', '18479', '16872,3', '13360', '47250', '10000', '22212', '6495', '4839', '9895', '13989', '18740,5', '29470', '24239', '6020', '35332', '5098', '12980', '12562', '6246', '32200', '5176,8', '10991', '7290,9', '4196', '6462', '3237', '37280,9', '23000', '34793', '4132,5', '9629', '24156', '44970', '2840', '17290', '20755', '8323', '36915', '3520', '38943', '30702', '7760', '4917', '3307', '8348', '5376', '18820', '14891', '13178', '24179', '5968', '27450', '18201', '6782', '15160', '10066,92', '21877', '13006', '11430,01', '3249', '11275', '82910', '4889', '8941', '14942', '16445', '66690', '5636', '5198', '7585', '6022,8', '6102', '5940', '14270', '16882', '20796', '6731', '25710', '30040', '5423', '27213', '53662', '83106', '20088', '16899', '4820', '35500,74', '13921,36', '2048', '61290', '16865', '21010', '24046', '18890,9', '10457', '19415', '18080', '10207,2', '16790', '3682', '16525', '7598', '11034', '24648', '23259', '19413,2', '7010', '18045', '10429', '8098', '3816', '5350', '18891', '11698', '51370', '16030', '50568', '6824,7', '4694', '24110', '61800', '25538', '10775', '3674', '6845', '11362', '13985', '15067', '4140', '30700', '17505', '6108', '13408', '15735', '6075', '22761', '24777', '75581', '30599', '21746', '25148', '3952', '23920', '3353', '8280', '5533', '4999,1', '11718,94', '16020', '26250', '3681', '81450', '37576', '10479', '29858', '9096', '19680', '6272', '36093', '18042,91', '11720', '18650', '19644', '10938', '6622', '19021', '19620', '20006', '8920', '32765', '6605', '4865', '5295', '29544', '7898', '16797', '27387', '29449', '26588', '33760', '10466', '7588', '9989', '11750', '14257,91', '32706', '8697', '78934', '8906', '7441', '15245', '25991', '24459', '22266', '8186', '13315', '4786', '5479', '4964', '11458', '11433', '11752', '2421', '5135', '20679', '7020', '29590', '25989', '12360', '5183,6', '4116', '22615', '12151', '29995', '8799', '4489', '10310', '9190', '18870', '6732', '23711', '5772', '23038', '6370', '13279', '14159', '12809', '26890', '10103', '56130', '5480', '19305', '2864', '7987', '10139', '9735', '4345', '27141', '5895', '6921', '30240', '12629', '16002', '14243', '15248', '4439', '6150', '16491', '23780', '11528', '30990', '3383', '12944', '15487', '3677', '4729', '20495', '10180,8', '29012', '8180', '5933', '13991', '28948', '12148', '7510', '5724', '53880', '33602', '5661', '13635', '8190', '25490', '6479', '13921,52', '12428,7', '31790', '13432', '32940', '5689', '8047,1', '6232', '5465,26', '15024', '22469', '27759', '15041', '9588', '28041', '2620', '17340', '27621', '5938', '20125', '29944', '8989', '26600', '6860', '6167', '20242', '30390', '7124', '23188', '15942', '7857', '8756', '45600', '6080', '27714', '18236,55', '6282', '16097', '10423', '25508', '9610', '21828', '4994', '5616,15', '21876', '10188', '4661,84', '4130', '24346', '5475', '28398', '7230', '6459', '16817', '36136', '5646,6', '36919', '21320', '36910', '7926,4', '10700,3', '15481', '13859', '8745', '2529,61', '31596,92', '10670', '12309', '10584', '17659', '27799', '40200', '6899', '4998', '13344', '14360', '16519,02', '3617', '3074', '13299', '20893', '11281', '24771', '9729', '37608,91', '10899', '24493', '28970', '4291', '10443', '29295', '3193', '19177', '85697', '18025', '9226', '7416', '8548', '24665', '8648', '6577', '20340', '7678', '6179', '31474', '5451', '3395', '17372', '9585', '24199', '4919', '13698', '21340', '8590', '2089', '22637', '7812', '30954', '31716', '8099', '10467,1', '12191', '30714', '18868', '23667', '18850', '65241', '13235', '17474,35', '22973', '5857', '4704', '19591,36', '10294', '35522', '5701', '68000', '19298', '11569', '22660', '18178', '5616', '13610', '12616', '15985', '15429', '12160', '32398', '7605', '23304,6', '5808', '14548,2', '12933', '5486,4', '16512', '13598', '7632', '6928', '10887', '10947', '59000', '37933', '10240', '4050', '16695', '8400', '5723', '12530', '18094', '23268', '23453', '7507', '21350', '10312', '30825', '5272', '2909', '10116', '3604', '32617', '14622', '5431,2', '18569,9', '3955', '9576', '20296', '5534', '70245', '26379', '7327', '3016,8', '21800', '15741', '18840', '12760', '6299,72', '14271', '29440', '2830', '26961', '20292', '56673', '11982', '8050', '20897', '16603', '9840,6', '26113', '4936', '24195', '3989', '10639', '29410', '23772,27', '3547,42', '8865', '8406', '3978', '10057', '5120', '14455', '8640', '13990', '18286', '10456', '35200', '18048', '15099', '3240', '14059', '12560,01', '13752', '7048', '10440', '9538', '48700', '10990,92', '10073', '26547,3', '14646', '10612', '7838', '13677', '74700', '21550', '23876', '11333', '6297', '38340', '26875', '21087', '16605', '21388', '23166', '10767', '28197,84', '13889', '13312', '57000', '23640', '35960', '30799', '9774', '6089', '13851', '9990,92', '8948', '18707', '7623', '8189', '16198', '23865', '19790', '39780', '6130', '2135,14', '18863', '11115', '11522', '41211', '26034', '31817,2', '3501', '10459', '2960', '37437,66', '6606', '8482', '24229', '47456', '17727', '11356', '7366', '4869,66', '23021', '21812', '4150,95', '26219', '22263', '31433', '12735', '10870', '52200', '34162', '5121', '8011', '9695', '17453', '23399,2', '41171', '11930', '4202', '34542', '5189', '9670', '6967', '35550', '7472', '35750', '2183', '10655', '17622', '27810', '5489', '10009', '25740', '9913', '10680', '64350', '16180', '15547', '34920', '24598', '11340', '8381,5', '26660,2', '21640', '3794', '6458', '34479', '20540', '22910', '14458', '56790', '19246', '10640', '14814', '36287', '34555', '22154', '7787', '4470', '11295', '9878', '8278', '22119,91', '12423', '6320', '26181', '5932', '34916', '23977', '7916', '11753', '25626', '19280', '13447', '20070', '12903', '18498', '13399', '5185', '11971', '7041', '15590', '3943', '9222', '15030', '7495', '9237', '6796', '5545', '27970', '2796', '31920', '16850', '23391', '6127', '12455', '3388', '23040', '2816', '4720', '23557', '10086', '8795', '16530', '54700', '5205', '7031', '16975', '14219', '47900', '11660', '14666', '3380', '29999', '10866', '12762', '4047', '24267', '12340', '7668', '5507', '6864', '13460', '7704', '53000', '8793', '19348', '2240,95', '4995', '28922', '8666', '66680', '28625,8', '9087', '5089', '31190', '4011', '13462', '12510', '9415,98', '3509', '41622', '3328', '7152', '20999', '5760', '4168,8', '16765', '11897', '17310', '9333', '22618', '15624', '15125', '61040', '15181,8', '25460', '4729,72', '6188', '28773', '20977', '12651', '13760', '8125', '21083', '4652', '16098', '6313', '4328,1', '4380', '2871', '24658', '23570', '20360', '25756', '14447', '7630', '22672', '2724', '22561', '14390,92', '26369', '25109', '4110', '19110', '20885,2', '4649', '13759,2', '7314', '11795', '28900', '47700', '29990', '13010,94', '13599,3', '14930', '9061', '24167', '21100', '2400', '9158', '5410', '13366', '33088,5', '3474', '14773', '17704', '86041', '18873', '14665', '12991,91', '25557', '4849', '42928', '26871', '18030', '17875', '7711', '8547', '13170', '3695', '88300', '35091', '29205', '46500', '46750', '19249', '24699,2', '6295', '14798', '14861', '4990', '27589', '20381', '5261', '22927', '7380', '2500', '51651,1', '12948', '3365', '17921', '2490,92', '30792', '6681', '6780', '27891', '32576,5', '28861', '8507', '6930', '16544', '5841', '58500', '4021,92', '12631', '41397', '9990', '8292', '21369', '13294', '25999', '6647', '2732,63', '20430', '24204', '11304', '27060', '15293', '2919', '34335', '39025', '9470', '25190', '10899,6', '22645', '20443', '44400', '7570', '3918,6', '2676', '28850', '22656', '5613', '78800', '22419', '4719', '12770', '2253', '25597', '2265', '5759', '10163', '9490', '11500', '8169,55', '6201', '17193', '12173', '15904', '69188', '11790,91', '17581,86', '23650', '9880', '13583', '11329,65', '45952', '7999', '13897', '9350', '26941', '2514', '18445', '13200', '13820', '9205', '6850', '9271', '4488', '28016', '19609,92', '17545', '10088', '27500', '32370', '32007,6', '33900', '4520', '15291', '22864', '2160', '3033', '9207', '4741', '9067', '16615', '22717', '4629', '15260', '13104', '20850', '8433', '4032', '87850', '5021', '20800', '22740', '6682', '5606', '22635', '13688', '18145', '13402', '22275', '16596', '12811', '39422', '37180,5', '3195,9', '7970', '3600', '37840', '4674', '18472', '55846', '3868', '9137', '8747', '12454', '2791', '18702', '23496', '44000', '8549', '5736,6', '20802', '11060', '14300', '10730', '14331', '5381', '5036', '22340', '26197', '11482', '9380', '10214', '3489', '32000', '23204', '3548', '26480', '7361', '6759', '8560', '36730', '7128', '14949', '44290', '3837', '36680', '26989', '25685', '28221', '25937', '8053', '11649', '6590', '10590', '14632', '39865', '19968', '10720', '15309', '30370', '9042', '7147', '5045', '26774', '10779', '24910,6', '14284', '24751', '3134', '6686', '31943', '23997', '19500', '4867', '11502', '23960', '11475', '6301', '14387', '44530', '27658,82', '16618', '15615', '22384', '27040', '17851', '24604', '11085', '19880', '11440', '8837', '34891', '17459', '3199', '11200', '19627', '5357', '9170', '22106', '11799', '20699,1', '15027', '36900', '7002', '15648', '17888', '31650', '17204', '7181', '26770', '12350', '2282', '15900', '4218', '16237', '16070,5', '5936,81', '37016', '12251', '3538', '6901', '10764', '9057', '14680', '12440,1', '8303', '20322', '23146', '4199,2', '27560', '75535,08', '17146', '2745,9', '5091', '18574', '4592', '2569', '7455', '13009', '8452', '43200', '23971', '10238', '8473', '14957,1', '4097', '11377', '14636', '13478', '11159', '4405', '11227', '3103,2', '16792,8', '10404', '6719', '26232,03', '11699', '18246', '3979', '19626', '12397', '18371', '16834', '22098', '23843,7', '5704', '7905', '5141,7', '4304', '119700', '14580', '20464', '31020', '6820,33', '3490,99', '2322', '30355', '5268', '15085', '12850', '11545', '13989,4', '29852', '18990,5', '29980', '18598', '4522', '6287', '31255', '85223', '19159', '11904', '11203', '15170', '28775', '14800', '6170', '13724', '6196', '29898', '30545', '25980', '3279', '15897', '11970', '60950', '4083', '24844', '3239,2', '2104', '29380', '6429', '8184', '11842', '9862', '14885', '82120', '6517', '14711', '2720', '28945', '9727', '8476', '11966', '37860', '7191', '82700,9', '10709', '20268', '32387', '17503', '20820,2', '5187', '92951', '28210', '13479', '28280', '21321', '22643', '26997', '18250', '6321', '18209', '11876', '22230', '27693', '26658,9', '10609,2', '9621', '6264', '22951', '7334,58', '18631', '18599', '17861', '8056', '4044,6', '13776', '7259,8', '25960', '6887', '5942', '22299', '24885', '5646', '26896', '5699,25', '5030', '10990,2', '3405', '2070', '3821', '9559,8', '13699', '12310,91', '7037', '26311', '24800', '26555', '15461', '4860', '11646', '11298', '3173', '13641,3', '23895', '13915', '5750', '7673', '20433', '5635', '22944', '23373', '19440', '25628', '12478', '6446', '29336,4', '20919', '3819', '7123', '17373', '30430', '19587,63', '18649', '30800', '8719', '99000', '24569', '6113', '6310', '16422', '8164,56', '15039', '9536', '16501', '8570', '11069', '12780', '17112', '6571', '37095,2', '19410', '12276', '11935', '17670,6', '27077', '15765', '20779', '9849', '4804', '19960', '7755', '25749', '24458', '19810', '85400', '93000', '16519', '26610', '14725', '6239', '45900', '19580', '26020', '8929', '33097', '13590', '7698', '4828,7', '6325', '31792', '24795', '19928', '30686', '5448', '12720', '13656', '71600', '25831', '20536,1', '11653', '12372', '2079', '4800', '28475', '22930', '9996', '19275,91', '8856', '19417', '6087', '18110', '23170', '11911', '29487', '15642', '8815,5', '13764', '9010', '8136', '2730', '3752,9', '3928', '6758', '8096', '9606', '17940', '13965', '15602', '28727', '19611', '16000', '17324', '38877', '17043', '29450', '5610,7', '21042', '18210', '43376', '22990', '9990,2', '83871', '23009', '4278', '3284', '14600', '7174,6', '30110', '31702', '14402', '14185', '3348', '16992', '9814', '14870', '16989,92', '25385', '9245', '29030,6', '5913', '11212,06', '3528', '19993,4', '9422', '5650', '7231', '15943', '4570', '11659,85', '27110', '31538', '6918,34', '8762', '2785,44', '39254', '22350', '47899,5', '18861', '4945', '16290', '28206', '42689', '11610', '18857', '15550', '84558', '27470', '24272', '13277', '5391', '17073', '7170', '5109', '3850', '34630', '7337', '18100', '19400', '6558', '19847', '20581', '13792', '20129', '23580', '9923', '2123', '79500', '12500', '24260', '14050', '42880', '21582', '25301', '11789', '12798', '16868', '5855', '8095', '9891', '19140', '13733', '17439', '15307,2', '4315', '6104', '32175', '12450', '24905', '32540', '11735', '17694', '6481,8', '3591', '17950', '13455', '86618', '28242', '11279', '10099', '4360,91', '6651', '26189', '17390', '25340', '25498', '4383', '4986,5', '13955', '50678', '3205', '21598', '8598,6', '6893,7', '26310', '16289', '23510', '8167,5', '26163', '12947', '20054', '43600', '11510', '30280', '12028', '2884,5', '9497', '14611', '5432', '24490', '21021,9', '21998', '18978', '3430', '10555', '10216', '17111', '63000', '12589', '10528,3', '9223', '5144', '19197', '21703', '20050', '30011', '19687,5', '11266', '20000', '22317', '22792', '2421,9', '28186', '20237', '56277', '4770', '20385', '16849', '2351', '7138', '28090', '14380', '5770', '15466', '9651', '3312', '16390', '27506', '18162', '14260', '29975', '41175', '17680', '9860', '27017,16', '14878', '5570', '24695', '14062', '5586', '2524,5', '5568', '11700', '12993', '16950', '21446', '13281', '17772', '21653', '32320', '11685', '13805', '5026', '11997,2', '50098', '31730,91', '11687', '15770', '3340', '19780', '8928', '11739', '2240', '16598', '23950', '9040', '3699', '36194', '3668', '41125,88', '29770', '11615,4', '4250', '4463', '80973', '10315', '35739', '24404', '39900', '3560', '12947,2', '15444', '21654', '22233', '33920', '59200', '99540', '15914', '12726', '7980', '19120', '10757', '14588', '14060', '7574', '11930,92', '30418', '32183', '51875', '6279', '74000', '2190', '3176', '24336', '8674', '26854', '26375', '25492', '10209', '4456', '17607,33', '6560', '35767,4', '20550', '6951', '14172', '14091', '46041,85', '81743,87', '44690', '35600', '17594', '8910', '10238,82', '11529,91', '9427', '23050', '8298', '5930', '4752', '7235', '78150', '11000', '9477', '31200', '66980', '4512', '19571', '43380', '6451', '26999,1', '22040', '12989', '11648', '7581', '34980', '22543', '10891', '19540', '5865', '28684', '24998', '31588', '5280', '23300', '16561', '3263,8', '30720', '2998', '12590,1', '10841', '6834', '6740', '4494', '18105', '26353', '44500', '17220', '9315', '63271', '10904', '37818', '24760', '19342', '13709', '4090', '3448', '10331,1', '6721', '6379', '19503', '9059', '31700', '25633', '13050', '25253', '20992,78', '16750', '8464', '3647', '70705,96', '9800', '65250', '8070', '6434', '29266', '11042', '4791', '22427', '25133', '16669', '8289', '4826', '4840,65', '12558', '15040', '29722', '5925,1', '24599', '19738', '28966', '7824', '64500', '5785', '12890,92', '39020', '5020', '13016', '9899,1', '5490', '60619', '16547,3', '18799', '2612', '2552', '18999', '6090', '26339', '8027', '5408', '12095', '9461,5', '6136', '58947', '9301', '14446', '6835', '6475', '24210', '18602', '34280', '11330', '7183', '9550', '26650', '8293', '34154', '14929,92', '3276', '27196,1', '19082,3', '2979', '10295', '4759,6', '59661', '2689', '10052', '23620', '13875', '18553', '19775', '10361', '13386', '5555', '17647', '3186', '28224', '23613', '8901', '12792', '3708,9', '27545', '17330', '31096', '26279', '20575', '21819', '20648', '22493', '9688', '11205', '9995', '8577', '10523', '4666', '81672', '9344', '18490,91', '7587', '16182', '2878', '84300', '3961', '27645', '22329,67', '13375', '21482', '5592', '10110', '40581', '6656', '23999', '7150', '5282', '31726', '26099', '21808', '13257', '27100', '3198', '11915', '22819', '13720', '12518,5', '29475', '42436', '10490,91', '19748', '29760', '10529', '22488', '42180', '15228', '18074', '14399', '7098', '4746', '17427,33', '19950', '3740', '40084', '15394', '3800', '29396', '12100', '6021', '32499', '5298,1', '2975', '5848', '10998', '18185', '9490,92', '15236', '2489,4', '12290,9', '12097', '5543', '16170', '4322', '17994', '24667', '4640', '35326', '9950', '19530', '22900', '3767,1', '5218', '25454', '11175', '21022', '17117', '10515', '99463', '19085', '43500', '18547', '6097,5', '25256,89', '10815,1', '62800', '24510', '39627', '8228', '23558', '10713', '13087', '27598', '11855', '18450,8', '9663', '20488', '27219,31', '25650', '28557', '17643', '8068', '3690,82', '9405', '24390', '3418,5', '28715', '4583,7', '45180', '11352', '6199', '72885,57', '10060', '6883', '16800', '29395', '12902', '14420', '81612', '2957', '18060', '26462', '23358', '32450', '26690', '5643', '22235', '10394', '5199', '7228,2', '13774', '5834,52', '33280', '7680,91', '9720', '14195', '11779', '8812', '3304', '11331', '13474', '22213', '37100', '94330', '10850', '23448', '17909', '16732', '8519', '17432', '9994', '6982', '11586', '29006', '16799,4', '29070', '2797', '17930', '9888', '10446', '9495', '14625', '5931', '3035', '8816', '8110', '10268', '12373', '5729', '23940', '5900', '8100', '3923', '27965', '12056', '18392,91', '11053,8', '7288', '8487', '3888', '13205', '28010', '5832', '19658,1', '92600', '7435', '6346', '13865', '24357', '17990', '10706', '32481,83', '22980', '9917', '20989', '38553', '2310', '7754', '31180', '59629', '42899', '6445', '24000', '3389', '6474', '78000', '15705', '4619', '17553', '15962', '18898', '15346', '6390', '5289', '20435', '8685', '43866', '11220', '3147', '42135', '17826', '9949', '9412', '22292', '4035,2', '38640', '7780', '11303', '11705', '45672', '5469', '17378', '21980', '19600', '24600', '3537,5', '21778', '7638', '9580', '17490', '90691', '15460', '3655', '5043', '7336,3', '16063,29', '33000', '2215', '48800', '15237,1', '10810', '3902', '39729', '8102,08', '12088,12', '17199', '14651', '7768', '10070', '8033', '12032', '13748,5', '5064', '5088', '29312', '6885', '3375', '16547', '26665', '13624', '10860', '5645', '28120', '12412', '6989', '22116', '36952', '22483', '91536', '3128,2', '4589', '23579', '14820', '24291', '24520', '15655', '3493', '24630', '11441', '5335', '11898', '8789', '15164', '9347', '14913', '5600', '22872', '9741', '11301', '20428', '4290,92', '8540', '10079', '29780', '33725', '25330', '4400', '32085,4', '11701', '28258', '10756', '5389', '16774', '89000', '22949', '41130', '25898', '36667', '3547', '4725', '6649,2', '25015', '19770', '5444', '8200', '10512', '16065', '5720', '3874', '21080', '6546', '39300', '48100', '10989', '19205', '44938', '5692', '26455', '11595', '14551', '15696', '22955', '67795', '6514', '14281', '8153', '14378', '8311,29', '28425', '3089', '25503', '18550', '20475', '4042', '10477', '25911', '13421', '9768', '8877', '13238', '23684', '11030', '17450', '2555', '22121,1', '13280', '39720', '5270', '17064', '82650', '11466', '18917', '2030', '17162', '26251', '33730', '3128,4', '6399,2', '5799', '8991', '84500', '27880', '76432', '21907', '3835', '30477', '31399', '8881', '8429', '30250', '12344,4', '23896', '10580', '10525,01', '20646', '14333', '25730', '20636,91', '25570', '12791', '7919', '5450', '13921', '4642,65', '22710', '10185', '5575', '26431', '34890', '8169', '19983', '22490', '50300', '12512', '14146', '16874,4', '95000', '19993', '24295', '6650', '7659', '22781', '5806', '2043', '13208', '6970', '40391', '6763', '12895', '40534', '17339', '14338', '33996', '26000', '18599,4', '35070', '2907,9', '25520', '23595', '13495', '9780', '20871', '6909', '18215', '21069,8', '3876', '16199,1', '28400', '17451', '7285', '23341', '23399', '12096,2', '3179', '8651', '10274', '15475', '35955', '27498', '20280', '13665', '21296', '30422', '23715', '6610', '7057', '7195', '5665', '4270', '17395', '85742,8', '14890', '39500', '4533', '37150', '13895', '11136', '16040', '6692', '16450,71', '34779', '12713', '6125', '20789', '10174', '19746', '4290,95', '4398', '3185', '11368', '3659,5', '20657', '9787', '37495,2', '23377', '14268', '6873', '6100', '20498,1', '13365', '27664', '16649', '8227', '13488', '5846', '16966', '38058', '3434', '19716', '51750', '13059', '6065', '10348,2', '9675', '11348', '5746', '24649,2', '25585', '97500', '34804', '63320', '3829', '18707,1', '12690', '7876', '15863', '11020', '8978', '5207', '16403', '4879', '6138', '25641', '4175', '23095', '8080', '22400', '18777', '18878', '14705,95', '5162', '11990,2', '15575', '8788', '24985', '13499', '3386', '18398', '20950', '32710', '10300', '6879,84', '32790,9', '18528', '9979', '3717,9', '26538', '24449', '28151', '14025', '13265', '11063', '80000,64', '6380', '24960', '24399', '10212', '16490', '20833', '12120', '6922', '73996', '5539', '11040', '2250', '33434', '22561,6', '12452', '14672', '10780', '11048', '7874', '5333', '9652', '20140', '25620', '19797,1', '31415', '13456,82', '22455', '8794', '35369', '24190', '60500', '6619', '8149', '8980', '16600', '26461,91', '18727', '24061', '8059', '2440', '26212', '6527', '8450', '39638', '8510', '13645', '25810', '4935', '9830', '8599,9', '41000', '11830', '27146', '16616', '7869,61', '16692', '3391', '27237', '5170', '4545', '34660', '17098', '9997', '4228', '6409', '14332', '35990,92', '11623', '9955', '16838', '11047', '13115', '20645', '6916', '21685', '22068', '7281,94', '12679,92', '84630', '12389', '82800', '60700', '6535', '7335', '12733,5', '17854', '3135', '59760', '18330', '20477', '9728', '6999', '3856', '7619', '23660', '5995,46', '10925', '31196', '11565', '7922', '13439', '13287', '20949', '20988', '11765', '8297', '17802', '15434,3', '12978', '12023', '6585', '19296', '21082', '17422', '28464', '10657', '10570', '31100', '17803', '3001', '7083,05', '5531,8', '15127,38', '41720', '9116', '6390,95', '15995', '9276', '13190', '11088,5', '12899', '32810', '5150', '24552', '2000,51', '6098', '25748,2', '4230', '2961', '29493', '36480', '12935', '32391', '25720', '7480', '10523,7', '16357', '5535', '3580,9', '16425', '14563', '25546', '7580', '8741', '5664,74', '6231', '28490', '30954,64', '39960', '4121', '17106', '9513', '14880,07', '19545', '11880', '32800', '10279', '16814', '41600', '10695', '19116', '23274', '7639', '9160', '8097', '5305', '16107', '3390', '4079', '10431', '3743', '3784', '16149', '19491', '6205', '18299,9', '30999', '6600', '11299', '27642', '7664', '37233', '30596', '21658', '17593', '3294', '4336', '11243', '12465', '3578', '29372', '5296', '21500', '21076', '4029', '28752', '30372', '7544', '9654', '8138', '16090', '11211', '9622,77', '19017', '30974', '10969', '9825', '31480', '19316', '4738', '9970', '18012', '17089,9', '25155', '9290,91', '9586', '19700', '6049', '3520,8', '13887,68', '11899', '19419', '25227', '4580', '45480', '19976', '22522', '29851', '20295', '22898', '4952', '37881', '14295', '20706', '5085', '30300', '22674', '20820,44', '6935', '6215', '25200', '12382', '3444', '6030', '21038', '25491,5', '2538', '5038', '30510', '7539', '26641', '16317', '17380', '16833', '7317', '7470', '38389', '10660', '17684', '70047', '3356', '7280', '8379', '16045', '5529', '8065', '22310', '38401', '29445', '30400', '20197', '12698', '18361', '13910', '15398', '12059,1', '9399', '9009', '4582', '11576', '18790', '11010', '7800', '4938', '4539', '3045', '33330', '23280', '26049', '21844', '5690', '13232,88', '12987', '6893', '13465', '5571', '59398,2', '2773', '22969', '8564', '8598', '5365', '7178', '10970', '5498', '5946', '13455,4', '33075', '24764', '7713,42', '37415', '15875', '6498', '3925', '17575', '22346', '14775,71', '10579,91', '14140', '15989', '21938', '16898', '20179,3', '3530', '22200', '17360', '72998', '11448', '25683', '4216', '14998', '11182', '3746', '25881', '7019', '11389,2', '21619', '7947', '71880,3', '4679', '18135', '11392', '18502', '33400', '83078', '15468', '18356', '13640', '17640', '6903', '19331', '10936', '11990', '50330', '11239', '23230', '3077', '8550', '3000', '4221', '22320', '25145,79', '9740', '14904', '13180', '8763', '10768', '4949', '7996', '6300', '19448', '26750', '6654', '20095', '16830', '8979', '37950', '14938', '7968', '13835', '13197', '12782', '13500', '4318,2', '3854', '8581', '11637', '26915', '26115', '31450', '16050', '13934', '26355', '24326', '40707', '12451', '6567', '26114,4', '23331', '16602', '22110', '14744', '17623', '37046', '23395', '21580', '7527', '11792,5', '21994,73', '35943', '41620', '6193', '14147,1', '18693', '41170', '6487', '3988', '16457', '42657', '31695', '12209,5', '26800', '94358', '8595', '18589', '17215', '6947', '42281', '25870', '6004', '14450', '20620', '40000', '86449', '20190', '8295', '25574', '5928,1', '21243', '22369', '19857', '9845', '3645', '35700', '14388,3', '24188', '4491', '17720', '19905', '43682', '7540', '7050', '11900', '6705', '15571', '13980', '14487', '15427', '6140', '9308', '9978', '13030', '7040,92', '34500', '7132', '5909', '14658', '5898', '25500', '5629', '18692', '21591', '10047', '17387', '10318', '7394', '6990', '29942', '20084', '6102,19', '25445', '3610', '20720', '5371', '4590,2', '3795', '19883', '7742', '10600', '19474', '33230,6', '56600', '33670', '12941', '11674', '5745', '26668', '16798,2', '7074', '19170', '5505', '18689', '24354,62', '12508,2', '18006', '22889', '6539', '30627', '4004', '4025', '25105,1', '7486', '70300', '2158', '71243', '39600', '20275', '26698', '23792', '23290', '20992', '11525', '8798', '13024', '8020', '40509', '18374', '16976', '13522', '2325', '2415', '3675', '14891,92', '6642', '20695', '16481', '4446', '41100', '16320', '6917', '7815', '7505', '5178', '3897', '9557,1', '3970', '23730', '6397', '19330', '3476', '11446', '14856', '31960', '25537', '12396', '10912', '23154', '13448', '18367,21', '14232', '21805', '29332', '7620', '6200', '18459', '13491', '8343', '40248', '9960', '21128', '12509', '3395,1', '21673', '3330', '9956', '25413', '9799', '25439,4', '17701', '4369', '4761', '22480', '28858', '7348', '7460', '8215', '5415', '16185', '25893', '27208', '7534', '7310', '3799', '9660', '6120', '19443,5', '6876', '9090', '5103', '7084', '13157', '4534', '21097', '15320', '11642,3', '44495', '5173,2', '10792', '7660,42', '6333', '3823', '24241', '8360', '8387', '14866', '26467', '4802,54', '7604', '10710', '38312,5', '7173', '14133', '8876', '3879,17', '72500', '19538', '23365', '14310', '49490', '7766', '16991,5', '16197', '13039', '22133', '24700', '14365', '34325', '11412', '6570', '42930', '16697', '20079', '22160', '31491', '5084', '17261', '27665', '30455', '7975', '13080', '32770', '21960', '50140', '11286', '10880', '8360,92', '3930', '43400', '31282', '7647', '30330', '15831', '3720', '14176', '98000', '20903,5', '11778', '34999', '23226', '16048', '14092', '49000', '19156', '7219', '4940', '3119', '16140', '29592', '3019', '7063', '13490,91', '5483', '47529,91', '15518', '23089', '25225', '4088', '6039', '10241', '21120', '45506', '10424,6', '47195,92', '40375', '14548', '9129', '8130', '15231', '23989', '8386', '4464', '45908', '3855', '30060', '9330', '29598', '45034', '7689', '27434', '6598', '3542', '10999,9', '7816', '6130,8', '3442', '4878', '5230', '44415', '9823', '17850', '15000', '16682', '7373', '6014', '7179', '9165', '14885,91', '5863', '20698,2', '9546', '14927,83', '7718', '5110', '17025', '59761', '17730', '4874', '5434', '4242', '21400', '8038', '12011', '29214', '7595', '20379,5', '9595', '7848', '29334', '4765', '6093', '68430', '21645', '29209', '12417', '9290', '18064', '2340', '33660', '15780', '53673', '14980', '17251', '4735', '26479', '9573', '12260', '19037,2', '23488', '8480', '12318', '41154', '18955', '12897', '12527', '7084,28', '13228', '23593', '24650', '18304', '11996', '12400', '20979', '14854', '13371', '61000', '13670', '10245', '23205', '28000', '46197', '12170', '9886,1', '37305', '29345', '4425', '19490,6', '4595', '3210', '13570', '89196', '6840', '10169', '29075', '8389', '14526,8', '5735', '27510', '16190', '7788', '2398', '5384', '8000', '4853', '20277', '31252', '20313', '29790', '53162', '11170', '13084', '25240', '5860', '5963', '22836', '5197', '27080', '37177', '4107', '16575', '6906', '4010', '13227,7', '4692', '2680', '3303', '13494', '9085', '4996,8', '9077', '12906', '28770', '3666', '4314', '16200', '24999', '25623', '3602', '11992', '11975', '93800', '16949', '13018,1', '21464', '7291,85', '7977', '34119', '6299', '19709,1', '17920', '10464', '7600', '8087', '15498', '3561', '4807', '30520', '52000', '22102', '8580', '5275', '59009', '7207', '35640', '6854', '35230', '11217', '11381', '12061', '43000', '5788', '24780', '2498', '17090', '16150', '3555', '34199', '4360,5', '5516', '65273', '8239', '17009', '38316', '31800', '36323', '7994', '21915', '8037', '20715', '5220', '11749', '6539,91', '5707,4', '23260', '50898', '12784', '10341', '30925', '25695', '19828', '8833', '4475', '9866', '25140', '8825', '13567', '6668', '17990,91', '25350', '14489,2', '2889', '34046', '10672', '2973', '37752', '23976', '27300', '34341,2', '27016', '9889', '4915', '13600', '28208', '7200', '4269', '11575', '4497', '60020', '28070', '7260', '18085', '5456', '21286,1', '12972', '28509', '2065,5', '13134', '16823', '6378', '4664', '18123', '7398', '4700', '2843,58', '6086', '6787,8', '15596', '6792', '24607', '49444', '21295', '7578', '7089', '22168', '3158', '16993', '15360', '15579', '26910', '15806,5', '6245', '4472', '2225', '8339', '41292', '8410', '4076', '2420', '8249', '21338', '10347', '28551', '17910', '33475', '4438', '5670', '12425', '10981,82', '8285', '28641', '80676', '27228', '9150', '9986', '25829,1', '22780', '11259', '24864', '6324', '38070', '7556', '9550,82', '8517', '5181', '9721', '5888', '3910', '7258', '6659', '20630', '10048', '31646', '18216', '23539', '7169', '22654', '97000', '9349', '12496', '10993', '27052', '7799,2', '10113', '8690', '20510', '36700', '10546', '18321', '35145', '24945', '13286', '36600', '46695', '29949,7', '21717', '9410', '13580,5', '12983', '7669,8', '29917', '12550', '12705', '6092', '9899,92', '16510', '22032', '10542', '13366,2', '7307', '7892', '20710', '11470', '6400', '7454', '7269', '75587', '33662', '30918', '3540', '4548,6', '18698', '26401,53', '32114', '3779', '17597', '8755', '8730', '29400', '3512', '28476', '6477', '24889', '7242', '7516', '15744', '13715', '76000', '14272', '25558', '3904,3', '12190', '13880', '3088', '5596', '34562', '39400', '8723', '9816', '11151', '10634', '18734', '20478', '7250', '3852', '2650', '4135', '4788', '3346', '7847', '13800', '24408', '4546', '3061,45', '33721', '17558', '9480', '3339', '3117', '3429', '16766', '5353', '17625', '19464', '9801', '11570', '19920', '4036,5', '4797', '3448,8', '4252', '4395', '26460,92', '14553', '19556', '10080', '15233', '32992', '30841', '18447', '4930', '12138', '19999', '10903', '26457', '6549,83', '18290', '5193', '4662', '6813', '3637', '19429', '50940', '26346', '32494,48', '21594', '13785', '15084', '22970', '18890', '11154', '32312', '13469', '15865,65', '12581,89', '15832', '10917', '11445', '6299,2', '76550', '13351', '4413', '20005', '12288', '12330', '13063', '11100', '6662', '4978', '12347', '4311', '23737', '32265', '6652', '15045', '24867', '15860', '40313', '2438', '11376', '32907,5', '2460', '14385', '20072', '18415', '35557', '14098,1', '11075', '3385,83', '19926', '4290', '42300', '5978', '25680', '12899,1', '6375', '93060', '8319', '7385', '25615', '6136,58', '3960,9', '22526', '3138', '28845', '18885', '11021', '38832', '28622', '17980', '4856', '11195', '27588', '5977', '6185', '9323,93', '3254', '23563', '13010', '3741,34', '65629,5', '3108', '6273', '4281', '19343', '20862', '4455', '21470', '3996', '2520', '3406', '4416', '3840', '13410', '12189', '15602,5', '31221', '10525', '21919', '7357,9', '18910', '9097', '10638', '2165,4', '7998', '8220', '30170', '17091,9', '7493', '16940', '8757', '5669', '8370', '33573', '13615', '3497', '7092', '16395,78', '15115', '40410', '28971', '5449', '19439', '27536,65', '24112', '12040', '15280', '6419,78', '6238', '22356', '31080', '7039', '53499', '15677', '3355', '2629,8', '17839,92', '6036', '11489', '72896', '44900', '8314', '82162', '14618', '26170', '29580', '5839', '10557', '9417', '13952,73', '16550', '16900', '19245', '7931,96', '70410', '19010', '19528', '4645', '14250', '19570', '3063', '3502', '8159,06', '18495', '4634', '19674', '37400', '9770', '24752', '5090', '16773', '19068', '28598', '9793', '2592', '37517', '26700', '6148', '14147', '35430', '22825', '8689', '13830', '24772', '3639', '6186,7', '13122', '25662', '21025', '27102,5', '22960', '12460', '18357', '12121', '7541', '24103', '32041', '24870', '11212', '16738', '5589', '29948', '24233', '6358', '5099', '12747', '4599', '42888', '22498', '20297', '25406', '10605', '13263', '9545', '2679', '4200', '22850', '9484', '16199', '14860', '4990,92', '7101', '7622', '17966', '27499', '16443', '7954', '21964', '8990,9', '17129', '14230,6', '26980', '21526', '43880', '5388', '10248', '3070', '28275', '24301', '5724,2', '11507', '15533', '26524', '14004', '3510', '17955', '6824', '29480', '20751', '17723', '16629', '24215', '16214', '18370', '19602', '3085', '16760', '5460', '21596', '13051', '18230', '31560', '21225', '16039', '22330', '14805', '30684', '23994', '4624', '13060', '15080', '2239', '15017', '41609', '6898', '3792,92', '4754', '16908', '29905', '8811', '31224', '2300', '41929', '24485', '20461', '8091', '11659', '5528', '13443', '3987', '18360', '21239', '22555', '12733,35', '21312', '12820', '32846', '7358', '8879', '3830,4', '13929', '67500', '19984', '9457', '9786', '8667', '37768', '12646', '35950', '40500', '52469,87', '3440', '84629', '56000', '10884', '13652', '9371', '12872', '19923', '22464', '7888', '10287', '47829', '10729', '12070', '6109,06', '24392', '2370', '4099', '3156', '15345', '25211', '13140', '50879,83', '8840', '11288', '14320', '18615', '12424', '3349', '6073', '24460', '4454', '18690', '9596', '16989', '25568', '16621', '13440', '8424', '19899', '7190,94', '4292', '17462', '8536', '48600', '21012', '19055', '10250', '4633', '14456', '12570', '8489', '9203,4', '5715', '100000', '27390', '5126', '15525', '6734', '11202,3', '82170', '20263', '4473', '9620', '6522', '35683', '14348', '10015', '10183,4', '4239', '7129', '30471', '21838', '17134', '6848', '3832', '12470', '23216', '23511', '16888', '24822', '10591', '29750', '38250', '4100', '16551', '10992', '16057', '9326', '14678', '30850', '6323', '39000', '15625', '14230', '20060', '11797', '3270', '55809', '30735', '23128', '9255', '7293', '10286', '32975,3', '6768,1', '35910', '10861', '29120', '6350', '13350', '7979', '4487,4', '5399', '30603', '8434,1', '6174', '9710', '22692', '14000', '23797', '5515,95', '40470', '15440', '3883', '2633', '12385', '20102', '9498', '13879', '27005', '14410', '33192', '10382', '35563', '19975', '13843', '31900', '22588', '11410', '58670', '7194,72', '18691,5', '3850,85', '3196', '6707', '17280', '31833', '27750', '14076', '3392', '10995,9', '18603', '17091', '8866', '9048', '39830', '11505', '7845', '4355', '15709', '6480', '18889', '30544', '21821', '23695', '8556', '19544', '22977', '19640', '28059,81', '2699', '8380', '15499', '5109,2', '5055', '4349', '5154', '2909,95', '4858,1', '26543', '28630', '35520', '4215', '13172', '3481', '16114', '19751', '12531', '10346', '9443', '17911', '7319', '13288', '23350', '29386', '30197', '14570,9', '17039,91', '7140', '26907', '16627', '20626', '17770', '2907', '20059', '19008', '31810', '7974', '27098,6', '9711', '6497', '9035', '23279', '11394', '15352', '4057', '4422', '31499', '7972,6', '8310', '2601', '29660', '24608', '25299', '10665', '15450', '2457', '25778', '28300', '4707', '7348,52', '87704', '7190', '24907', '18647', '11264,25', '24570', '40180', '30324', '5608', '29065', '4650', '10804', '8703', '4769', '17272', '7114', '25855', '23382', '35529', '3888,48', '19885', '6983', '69730', '9280', '6559', '10474', '3305', '3808', '12408', '4890,2', '21105', '150000', '8221', '12247', '32644', '25990', '37710', '6494', '20869', '4816', '5210', '28879', '13270', '4237', '19477', '4648', '18805', '36897', '22530', '26790', '11409', '27493', '13433', '8120', '20792', '11924,64', '2470', '12366', '9593', '15565,5', '27960', '15587,1', '2790', '12410', '18481', '10010', '4985', '15038', '8453', '9940', '4240', '16381', '19853', '22158', '21279', '28386', '3220', '2120', '10200', '27550', '19610', '26634', '18206', '13992', '12320', '22905', '4780', '7492', '29607', '13949', '20530', '13320', '9592', '3898', '32421,5', '4387', '27276', '9669', '28238', '30310', '13370', '29700', '20326', '16470', '5199,2', '8742', '12393,91', '14660', '12443', '7035', '24174', '8001', '26959', '33344', '18962', '43631', '5380', '6593', '11850', '9902', '26874', '6819', '5966,7', '9979,5', '19509', '13821', '15889', '2189', '5309', '10890', '2817', '23160', '8890', '8832', '17250', '13630', '16261', '16330', '16160', '5889', '41744', '8957', '7452', '16260', '21484', '13577', '20971', '3636,9', '13020', '30580', '11941', '5640', '26340', '77800', '27855', '11114', '14206', '17254', '25360', '3688', '4044,3', '8416', '22244', '11456', '32500', '24833', '32100', '13563', '25031', '9754', '15214', '16751', '8715', '10398', '28294', '6680', '9515', '6900', '35995', '7386,75', '18900', '15210', '2099', '10836', '7909', '9892', '6115', '22510', '9004', '9963', '14589', '7917', '10616,4', '15650', '21665', '17359,7', '28055', '15442', '31398', '3947', '45750', '14690', '35775', '3327', '11385', '4357,1', '11349', '8398,1', '9250', '10400', '2372', '18711,05', '21635,81', '4360', '9764', '12564', '5478', '15920', '11309', '9810', '13156', '10447', '39120', '6029', '23517', '7498', '15501', '15857', '15839', '12734', '5373', '8324', '18260', '5605', '12737', '7279', '7224', '28360', '15252', '12493', '4999', '4030', '18207', '25587', '32850', '8892', '5139', '5290', '34900', '25713', '22214', '2245', '19020', '11665', '4743,68', '4842', '6657', '19986,4', '22880', '11690,91', '7645', '20030', '26970,6', '14540,04', '48000', '6377', '12742', '39705', '11277', '61200', '21810', '27149', '14481', '7410', '28999', '23598', '11454', '18740', '55174', '9127', '5155', '4880', '18150', '21920', '7840', '54264', '33250', '26070', '5886', '61973', '9169', '20786', '11748', '13269', '15327', '6948', '14520', '5991', '8918', '21209', '2974,15', '15919', '6189,92', '29719', '3025', '26241,6', '21597,8', '12598,2', '12427', '4209,2', '5548', '61250', '16428', '13318', '7513', '4260', '18996', '35130', '12466', '4708', '31350', '9702', '28110', '7819', '18719', '10968', '5168', '5775', '4095', '3432', '12511', '3490,91', '6219', '21237', '18700', '3407', '37360', '6691', '9167', '4569', '15697', '8725', '15895', '24580', '3894', '42400', '5610', '24694', '14978', '37350', '40240', '45495', '25236', '19970', '5761,9', '20253', '9530', '17760', '15300', '25080', '10390', '14083', '14631', '17235', '2041', '4452,91', '17203', '11615,1', '21717,92', '4461', '9879', '17227', '6690', '18500', '7530', '21220', '19200', '21123', '25936', '55500', '5818,5', '20600', '11093', '16045,2', '39200', '17688', '15900,5', '6281,83', '7120', '10616', '5260', '10695,13', '47000', '33101,82', '13979', '22528', '6550', '20300', '23990,83', '11908,24', '21398', '11300', '19049,13', '13797', '19103', '22097', '25840', '3329', '18830', '22799', '17763', '16379,3', '12531,94', '7890', '29668', '6855', '30980', '22240', '14391,2', '4440', '22888', '18838', '7795', '73300', '13148,83', '9349,92', '81900', '11460', '27535', '21610,6', '26489', '6372', '6730', '9215', '28580', '12822', '19083', '4155', '33653', '13539,2', '17298', '14571', '7609', '90645', '6278', '6365', '58000', '3268', '13689', '30216', '29599', '14920', '11877', '12229', '25625', '20499', '2389', '6340', '14560', '28431', '7991', '4925', '56310', '15034', '6985', '14058', '29920', '6709,5', '6892', '13644', '18050', '18839', '33978,63', '34020', '22303', '29860', '17075', '28990,91', '29680', '10025', '23959', '31070', '7849', '5602', '11416', '16748,1', '29526,12', '19190', '4830', '12952', '5169', '12298', '11995', '87786', '19525', '26820', '17010', '13907', '4549,92', '44789', '8515,7', '27680', '28338', '17493', '35990', '13166', '27885,2', '7449', '19959', '12597', '27290', '14717', '87880', '3467,7', '34641', '16789,98', '6430', '18624', '5267', '9514', '17673', '13971', '10953', '9240', '13459,95', '12554', '56950,61', '7395', '15102', '27599', '10964', '14514', '6399', '13106', '35250', '9489,92', '18882', '15120', '2248', '76050', '51900', '22457', '72579', '4509', '28661', '16783', '6958,92', '11135', '10319', '4635', '11345', '11574', '17660', '21870', '16203', '19740', '27170', '3087', '6415', '3579,3', '10530', '10128,8', '12996', '16322', '22617', '28674', '14110', '35090,92', '8960', '96860', '12520', '14201', '10541', '4378', '11178', '11290', '41829', '28430', '7498,9', '7860', '5748', '5157', '13248', '15162', '21216', '19189', '17076,2', '11819', '10470', '8984', '15795', '17029', '12289', '46671', '3492', '14669', '4014', '9204', '6777', '93947', '9568', '20143', '23480', '14330', '3080', '2428,2', '31250', '30131', '24930', '31290', '38386', '22302', '6556', '2088', '10795', '79679', '21650', '26930', '5890', '11231', '7551', '3029,1', '18403', '24871', '15822', '7839', '10213', '20568', '20225', '9520', '22139', '12695', '21710', '2412', '15725', '7767', '11078', '5180', '14177', '29285', '28781', '22210', '6999,3', '16413,82', '11690', '10755', '20519', '30930', '6990,92', '9140', '14028', '3128', '7858', '16988', '26188', '22185', '5346', '13450', '25137', '2054', '11550', '15035', '10434', '6118', '24035,5', '12059', '5922', '7533', '2934', '17379,99', '19080', '11776', '18535', '35300', '13409', '9282', '28750', '5211', '3204,9', '5404', '21560', '9300', '5330', '12295', '19168', '7740', '10352', '21480', '3750', '44179', '4008', '20771,7', '12984', '6398', '15593', '26760', '9385', '11563', '13933', '39240', '19990', '5768', '6165', '3105', '12310', '16893', '2380', '25758', '66578', '25660', '5003', '13678', '14290', '24389', '37880', '13913', '6180', '2550', '18049', '6639', '5801,4', '27600', '27150', '3725', '23460', '5051', '30738', '10686', '7611', '75360', '18582', '4818', '27257', '24721', '11350', '12365,2', '15493', '33598', '23150', '4262', '20497', '82643', '9274', '24080', '19240', '21739', '17247', '13558', '18310', '6580', '3090', '38898', '9985', '9983', '17988', '16031', '3658', '78120', '20927', '17880', '6453,9', '22380', '28913,76', '8129', '2331', '10805', '3636', '19229', '19113', '7240', '12228', '19547', '17885', '13978,11', '6421', '24317', '5995', '27166', '29661', '10750', '13267', '13193', '17773', '19799', '13382', '27673', '13623', '6088', '18517,1', '16364', '10147', '22438', '19745', '21940', '20619', '7878', '10785', '7080', '9372', '15699', '4310', '25760', '3836', '11870', '5190', '9934', '18784', '37857,2', '3739,2', '22391', '22192', '18477', '17838', '14852,7', '14081', '6748', '2835', '33588', '22600', '5989', '22080', '11811', '13948,2', '12379', '7937', '38406', '10370', '39980', '19660', '16489,9', '24403', '13181,81', '16613', '17572,68', '3048', '6261', '2788', '25750', '6096', '13078', '9742', '10166', '17883', '9340', '7999,1', '9440', '13137', '67800', '19289', '5540', '38000', '9430', '12740', '12945', '7346', '16287', '14438', '53400', '21927', '25320', '17604', '15140', '30230', '28875', '14992', '4018', '4758', '20170', '12970', '25263', '6198,28', '5845', '11223', '44408', '66565', '19854', '47740', '33470', '26640', '34958', '22198,1', '9375', '17795', '29200', '11560', '3299', '5706', '19728', '23297', '19089', '35340', '16449', '11804', '6699', '9908', '15053', '32894,18', '3280', '17810,82', '7217,1', '10158', '29198', '14659,2', '27116', '28755', '20970', '19997', '19420', '17561,8', '9460', '11148', '4536', '6950', '11268', '17996', '12992', '9461,26', '27737', '13480', '11780', '4560', '5719', '24962', '14436', '4499', '2075', '5835', '12377', '27248', '11317', '4962', '15356', '5632', '11724', '23897', '23720', '11315', '13489,91', '5786', '14349', '25539', '17655', '4885', '18078', '7369,7', '15128', '10278', '17592', '10619', '7981', '12315', '10990,91', '14356', '7155', '16254', '2992', '6881', '24528', '4227', '10910,6', '36432', '16875', '16060', '35744', '8398', '15685', '14288', '10282', '31510', '91760', '9989,92', '4638', '14382', '5457', '44933', '11639', '36880', '26022', '24085', '10719', '9365', '4261', '10058,5', '4563', '4362', '16500', '41010', '3949,92', '22082', '38330', '10702', '4519', '23688', '7741', '3148', '27630', '20727', '6630', '39388', '11955', '5699', '6781', '9482', '17461', '39741', '13140,88', '3848', '15710', '16268', '75000', '25598', '24134', '23480,92', '14298', '19645', '87673', '13769,2', '5805', '17198', '15026', '11012', '8049', '15986', '24900', '45790', '9019', '5901', '3692', '89018', '35082', '5879', '22049', '5231', '15390', '23147', '28932', '24845', '7042', '24479', '4299', '3107,7', '47114', '25897,4', '12907', '10796', '15226', '15206', '3886', '16648', '8155', '10794', '4825', '5053', '18497', '9791', '22180', '25150', '5820', '3589', '13259', '39193,4', '5796', '13780', '8275', '10355', '5184', '16370', '7593', '4346', '10868', '6204', '12376', '29690', '12300', '21999,2', '9719', '29789,91', '3400', '19522', '7198', '2499', '13118', '41950', '11390,91', '14047', '17812', '13580', '20456', '15147', '16080', '3040', '12265', '39690', '5175', '9639', '25702', '7134', '50591', '24250', '3890', '17820', '28215', '29989', '3771', '10999', '29393', '6665', '20091', '6496', '6725', '13997', '21355', '24940', '56340', '35320', '18573', '5010', '33506', '19125', '13530', '26928', '20324,92', '20072,2', '9230,04', '6944', '71000', '15029,9', '2623', '8869', '14383', '11871', '37456', '15800', '9869', '8307', '6447', '6999,9', '4618', '89640', '3174', '17548', '26592', '21146,4', '21496', '14877', '13328', '2995', '9125', '16245', '35100', '12306', '25630', '10874', '21405', '11099', '37930', '26595', '22257', '56899', '28517', '24064', '5360', '18456,2', '2080', '20390', '26580', '40037', '21197', '14780', '5599', '81423', '10847', '24328', '43573', '26740', '19998', '3731', '16119', '10691', '35201', '14835', '20598', '3721,5', '12612,17', '29220', '16392', '19734', '18350', '18881', '14570', '3220,2', '5880,92', '15749', '27369', '16847', '13719', '22962', '23108', '15340', '20925', '3973', '3376,8', '29461,34', '27448', '2260', '10418', '24198,2', '70360', '37900', '4428,97', '31880', '23104', '34396', '5277', '25464', '39090', '8421', '11194,06', '15215', '6069', '4803', '9510', '14190', '22220', '7349', '10820', '12283', '20132', '23140', '24778', '49498', '11960', '23788', '27208,78', '6411,72', '18730', '23393', '26597,91', '6040', '36263,1', '9594', '17580', '9054', '6589', '41730', '6223', '3269', '4755', '22105', '17149', '6454,8', '17020', '13728', '21845', '8970', '20561', '25081,98', '16730', '9567', '16416', '14619', '13840', '7136', '4550', '31490', '11940', '8140', '5624,3', '3942', '15192', '6575', '4851', '7618', '29647', '15638', '59224', '3014', '7720', '23090', '22167,6', '8010', '11949', '27945,54', '10823', '14678,63', '6579', '4644', '7146', '23690,91', '17590', '15633', '17712', '11156', '13120', '21408', '7396', '5243', '2964', '9769', '11249', '6182', '11242', '22300', '26232', '5229', '13245', '20644', '20541', '11689', '35269,2', '21910', '22372', '8785', '4576,5', '12421', '30012', '19819', '18081', '10151', '3879', '19665', '46170', '8250', '3924', '7459', '19891', '11429', '18340', '16460', '7897', '10323', '2768', '9839', '14637', '6163', '27850', '10392', '6460', '12880', '16840', '7201', '35940', '13941', '13457', '4690,92', '7651', '30996', '13383', '14547', '22269', '17383', '35770', '4835', '9975', '15220', '7448', '9749', '33821', '10271', '19496', '3951', '19977', '14670', '15910', '29390', '23800', '2241', '3337', '26397', '6007', '16910', '5310', '3905', '21891', '13654', '11126', '10838', '14461', '24281', '9439', '49410', '27781', '12719', '27360', '96200', '31466', '46649', '15990', '35900', '2210,4', '16375', '8515', '29382', '16396', '21698,4', '14974', '14089', '81445', '4827', '7663', '34168', '3672', '20299', '15998', '26410', '9557', '24743', '4620', '12019', '6367', '26080', '7911', '22188', '27820', '17981,9', '16634,5', '4607', '40320', '18515,03', '27070', '46820', '11517', '9991', '19050', '28610', '12105', '75090', '9909,9', '15283', '17635', '20218', '17530', '35400', '19711', '10193', '6604', '11815', '16482', '23947', '3445', '16488', '21896', '12914', '27096', '30190', '18007', '29591', '6408', '19659', '12472', '15621', '21222', '2877,9', '10995', '23390', '12132', '24217', '9562', '11055', '29260', '58541', '80000', '23152', '11933', '16175', '26999,2', '4143,58', '4194', '4359', '16716', '15605', '4125', '25315', '4243', '14406', '10812', '11719', '20898', '15021', '11727', '7054', '14337', '6842', '33476', '9433', '8740', '3463', '22243', '14952,2', '10354', '19982,92', '5041', '5290,91', '23661', '8415', '13255', '59590', '5023', '3149', '25317', '13679', '7391', '28330', '40499', '44660', '6490', '21381,12', '6569,5', '21520', '2447', '27975', '20440', '16278', '8442', '40392', '29180', '8047', '14037', '43732,8', '9920', '5780', '23220', '22509', '14610', '29612', '30590,92', '14609', '8498', '15238', '7602', '27736', '10480', '18184', '5984', '22140', '23575', '14513', '16448', '7061', '29699', '3670', '4298', '14247', '19697', '27790', '17600', '18400', '11542', '17100', '20106', '36530', '51426', '11508', '4740', '14316', '7735', '6101', '18578', '4810', '21646', '16700', '12227', '31672', '48379', '15020', '3690,92', '30325', '34990', '40521', '14993', '9074', '26510', '10496', '30920', '16771', '17348', '78390', '32367', '9971,89', '23185', '9865', '26183,5', '27541', '2862', '12716', '12576', '13761', '27962', '9509', '28820', '5369', '14939', '19980', '34195', '10803,84', '12823,2', '23168', '22599', '11899,15', '18680', '5906', '10773,9', '10186', '29970', '8744', '36479', '26395', '2924', '5345', '6137', '19750', '4690', '14645', '35897', '11751', '23240', '28876', '17060', '26988', '25298', '4430', '9341,5', '47783,85', '14396', '25640', '5961', '20249', '26708', '37666', '20698', '14005', '2881', '14169,1', '5859', '14965', '14500', '17789', '21840', '8669', '3308', '27045', '16696', '21943', '15364', '16256', '78550', '4590', '25336', '15570', '7589', '21051', '34740', '28599', '20053', '88000', '16480', '18358', '14175', '8134', '40574', '19155', '17110', '4188', '8752', '15658,85', '11697,1', '23324', '27381', '19895', '10752', '13493', '16298,1', '10575', '21936', '18725', '15180', '46728', '18000', '3745', '5152', '3180', '60280', '17050', '12362', '3540,2', '18429', '6745', '27449', '13230', '17568', '6249', '21277', '4615', '5824', '6018', '13031', '15691', '12434', '3822', '4246', '38200', '7648', '11176', '29707', '21536', '4109', '16420', '19858', '23380', '4705', '19254', '18712', '23136,3', '4741,12', '2268', '15496', '9573,1', '26981,82', '56964,6', '27900', '31759,28', '60888', '13331', '33210', '6806', '5440', '29595', '48150', '12991,82', '7209', '11938', '9600', '4288', '15727', '17650', '6640', '25197', '4559', '13199', '22750', '3996,9', '9173,88', '7709', '21447', '20562,2', '19840,5', '25198,2', '16996', '21698', '35580', '2691', '30313', '8549,1', '21187', '14842', '16297', '19358', '8938', '85000', '21631', '10531', '15489', '12599', '12590,95', '90747,9', '16964', '9219', '4579', '11296', '22640', '22590', '9730', '6552', '93820', '22906', '20987', '10632', '12889', '11449', '8698,1', '3190', '14215', '15619', '14999', '31015', '17932', '19798', '22307', '9700', '31860', '15093,9', '11598', '6689', '18676', '10103,2', '14698', '16795', '4846', '11629', '21473', '5817', '2900', '3930,81', '24695,2', '19945,35', '39344', '14771', '4492', '10019,07', '25290', '24423', '10853', '2007', '44778', '22800', '3830', '6265', '6754', '17557', '46827', '25296', '26390', '21475', '48460', '71400', '27945', '22714', '30000', '8520', '5209', '33749', '5867', '25260', '14220', '23450', '13648', '4120', '17270', '32090', '5798', '3296', '12280', '9759,4', '14830', '19000', '17598', '8279', '27130', '10112,8', '3605', '22347', '18648', '60600', '7167', '37278', '48594,31', '11692', '8625', '4527', '6463', '15850', '44560', '16970', '20069', '7439', '7353', '19235', '42320', '21011', '10950', '20860', '13390', '32843', '25632', '18876', '20746', '28288', '40490,91', '10930,52', '22147', '9128', '24923', '13730', '4274', '40480', '17949', '35490', '3680', '21180', '9527', '24929', '10097', '5718', '3824', '24340', '7798', '11691', '35952', '5465', '4659', '41470', '68990', '11169', '13908', '21505', '19844', '32787', '18525', '28402', '6105', '6426', '27289', '15763', '6323,33', '26440', '10205,5', '27995', '29877,3', '28790,94', '15813', '23351', '7277,1', '13090', '20660', '6190', '8425', '15580', '27480', '5710', '28990', '13748', '16785', '14441', '7582', '4020', '10216,1', '26315', '11374', '26642', '10987', '5355', '14755', '4581,87', '9135', '13438,3', '24519', '18667', '16350', '3500', '64660', '7717', '11050', '77982', '6700', '38700', '12463', '17538', '3114', '18268', '23106', '5439', '54000', '30420', '44760', '31320', '10302', '13239', '29420', '23060', '2045', '19124', '41200', '30840', '20934', '7810', '27700', '24720', '14144', '16994', '7187', '16072', '47520', '6695', '9013', '7609,5', '14168', '3975', '12127', '8036', '5340,92', '8820', '9458', '9448', '5997', '62550', '7166', '38592', '4837', '2635', '11519,1', '19572,1', '33358,84', '21267', '37069', '32292', '7790', '13771', '33909', '31897', '3049', '3651', '25765', '6166', '20397', '20768', '8644', '17873,75', '10978,6', '25950', '14900', '17541', '9047', '6214', '16378', '21170', '29933,4', '14142', '11748,2', '31404', '8025', '70323,49', '5255', '30697', '41700', '10818', '78400', '20149', '9278', '8530', '28410', '12098', '6366', '27250', '10419', '15824', '5530', '26350', '20388', '27640', '18949', '34380', '15921', '5097', '16688', '20730', '9765', '27744', '11280', '20752', '6240', '5419', '15221', '21460', '10071', '4115', '4513', '3990,92', '13649', '19360', '11187', '28898', '10191', '12846', '15890', '9086', '20196', '4103', '31300', '24565', '47100', '34300', '15954,3', '30518', '16620', '23109', '6247,8', '2910', '8589', '19475', '8090', '18984', '5487', '33800', '12290', '33010', '8160', '5430', '15557', '32293', '18987', '13829', '17049', '11450', '66000', '6822', '4483,51', '11695', '10124', '18430', '3271,5', '6532', '13999,92', '21866', '10620', '9504', '28502', '4041,9', '17830', '11373', '33790', '7478,2', '11422', '7499', '7369', '12896', '16991', '31748', '22011', '5341', '8179', '28842', '3282', '6959', '28274', '4297,5', '3023,58', '10495', '6470', '19736', '7514', '24768', '13201,44', '10001', '6081', '7125', '30576', '40756', '2511', '5647', '6865', '12370', '16455', '12398,1', '35920', '34390', '37656', '9526', '7302', '6733', '19154', '21110', '3255', '46350', '44750', '26845', '7776', '19255', '7715', '17960', '2745', '28800', '23467', '6424', '9599', '27580', '25491', '6256,8', '19250', '12650', '24920', '6280', '4580,92', '10190', '33720', '8499', '4886', '6181,09', '27005,1', '5113,4', '25515', '5607', '12810', '2879', '12925,2', '73000', '28417', '9945', '16670', '32670,79', '19011', '33830', '3487', '2804', '3865', '4911', '4269,01', '34557,1', '8648,5', '20505', '8448', '22558', '4248', '28450', '25426', '20580', '27372', '15970', '2362', '8951', '24750', '4034', '35010', '21760', '7978', '25287', '20200', '6228', '19044', '8902', '12419', '2290', '22741', '7113', '5745,12', '6529', '12092', '22050', '69300', '15899', '4789,92', '6420', '3423,59', '13374', '5398', '20250', '26935,28', '20494', '44879', '58640', '20179', '9931', '40455', '16990', '4410', '10551', '9445', '21140,7', '21827', '7950', '15482', '46156', '8197,89', '30224', '4564', '9846', '34422', '38108', '2912', '19590', '10693', '32525', '17190', '14309', '8641', '32970', '11167', '17839', '24495', '23690', '15363', '29900', '4960', '56700', '29997,24', '17449,91', '16520', '56280', '10340', '14925', '33650', '5698', '3921', '18686', '8253', '6469', '4575', '21494', '17130', '22349', '2350', '24690', '31014', '6785', '3100', '5738', '22135', '5025', '32980', '17144', '3606', '9107', '34125', '20774', '12990', '4048', '18849', '8054', '4280', '6329', '23411', '6940', '10021', '60000', '10497', '22700', '20790', '15657', '36290', '18389', '12868', '3828,6', '8170', '10596', '26850', '23840', '19382', '23472', '20390,94', '52509', '3659', '37500', '14449', '11950', '10140', '18687', '18070', '7137', '19072', '32240', '49838', '27065', '6964', '17900', '9819', '22395', '4928,96', '86571', '17080', '23890', '14857', '21736,2', '16227', '15582', '3541', '18338', '6810', '5814', '21858', '10478', '6819,3', '2000', '4336,2', '2775', '14082', '12077', '2705', '12655', '79770', '75478', '10267', '74119', '19842', '7880', '4210', '24010', '27780', '25029,9', '4436', '28950', '4608', '21049', '12590', '18875', '12548', '26051', '7474', '26550', '30830', '44225', '6376,5', '4953', '33930', '22352', '9069', '30713', '4734', '28666', '15117', '6354', '4812', '37996', '29037,12', '8336', '44770', '3882', '8210', '12593,7', '2952', '12371', '18171', '9406', '6269', '5594', '34806', '11189', '4510', '32700', '78572', '20355', '4909', '16704', '14151', '5445', '6103', '31189', '14445', '9199', '9686', '4199', '19943', '15270', '13960', '8940', '3150', '17325', '26960', '5202,9', '7575,1', '4834', '5779', '14350', '20450', '6339', '96970', '13040', '7475', '40250', '16498', '28933', '12130', '21628', '15078', '14055', '46800', '3120', '12029', '11057', '9891,9', '6161', '11230', '7331', '9451', '5015', '27706', '9044', '19045', '29600', '29239', '19991', '18934', '35035,2', '2290,7', '2119', '6760', '13710', '10290', '5259', '24950', '14921', '17709', '21599', '20740', '5880', '3819,2', '29650', '24247', '16447', '6296', '6545', '5730', '21634', '12048', '14662', '40098', '74482', '9230', '6119', '14020', '20990', '6669', '4605', '21231', '13275', '34699', '29277', '4195', '23398', '25480', '22540', '12904', '22589', '3663', '14170', '3499', '16846', '9648', '12890', '20399', '7070', '20236', '12654', '22124', '29359', '13336', '2299', '3892', '5526', '8057', '4760', '3700', '12889,91', '13975', '2060', '23762', '15267', '13093', '36679', '4934', '4641', '5238', '17906', '12835', '14916', '19529', '5707,8', '12012', '22477', '5236', '14747,1', '15806', '24914', '34187', '14947', '10090', '13289', '6197', '16100', '5218,06', '30897', '8240', '6783', '5000', '21210', '16666', '8176', '28011', '38830', '6364', '5828', '11999', '65520', '88312', '24290', '12354', '13749', '4904', '31763', '5595', '4894', '18540', '17273', '12915', '5740', '6770', '6750', '16648,2', '22987', '4485', '3419', '35670', '11980', '9294', '4667', '22500', '18797', '5683', '12680', '4905', '4212', '28429,9', '5496,4', '24428', '6975', '4523', '4207', '27260', '18824', '23717', '13900', '14620', '9718', '27190', '16042,7', '74319', '3849', '21930', '15888', '40377', '16540', '23842', '28241', '20998', '20856', '10566', '9432', '12038', '10120', '5426', '3711', '45160', '36617', '28862', '8950', '10650', '9898', '3798', '17842', '31050', '3465', '2940', '22361', '25122', '25107', '29370', '7110', '47021', '19520', '21989', '3099,9', '6255,15', '9847', '5959', '5996', '11577', '12566', '10306', '10032', '5301', '12220', '11826', '5306', '23396', '27400', '26091', '4408', '20882', '6561', '14100', '2770', '46471', '7459,6', '17509', '3752', '25014', '28998', '12390', '24345', '15715', '5125', '24745', '21061', '17411', '13302,83', '13948', '15514', '15530', '10646,2', '5965', '30796', '17710', '4961', '21160', '22338,94', '5739', '5300,9', '16218', '15840', '35825', '9396', '15640', '15975', '7370', '52250', '72990', '18591', '2270', '19850', '5280,91', '15880', '34465', '11800', '3275', '22282', '16285', '6528', '11098,8', '20599', '17179', '18630', '8204', '10800', '3491', '8491,82', '19622', '17070', '23238,79', '15616', '8423', '6027', '43996', '30175', '3722', '8490,92', '22290', '9614', '14393', '91520', '11033', '5585', '16576,2', '3239', '7547,2', '30879,55', '35992', '5876', '17780', '12411', '4617', '6191', '3069,9', '16151', '18800', '9683', '22191', '10939', '5458', '8243', '11133', '24285', '4411,43', '2798', '7313', '17405', '30940', '48120', '77860', '21540', '17999', '7343,95', '26140', '49180', '2135', '8154', '17767', '21213', '17869', '8108', '17765', '5611', '21088', '14829', '24114', '7884', '5920', '24017', '17748,91', '13700', '34981', '22848', '17161', '20046', '25890', '5143,5', '14598', '4799', '10248,2', '4900', '6863', '11488', '10305', '12210', '8350', '27634', '7984', '22394', '5425', '8806', '27313', '57581', '5354', '35610', '21589,9', '6678', '10506,76', '23406', '30215', '15950', '92000', '22005', '28700', '21860', '16917', '7197', '4476', '3385,92', '6338', '3777', '9000', '17357', '22175', '9988', '85100', '11293', '13435', '8650', '12199', '10474,1', '24330', '4890', '17033', '3418', '14105', '3892,2', '12495', '29173', '5072', '20187', '30309', '21444', '10631', '20025', '4809', '30100', '14204', '6491', '5749', '30987', '17370', '33459', '7669', '19362', '81000', '14328', '15359', '6099', '15247', '3894,2', '3676', '17998', '22066', '13653', '6345', '19480', '25887', '26865', '26711', '12506', '8432', '4450', '14198', '3650', '6396', '10704', '9855', '28810', '4185', '8185', '8887', '4921', '2495', '22818', '18623', '40110', '13768', '8943', '16680', '5011', '4986', '14933', '13545', '8830', '26259', '44100', '4657', '27283', '8600', '27440', '12329', '44030', '24270', '25738', '15192,73', '22650', '17568,3', '25983', '23740', '37424', '23820', '42601', '19390', '8729', '36490', '15097', '60829', '10374', '21890', '19391', '14097', '19061', '10439', '17335', '32990', '24049', '3238', '16112', '3933', '81600', '18611', '6230', '13575', '35060', '9351', '3499,9', '5071', '19999,84', '4140,2', '3798,9', '4254,12', '14629', '7425', '5472', '9598', '19615', '7682', '4258', '5287', '17637', '4680', '4671', '41180', '6010', '6698,3', '61540', '22214,69', '15128,1', '8988', '4160', '14052', '5562', '26560', '19860', '6499', '12736', '18001,28', '8137', '19295', '7549', '15410', '19060', '6910', '6597', '18376', '4327', '13229', '19133', '16583', '29000', '8886', '4114', '29010', '5699,9', '2600', '46900', '8675', '10914', '29568,82', '9298', '77210', '4868', '23197', '26300', '6070', '23020', '29693', '18953', '32870', '13477', '20244', '14398', '28955', '46729', '3343', '9555', '3285', '37489', '14430', '7563', '2125', '5708', '13507', '6838', '24071,3', '15815', '21487', '28296,6', '6018,39', '12044', '13258', '4021', '17202', '7885', '18592', '17595', '23945', '3780', '14231', '20658,2', '4412', '10310,92', '33500', '23913,2', '29697', '4320', '34100', '20784', '11150', '3015,2', '3110', '11906', '33405', '10700', '9285', '9525', '21207', '11370', '13138', '23389', '47223', '4366,8', '3983', '11240', '8128', '4070', '31933', '26900', '8597', '11335', '14453', '5347', '19359', '19130', '15830', '18510', '30158', '25220', '3140', '9430,38', '23085', '25452', '12206', '11380', '7327,8', '7893', '36070', '23728', '26469', '45274', '31770', '18300', '22324', '19521', '7891', '3697', '4375', '7875', '5618', '28060', '18913', '13216', '15680', '3350', '15520', '27251', '16263', '7559', '4610', '7504', '22803', '33850', '32750', '9397', '2259,9', '4217', '27020', '134000', '17355', '13130', '31875,3', '15566', '11190', '2033,05', '23749,76', '25812,5', '8777,1', '16464', '66504', '21974', '18496', '11551', '4759', '75500', '45290', '25966', '30050', '4152', '30102', '3750,91', '37790', '100500', '18232', '20272', '20343', '33417', '8496', '10130', '10773', '24886', '21079', '6789', '5119', '11496', '36082', '7289', '5200', '20298', '34150', '29384', '25727', '8585', '23825', '29206', '75408,47', '4186', '10024', '16219,81', '16657', '12240', '28420', '4403', '13470', '5652', '13669', '16579', '4542', '21200', '7597', '10499', '10990,94', '4265', '29304,3', '22450', '6109', '4072', '10435', '20370', '9264,69', '4689,2', '15675', '10359', '6270', '93890', '10084', '5795', '3003', '6697', '29290', '41490', '75548,8', '2962,8', '16736', '17089', '23219,85', '12741', '27348', '30381,84', '15299', '6679', '8440', '4966', '20202', '4942', '24007', '75600', '27180', '19839', '88440', '13229,2', '10194', '54859', '32479,99', '41601', '4268', '24119', '16146', '7245', '5679', '26970', '21984,55', '5800', '8813', '9758', '3099', '10550', '6489', '23320', '9554', '4828', '49653', '7438', '18860', '5143', '3009', '7182', '20031', '5908', '5130', '15897,92', '5048', '8889', '10799', '21269', '21847', '16284', '4710,6', '18749', '14718', '3895', '10022', '20248', '21525', '17047', '16257', '29622', '4099,9', '26499', '31950', '24370', '9798', '17397', '3258', '19047', '24131', '34499,2', '36086', '33678,2', '17681,81', '25038', '2050', '14989', '5620', '10389', '3565', '22480,9', '23070,6', '12050', '11347', '20174', '6129', '79910', '9446', '14281,89', '8712', '26547,1', '13905', '17756', '5005,8', '23498', '33392', '4855', '99289', '20747', '35500', '23822', '8977', '9256', '12515', '11972', '14071', '5929,95', '6359', '22550', '36840', '11920', '18004', '27496', '20931', '24659,2', '26631', '29638', '94495', '3203', '6878', '93075', '11723,2', '18468', '25447', '27980', '2638', '32076', '2366', '50652,94', '22360', '13916', '8107', '78853', '10500', '12069', '4768', '13993', '4801', '11910', '23713', '6373', '37200', '10883', '4275,9', '18862', '4480', '20995', '9217', '29085,9', '19897', '9342', '29100', '16791', '15720,91', '8470', '8775', '11954', '13100', '22298', '17714', '10990', '24138,2', '5337', '4236', '10618', '15665', '33881', '25830', '11725', '26837', '27540', '16701', '11853', '10023', '21530', '26975', '17448', '6289', '8043', '5666', '57209', '8557', '4259', '21561', '9180', '20500', '10471', '20498', '17540', '6336', '15400', '20085', '25540', '22999', '24283', '17598,9', '3129', '12010', '13518', '46921', '6562', '10469', '8555', '21736', '51700,5', '7642', '18905', '14994', '7524', '2999', '18990', '4749', '26090', '4297', '22058,91', '38570', '5253', '15948', '13999', '7961', '31885', '22090', '8758', '22151', '15620', '74690', '83295,63', '23420,7', '11471', '11589', '23600', '4922', '12606', '5955', '15446', '14593', '11302', '31090', '11423', '13380', '4082', '12843', '9210', '26780', '5949', '19187', '20020', '2850', '74650', '2540', '4267', '11455', '2198', '116360', '8630', '24810', '14095', '13650', '15403', '28620', '10539', '5482', '6202', '17935', '28273', '15629', '40119,5', '13426', '10734', '29388', '12499', '5288', '35596', '56763', '4757', '3998', '17510', '9456', '30956,4', '14209', '9014', '24240,91', '13300', '21889', '27678', '25600', '11403', '12474', '5077', '33680', '23852', '13150', '17006', '17191', '5840', '43515', '32580', '24120', '26819', '19781', '18576,8', '14522', '7590', '16205', '17346', '16587', '5688', '8990,92', '15347', '4139', '8373', '3690', '12502', '25783', '9416', '4037', '28340', '2990,92', '21009', '16064', '21140', '19278', '7769', '14188', '33960', '20691', '10593', '20431', '6793', '94720', '9540', '10895', '11769', '8500', '18270', '34650', '37060', '18632', '42335', '9837', '98996', '4678', '2200', '7750', '78300', '20110', '4080', '30726', '4148', '24059', '4726', '16441', '10134', '27340', '10549', '19293', '12307', '10759', '8030', '17748', '28341', '19889,92', '16189,4', '5221', '18440', '15237', '14796', '19814', '2748', '13179', '4933', '9826', '19315', '33862', '16635', '15613', '5634', '11599', '15883', '27939', '14996', '32547', '8357', '12480', '15912', '24280', '3809', '13225', '13310', '24438', '5160', '11997', '8048', '61600', '4540', '17752,8', '12053', '29788', '28304', '28160', '22668', '15870', '5597', '26776,1', '9053', '10215', '4189', '27420', '14361', '3046', '70000', '9111', '8818', '11529', '9815', '3230', '24027', '24524', '16743', '28651', '24660', '27696', '27508', '2580', '19690', '22547', '8680', '30673', '9804', '27936', '15479', '10322', '9564', '16880,91', '12378', '3417', '7255', '30198', '8237', '18413', '24300', '14696', '6710', '14078', '15500', '19134', '26085', '55000', '29769', '21726', '29219,46', '90000', '3580', '5789', '9306', '21298', '98808', '11943', '23680', '8599', '28728', '11658', '26983', '3834', '20980', '12392', '3739', '23751', '6059', '4555', '11927', '2680,4', '7339', '11147', '76738', '6068', '7985', '27617,1', '5936', '18745', '24362', '61832', '8880', '14735', '57593', '25459,3', '15298', '6433', '7799', '10560', '36150', '22260', '2040', '6347', '14165', '33120', '11514', '21519', '10980', '36805', '26991', '8994', '38120', '2930', '22789', '13637', '20601', '3290', '13430', '41570', '3628', '26720', '3737,6', '11270', '7749', '17596', '16841', '37640,77', '8284', '2726', '30696', '25690', '17342', '22392', '11901,78', '43353', '19552', '19789', '13141', '73308', '27094', '5343', '41021', '28200', '12339', '24933', '7747', '11990,95', '29443', '26365,6', '10413', '12278,9', '18696', '13780,82', '20400', '12305', '8610', '6755', '12549,07', '7920', '8978,2', '27275', '22482', '9907,2', '5033,83', '4939', '30765', '18561', '10075', '2223', '8077', '2800,85', '19930', '17170', '32935', '19286', '14521', '16769', '13926', '29299', '64300', '8195', '33570', '51250', '22057', '10606', '10029,92', '19446', '5409', '37780', '20758', '21546', '9748', '64670', '5830', '72090', '6060', '42940', '3715', '44260', '50927', '13326,5', '4598,6', '23943', '17184', '9501', '20090', '9992', '24540', '26710', '9856', '5685', '23031', '15119', '4744', '6500', '19220', '10770', '12488,25', '16999', '36718', '27398', '14770', '26120', '3614', '14948', '18425', '12198', '9031', '18780', '23975', '5140', '10668', '18575,2', '5031', '23577', '19549', '6237,03', '17279,2', '6739', '44670', '27063', '15739', '51300', '6455', '12546', '16456', '14340', '3557', '19838', '6919', '4091,4', '22125', '8633,7', '9310', '12345', '3537', '25199', '19840', '7739', '19782', '10760', '3125', '85270', '7032', '14197', '24298', '19218', '6979', '33510', '7660', '18426', '25549', '22162', '44697', '18113', '8543', '29998', '6452', '16310', '10736', '7157', '6578', '23475', '24223', '40080', '30729', '4872', '21250', '7633', '14321', '20424', '9259', '16191', '14950', '14134', '16786', '51441', '7452,4', '33450', '8483,95', '80250', '39160', '18899', '29997', '4840', '3950', '13121', '13981,8', '20029', '9496', '6715,2', '25592', '29030', '24015', '10061', '15070', '36260', '17770,4', '24081', '8721', '16117', '20180', '5292', '9664,5', '4703', '12729', '11123', '13088', '25278,14', '25920', '10328', '19270', '5877', '17560', '6696', '32748', '7770', '17682', '12331', '6561,9', '25158', '10935', '23310', '7390', '17093', '38718', '23985', '23508', '21246', '3050', '9858', '2915', '23595,97', '6341', '4056', '7430', '18808', '5128', '24948', '22025', '2570', '17633', '11583', '15457', '7797,6', '11363', '24717', '6620', '42000', '65400', '25020', '13345', '12395', '27986', '3260', '6095,25', '10907', '18328,6', '8767', '10749', '9790', '6924', '25900', '13689,86', '21670', '11396', '28172', '24405,4', '5339', '2341', '37235', '20686,58', '5328', '21240', '25390,94', '61320', '16141', '5577', '12057', '27199', '18380', '8924', '12830', '16916', '2599', '6595', '21597', '31500', '23625', '12159', '33966', '18997', '22440', '7077', '37219', '20256', '16961,1', '12608', '21479', '3590', '4068', '6328', '22940', '6142', '8857', '17425', '6946,92', '17470', '50970', '23861', '31060', '17837', '3769', '7903,8', '27602', '10231', '7030', '23192', '11781', '4892', '19090', '24130', '9472', '11590', '30960', '2430', '8355', '28220', '3031', '15290,7', '21910,8', '5673', '3762', '28473', '8067', '15165', '8797', '21499', '46993', '9533', '2855', '15838', '23929', '11936', '3051', '39100', '11372', '19131', '12748', '27898', '4023', '34821', '17610', '47950', '8112', '15313', '5990', '10233', '21728', '28930', '3935', '7899', '6940,25', '33910', '15946', '54738', '87600', '3152', '24587', '21211', '9034', '20529,9', '27816', '3595', '11810', '5406', '8076', '18251', '3222,9', '10050', '11580', '21150', '15250', '9574', '19162', '18567', '12999', '45863', '52466', '22061', '4891', '8300', '24941', '14750', '13740', '3898,1', '7637,63', '15240', '21595', '6457', '23973', '10368', '4578', '18339', '47691', '21286', '9924', '3095', '7078', '87810', '21041', '6146', '9947', '8702', '12862', '16698', '21600', '8034,2', '18115', '21112', '26450', '26818', '24680', '26664', '14090', '36400', '2965', '47600', '6744', '36980', '12559', '24141', '26150', '13976', '5105', '24100,83', '8217', '5424', '26730', '12394', '6309', '7779', '18152', '24807', '38810', '21380', '19560', '8819', '3877', '8770', '23451', '31317', '12348', '12848', '24344', '8286', '17399,1', '4802', '26693', '9220', '7710', '9738', '4883', '13546', '9760', '15299,9', '12600', '2286', '3335', '5179', '31966', '10509', '15350', '49330', '17997', '11080', '17150', '12645', '14840', '24466', '7900', '3002', '12490,9', '6912', '4672', '41399', '13891,5', '8935', '21166', '6342', '14255', '69000', '10390,92', '15150', '5827', '24550', '25029,92', '14715', '16570', '42699', '9999', '22763', '9597', '9928', '23930', '6145', '8899', '5735,7', '7450', '4710', '8268', '47247', '17415', '19968,92', '14917', '38725', '23397', '11037', '23700', '2599,2', '19145', '21950', '19769', '67490,94', '18217', '13944', '2390', '23478', '7075', '18225', '16454', '10615', '19598', '11310', '25899', '31895,48', '7068', '6327', '7997', '9698', '24315', '43990', '10345', '21062', '21238', '5569', '9425', '23770', '2263', '4581', '23799,2', '19404', '5057', '13380,56', '6945', '10424', '4089', '7112', '5438', '91546', '23750', '27925', '24240', '34700', '7131', '44930', '71999', '26998', '32955', '25356', '6449', '14040', '4750', '24590', '4888', '27769', '22687', '5058', '42468', '24500', '2671,2', '18747', '13160', '12440', '5687', '26404', '29742', '8291', '8771', '3786', '31502', '26872', '23850', '4967', '3768', '17320', '6544', '34313,4', '22733', '4392', '24949,09', '11025', '22570', '26110', '8369', '7940', '32430', '7249', '11670', '5032', '5509', '24692', '22388', '25957,2', '4462', '31653', '46540', '7189', '12686', '9468', '10410', '5825', '8233,95', '41511', '10441', '13428', '2360', '4450,5', '10890,9', '25802', '12919', '11600,6', '7440', '18605', '5695', '7615', '7100', '6749', '10960', '12427,1', '21880', '36267', '10339', '4204', '19608', '5188', '8497,4', '18140', '13847', '16983', '20350', '10875', '4423', '27324', '20147,92', '5829', '10030', '16408,1', '42620', '14940', '12854', '23440', '6208', '42408', '3843', '10106', '12557', '17550', '31850', '22835', '17366', '9050', '8717', '64794', '8262', '3490', '6703', '74466', '8456', '5560', '25606,3', '4990,94', '17685', '16999,82', '5320', '18480', '17367', '6110', '22037', '7548', '13098', '23552', '13329', '3145', '39350', '8735', '21226', '19260', '27648,2', '18027', '37560', '21856', '23121', '29471', '6335', '12490,2', '12696', '15025', '26177', '12810,94', '22810', '15290', '7481,98', '2985', '5361', '4366', '4406', '6507', '24228', '29664', '2199', '30220', '76300', '21270', '29677', '31091', '14400', '14128', '13296', '26454', '16752', '7059', '27829', '26099,1', '35530', '30630', '11773', '6969', '85202', '2415,04', '4930,95', '7268', '8003', '17137', '18545,5', '7550', '4805', '2873', '16199,2', '6263', '2180', '29046,1', '4427', '4495', '8341', '51534', '12730', '31139', '7979,91', '19215', '27637', '14480', '17649', '11730', '17556', '26663,6', '23100', '14370', '11645', '17529,91', '10086,92', '35721', '3109', '4841', '16960', '18275', '13395', '13778,92', '20133', '3250', '80440', '24086', '15828', '28991', '4500', '2047,5', '7703,1', '3834,81', '3390,5', '18720', '4898', '5159', '15887', '39028', '6594', '2072,7', '24367', '15704,6', '13560', '38223,86', '9899', '9990,91', '21481', '16948', '6537', '7020,9', '14245', '21850', '20007', '9094', '7417,5', '11536', '46881', '23830', '5090,92', '17000', '17350', '19935', '12136', '15524', '24835', '10610', '22616', '30344', '24729', '13387', '32650', '19739,84', '11498', '18490', '13284', '16264', '16440', '7287', '19490', '8132', '21704', '8829', '19797', '15552', '28590', '9080', '27320', '3689', '35000', '3028', '21118', '65000', '23990', '6496,1', '33255', '48310', '3144', '3790', '3496', '25896', '17172', '14872', '22458', '16897', '5040', '23137', '27895', '6103,8', '16092', '16995', '29791', '6894', '3160', '9363', '17186', '4428', '21994', '11399', '8478', '20653', '16875,1', '26054', '20410', '11860', '18660', '5869', '7959', '13848', '8271', '8263', '27430', '14497', '3801', '5987', '34493', '6160', '27270', '6843', '12401', '5763', '13498', '10753', '9227', '15980', '10434,5', '23500', '13136', '14841', '87570', '11989,91', '20069,33', '30360', '5619', '22100', '26152', '27200', '23723', '33700', '6960', '11600', '4887', '7362', '16644', '32290,6', '28116', '7204', '13745', '23882', '5225', '5840,94', '2219', '13005', '2659', '30172', '15750', '12369', '5035', '16977', '13492', '11866', '11896', '13824,2', '17531', '21985', '4290,91', '29230', '19460', '10009,6', '26880', '4743', '11219', '23677', '30813', '3130', '18422', '17630', '22495', '29800', '7345', '11391', '3717', '23738', '10155', '21328', '4060', '14848', '6712', '12860', '21498', '69282', '8270', '7163', '8544', '11395', '18945', '21195', '3744', '26529', '6502', '13727', '7259', '11590,92', '15750,91', '4727', '9296', '4508', '5080', '3621', '3444,9', '8649', '8790', '24380', '8007', '11965', '3370', '2711', '11808', '7904', '12597,3', '11652', '14006', '15736', '34766', '28790', '22150,95', '6053', '3032', '9182', '18470', '8445', '25732,2', '7908,1', '8342', '13025', '4858', '7707', '12708', '10652,6', '31040', '5212', '25180', '12893', '29094', '19486', '46960', '6519', '21795', '4944', '6724', '2055', '17208', '5862', '28098', '15639', '43373', '5092', '4498', '39327,2', '13999,2', '35598,01', '3358', '14193', '9221', '14918', '3067', '27343', '30064,83', '11016', '21999', '58490', '3072', '3880', '30820', '11526', '4910', '22830', '10778', '3760', '5249', '12321', '9693', '36308', '49750', '26920', '9998', '31696', '15372', '10330', '99800', '24647', '17789,2', '13325', '7667', '20240', '8399', '15917', '20826', '21790', '9393', '9882', '7745', '9130', '19137', '11666', '6551', '22520', '18538', '11604,74', '29799', '21861', '34618', '12435', '26337', '4460', '4325', '26440,91', '8361,9', '5304', '4658', '5822', '25151', '4117', '17398,2', '10857', '9647', '17815', '26060', '17648', '26396', '8639', '5379', '19481', '5504', '11489,91', '12599,9', '25472', '4184', '5268,47', '19184', '19269', '28730', '5994', '2835,15', '21060', '9025', '9457,2', '5524', '3810', '45482', '11236', '10280', '17693', '11323', '9198', '27905', '12262', '7830', '7680', '11364', '32420', '13065', '7990,9', '15797', '14002', '10583', '11968', '19795', '4212,8', '4170', '9632', '16640', '27795', '3584', '7392', '6966', '37855,6', '17082', '13989,94', '24125', '8780', '10320', '21490', '17323', '19907', '16407', '22711,21', '8909', '8394', '28540', '24030', '5436', '9650', '19944', '10879', '11383', '5544', '13680', '2826', '11738', '65448', '14760', '5340', '4980', '3480', '69825', '4117,5', '6823', '11948', '2439', '3783', '7995', '20290', '11197', '9733', '23423', '9212', '2009', '29177', '20490', '16142', '14931', '4775', '19005', '20227,72', '5390', '21410', '20850,92', '17863', '14130', '27899', '8850', '16576', '20952', '2700', '18756', '19457', '14570,01', '3640', '18964', '12849', '5765', '7095', '4026,55', '57706', '24198', '12399', '3464', '3399', '28689', '21124', '5910', '16371', '2660', '26500', '4241', '14229', '15790', '16047,1', '18668', '32680', '7270', '19478', '35980', '6569', '5219', '22072', '11250', '16312', '30350', '3188', '4339', '27695', '4790', '17956', '3167', '4000', '4821', '25210', '4125,6', '27854', '3030', '2691,9', '13249', '12180', '63776', '28437', '9971,3', '8939', '8603', '15480', '20910', '2450', '13734', '3748', '7342', '22194', '9447', '12861', '24159', '14590', '18845', '9287', '2707,2', '48370', '18906', '26302', '16998', '16920', '22747', '6875', '24651', '14875', '24132', '15036,21', '4235', '12246', '15075', '20398', '8225', '17549', '4300', '15090', '6112', '7320', '4377', '24830', '6926', '7725', '10738,5', '26461', '4815', '19843', '20525', '45110', '9840', '5037', '10717', '31000', '14574', '7148', '11834', '15186', '13321', '17490,92', '14536', '3875', '17996,1', '14790', '20783', '35165', '11677', '14120', '37293', '12672', '12786', '25343', '13001', '3778', '4602', '8420', '17946', '7240,5', '27439', '25280', '24970', '3626', '7463', '11191', '10189', '25823', '14688', '95670', '5897', '17729', '10360', '14709', '21280', '11199', '30490', '5989,5', '7525', '23745', '5794', '26337,6', '5676', '9325', '19267', '46100', '23944', '15003', '6904', '31991', '10712', '4126', '18212', '11077', '18880', '20239', '9027', '22000', '8718,1', '71740', '21975', '11539', '19079', '12398', '2959', '15190', '24996', '5149', '20040', '8329', '13112', '19820', '40050', '3010', '73230', '44920', '55995', '27456', '10417', '25904', '26276', '10256,1', '4982,4', '18566', '45820', '21524', '26817', '26913', '16609,09', '18096', '19760', '13250', '17740', '12111', '10231,2', '30154', '28050', '5486', '4598', '12341', '10854', '9060', '16155', '6211', '5668', '14730', '3827', '15653', '28162', '4351', '11636,7', '2319', '29297', '42950', '18187', '18855', '36701', '34295', '31468', '10161', '7298', '13765', '5872', '20536', '25182,4', '21395', '21078', '3039', '8568', '32449', '18463', '11786,85', '10432', '10420', '15393', '3825', '15560', '18410', '9750', '15098', '25599', '9933', '36187', '17670', '12953', '13227,1', '13245,02', '19100', '31446', '2799', '25095', '10450', '35790', '10046', '5980', '51685', '7220', '8834', '11892', '32310', '6000', '35097,66', '5674,5', '5488', '34950', '4420', '36115', '9390', '10454', '21020', '20421', '3535', '8606', '10617', '97220', '65747', '8652', '27233', '3746,7', '62468', '3060', '6616', '45438', '10844', '18242', '5604', '10160', '9579', '18675', '5242,3', '7336', '22428', '6869', '11430', '8361', '35580,91', '9919', '43750', '5916', '23992', '3168', '7013', '35360', '11833', '7632,92', '20294', '14766', '15833', '21370', '15784', '20112', '23437', '16977,28', '3485', '35369,4', '5807', '2936', '38498', '4255', '14656,5', '10331', '20880', '27347', '19800', '23161', '27392', '22417', '14377', '21365', '20169', '19311', '29250', '5751', '27088', '20874', '36750', '8491,5', '9200', '27846', '21588', '2095', '4773', '10442', '5017,9', '6756', '5911', '14493', '34252', '14488', '37391', '42740', '22947', '22070', '18414', '19593', '13998', '38193,8', '6050', '7650', '28100', '4490', '27207', '13930', '5329', '4474', '9655', '21086', '26950', '8198', '2190,2', '15766', '15311', '27611', '69076', '12702', '17825', '20317', '17485', '13952', '20229', '21204', '21948', '26125', '5598', '8898', '13686', '25785', '5022', '34000', '7389', '4843', '27156', '49940', '32724', '17796', '12789,91', '5755', '21030', '36877,25', '24531,06', '9184', '4504', '5228', '16070', '19507', '27890', '27342,5', '18807', '5083', '16450', '21707', '27650', '18170', '17483', '5195', '9930', '4059', '10448,9', '16240', '14601', '22150', '8290', '56680', '25901', '3215', '6599', '5299', '20086', '4505', '24816', '11768', '9021', '23210', '28350', '10635', '16737', '6330', '26145', '13099', '26598', '82849', '5353,5', '11487', '15488', '32880', '4548', '9251', '11648,1', '6541', '27125', '7713', '26590', '4838', '3549', '4899', '17437', '15598', '7500', '29280', '9973', '3749', '18600', '11405', '3111', '5018', '5762,88', '14160', '4937', '22790', '29941', '11348,1', '19613', '17613', '10971', '3858', '10381,5', '14390', '9235', '12799', '16880', '9299', '11978', '36498', '17979', '13872', '41845', '8750', '8064', '7677', '18126', '3941', '4500,95', '20210', '28482', '10625', '4499,2', '15096', '3377', '13869', '9248', '9681', '6348', '24166', '4850', '9779', '28247', '38990', '8947', '5494', '15740', '25601', '8647', '23584', '18896', '37980', '4908', '19015', '28026', '24275', '8694', '13950', '13113', '4477', '16571', '15960', '24465', '6448', '15518,2', '2489', '12140,92', '23828', '10708', '5660', '21700', '15200', '9224', '34120', '6530', '19689', '19150', '2872', '30873', '28469', '5485,95', '4767', '8006,1', '15913', '49223', '11407', '61915', '6828', '2590', '6747', '34720', '22398', '18580', '11601', '12471', '16300', '2224,9', '6820', '14196', '14119', '22236', '27916', '28791', '22575', '15556', '7344', '18144', '14460', '7796', '55110', '24682', '14595', '31496', '9059,92', '2690', '8040', '16099', '56210', '12250', '16601', '13922', '31400', '76160', '15630', '6736', '9444', '9665', '3660', '18269', '2880', '3838', '19720', '4401', '21290', '11655', '5812', '15843', '15016', '6991', '5773', '16495', '17480', '9414', '31365', '26520', '11895', '7593,48', '3920', '32822', '8041', '53980', '10463', '22020', '4979', '15229', '20968', '13089', '13888', '5500', '24605', '31484,1', '5222', '13536', '15984', '9631', '63657', '5418', '11325', '10945', '3404', '10540', '14391', '6111', '6746', '18612', '9072', '20613', '13456', '7850', '15540', '14207,1', '7509', '16329', '14599', '14470', '28180', '37440', '25098', '6198', '56768', '4823', '12856', '31294', '5559', '40680', '3460', '29630', '58567', '10508', '51140', '2888', '23499', '21300', '3231', '28472', '15121', '12725', '26164', '11615', '10486', '16279', '12468', '6672', '25940', '5988', '35316', '18980', '7368', '21797', '11640', '12755', '18099', '12312', '13750', '9672', '13260', '49227', '16479', '3909', '10910', '29875', '10460', '2819', '14527', '17499', '50900', '23758', '9030', '10852', '4397', '24880', '9905', '12905', '14997', '10349', '10740,64', '23180', '5525', '20589', '14644', '23218', '9099', '21850,94', '6435', '15647', '12639', '23058', '8846', '3899', '3490,92', '5496', '9681,5', '22015', '6995', '37466', '8396', '90590', '5428', '22286', '8529', '3257', '30778,91', '31990', '21349', '6776', '13254', '14477', '19630', '28428', '62100', '19106', '7350', '11006', '27098', '12591', '8792', '26200', '42746', '2578', '7060', '18810', '19040', '5493,04', '23910', '4275', '9690', '5709', '22265', '6194,7', '34629', '27090', '6319', '8171', '11255', '24450', '11039', '8800', '11540', '20375', '28680', '17811', '14397', '6980', '6889', '14880', '6503', '33290', '27370', '7640', '8340', '50177', '27234', '6525', '19791', '23029', '6968', '2510', '24420', '18819', '19051', '17145', '15789', '15325', '27356', '23148', '16669,84', '9927,1', '7421', '9153', '11990,91', '14849', '13815', '24846', '16595', '49798,1', '7784', '24475', '16398', '4611', '17878', '20009', '23798', '6809', '9233', '23030', '18970', '15367', '28600', '9630', '97026', '9900', '38650', '9640', '37531', '3454', '11532', '27163', '3900', '26870', '13849', '17567', '21630', '8698', '10648', '34140', '48500', '7469', '6139', '26329', '14991', '24145', '18724', '51200', '3170', '14222', '5588', '29538', '14189', '8844', '31687', '89344', '19350', '20750', '9452,97', '12166', '10646', '12304', '11849,2', '40594', '18435', '36865', '9577,8', '8430', '17599', '16220', '19300', '19989', '18220', '21330', '10149', '33350', '13520', '11534', '21199', '16820', '13489', '4668', '7629', '10889', '23124', '9438', '7115', '2619', '7083', '4348', '34369', '11344', '24858', '18710', '22430', '6757', '3093', '49860', '27501', '27686,2', '21219', '20507', '6360', '10204', '25700', '15759,75', '4689', '2039', '5076', '8619', '12239', '15033', '10342', '16128', '36560', '29199', '8389,91', '29830', '138400', '10536', '11744', '7422', '22525', '12598', '15418', '10448', '11740', '3357', '2829', '10040', '13476', '6675', '19940', '8127', '8035', '12249', '47789', '26030', '17775', '15230', '45898', '27877', '7625', '8955', '7918', '14070', '10707', '25068,94', '8199', '13148', '9317', '5129', '25420', '18296', '35498,4', '20080', '5550', '24480', '15354', '13027', '8753', '23670', '11960,94', '16230', '18999,2', '14239', '23735', '28230', '12024', '8883', '27010', '4118', '15670', '7786', '4647', '17496', '22745', '7135', '4756,5', '3360', '23787', '32976', '5359', '14152', '16766,1', '22048', '7829', '11017,35', '25820', '22904', '4312', '19095', '4389', '14440', '41249,65', '12700', '2478,6', '14550', '20904', '22047', '7000', '10520', '5840,5', '11798', '16883', '29904', '20304', '4731', '26775', '9395', '24200', '10298', '7116', '5297', '10428', '14661', '10492', '46600', '10422', '35142', '9590', '3447', '15907', '18058', '16145', '4302', '21592', '6374,78', '8148', '11359', '38919', '27175', '52864', '21911', '17055', '35598', '6853', '14781', '17716', '16660', '20103,82', '14795', '9302,92', '19455', '18008,55', '10656', '3646', '13115,6', '8900', '13510', '7586', '18224', '13995', '23544', '39626,1', '5625', '6779,07', '9820', '34148', '18390', '13463', '98136', '19380', '6467', '4920', '7895', '8308,35', '21450', '1843', '18549', '16244,9', '8998', '12521', '13389', '12284', '29478', '14889', '15645', '9759', '20063', '4077', '16571,2', '6266', '4448,23', '4586,92', '93400', '4150', '32892', '26490', '16395', '13940', '5799,2', '9120', '10738', '39996', '4875', '18782,2', '18960', '83194', '9357', '14495,35', '3293', '7299', '31460', '16687', '20520', '6380,91', '21802', '32490', '23706', '4371', '2150', '9524', '13271', '20480', '13959', '9370', '54800', '5351', '21770', '30267', '10465', '22621', '20876', '19301', '15788', '25742', '31910', '13981,82', '37407', '9576,1', '31604', '3245', '19341,2', '19752', '3316', '17316', '15148', '10576', '28919', '16367', '23201', '5520', '6294', '25560', '7090', '15503', '3630', '24579', '7738', '5174', '38995', '17180', '8173,15', '21783', '3575', '16843', '16979', '31278', '27062', '12640', '2152', '21218', '10735', '17300', '4225', '2996', '14528', '4660', '8244', '86071', '16110', '37800', '25300', '11138', '29615', '25120', '11986', '17840', '2955', '25775', '19290', '6490,5', '10500,72', '4637', '7473', '12147', '21345', '17865', '23900', '6032', '17952', '7614', '20423,66', '13053,2', '35157', '5013', '12537', '32593', '28390', '2238', '2759', '10599', '3545', '9755', '17970', '19497', '6800', '44255', '43195', '2305,8', '11180', '10326', '11321', '2094', '5810', '17646', '14523', '2100', '6298,6', '5095', '12648', '14279', '15700', '23784', '18670', '18967,83', '9189', '5177', '25590', '19430', '9270', '37017', '61487', '30946,29', '9159', '23025', '9338', '28840', '7047', '24435', '11120', '13388', '11636', '27457', '3016', '95441', '4177', '17605', '9176', '6790', '13497', '4844', '5871', '5146', '4781', '15130', '18288', '11926', '23697', '17140', '14013', '23746', '17778', '17428', '3984', '23410', '2831,97', '2780', '2950', '12195', '9813', '36063', '7958', '8999', '7216', '5850', '8088', '62700', '27690', '11210', '62000', '18200', '30206', '8751', '20502', '15658', '12710', '2947', '27067,92', '10864', '23546', '4240,91', '59750', '12900', '19450', '48572', '20205', '29040', '10528', '15890,9', '9927', '13221', '7262', '16653', '25961,42', '20780', '24059,83', '21578', '18329', '26898', '12789', '21696', '62240', '30428', '9081', '10548', '12833', '10965', '11999,99', '3033,9', '3869', '17185', '3608', '22390', '22670', '5070', '16362', '32397', '15279', '11196', '23516,84', '17991', '56518', '28240', '21347', '20565', '4600', '11754', '27298', '22410', '14990,95', '26621', '9110', '4153', '22293', '8964', '4642', '23530', '9178', '23057', '7926', '31610', '23696', '9689', '24951', '25297', '18576', '21362', '6624', '6698', '23783', '5960', '20610', '6045', '29880', '10439,1', '14035', '12959', '25367', '22499', '5499', '15720', '20330', '9400', '5377', '15181', '16824', '20320', '10740', '10714', '3372', '11697', '20052', '12995', '38244', '8381', '7973', '13220', '19502', '56125', '3413', '8860', '5573', '34840', '24881', '7330', '5639', '16358', '8009', '29001', '5174,2', '17308', '10697', '11710', '21804', '32280', '32330', '36170', '21780', '18138', '25397', '17520', '3415', '19035', '13300,91', '12278', '29234', '12910', '8930', '3701', '13516', '8981', '4276', '12080', '15936', '14446,3', '50020', '3515', '7399', '70500', '17759,27', '26938', '28722', '26260', '18491', '10175', '7400', '18068', '5975', '33320', '3815', '33111', '9398', '8912', '5964', '4745', '30150', '2579', '3919', '4947', '5542', '25050', '11787', '6035', '7300', '36500', '27337', '10538', '20338', '6965', '9007', '51777', '7915', '20496', '10505,5', '6629', '14647', '35290', '7759', '77000', '12909', '8490', '3000,91', '10629', '7908', '11760', '15292', '20393', '29536', '4701,6', '21510', '16189', '22515', '21762', '18240', '4870', '8150', '6056', '9707', '11160', '12255', '13850', '15314', '13355', '37629', '10299', '19949', '26596', '23793', '4675', '13139', '3613', '17210', '11363,99', '22685', '12967', '6685', '21050', '11247', '27446', '5029', '8181', '6786', '22170', '99350', '11198', '4249', '39110', '5870', '9805', '25362', '3020', '14960', '5068', '11428', '19996', '8492', '17525', '16715', '13599', '15690', '5797', '30615', '84800', '3661,01', '97040', '17750', '8870', '10092', '21784', '7982', '11916', '2333', '5694', '33300', '9746', '22598,1', '6868,2', '23033', '13770', '30814', '13504', '7208', '2610', '21899,94', '26138', '12505', '21935', '22694', '25631', '8655', '27468', '2008,8', '27989', '6171', '22374', '10900', '24127', '8995', '10585', '13920', '26361', '11619,84', '16194', '86900', '4535', '6236', '20150', '6291', '98030', '6440', '16302', '5005', '24236', '46835,75', '12342', '6250', '25627', '18685,4', '12845', '13176', '8888', '84000', '10105', '20877', '5590', '9070', '3359', '71500', '9345', '7821', '21624', '18280', '10143', '19889,8', '22365', '16476', '12575'}\n",
      "\n",
      "\n",
      "==========\n",
      "FST_PAYMENT\n",
      "{'10095', '616', '12834', '2400', '1290', '12050', '4000,61', '650,95', '3411', '524', '2758', '13079', '2999,9', '772', '2836', '46500', '15383', '231', '5576', '3420', '13170', '2755', '612', '529', '9100', '2457', '14935', '494', '6295', '5001,9', '4990', '2000,8', '1970', '2698', '1077', '35500', '2500', '3435', '12948', '10234', '280', '4650', '14221', '6780', '3500,6', '245,6', '16740', '3100,3', '1565', '657', '717,2', '4739', '3000,68', '383,2', '985', '1729', '4000,92', '760', '685', '10482', '3305', '10603', '9990', '1705,5', '984', '11090', '50642', '1131', '2874', '4715', '10500', '4768', '1500,2', '5210', '6486', '4636,37', '992', '4480', '1700,95', '1240', '816', '3265', '75492', '3999', '9037', '1767', '1304', '9272', '5177', '260', '1390', '8120', '460', '2470', '5375', '479', '2437', '1163', '5000,91', '1364', '3310', '2790', '13100', '1708', '767', '8113', '2988', '1335', '6016', '13818', '4240', '2826,6', '489,86', '2253', '2265', '640', '363,5', '3669,6', '9490', '11500', '3469', '2020', '3220', '2560', '54910', '2760', '10200', '2899', '10000,2', '2616', '6289', '15701', '337,1', '942', '1697', '1672', '1962', '9592', '9000,6', '3898', '7999', '470', '1597', '4387', '1293', '41760', '1922', '578,1', '1036', '23691', '533', '60432', '1649', '509', '439,95', '273', '13200', '2514', '1392', '2000,91', '10469', '19151', '852', '1910', '1020', '7524', '2999', '1229', '2200,4', '2348,8', '4488', '1159', '1435', '4749', '26090', '2404', '2365', '2000,1', '1300,4', '5383,85', '2595', '1008', '13526', '2172', '351', '5714', '551', '5380', '3105,06', '11850', '4520', '5506', '3033', '2160', '3484', '1356,4', '1178,18', '2852', '6513', '7312', '979,5', '323,1', '2189', '606,2', '792', '1898', '1190,95', '1358', '13681', '2604', '2990', '4629', '1210', '1732', '483', '3677,98', '2803', '10239', '425,4', '4082', '1000,89', '5382', '5021', '996', '1419', '7261', '2850', '1850', '1190', '1050,4', '1599', '856', '2540', '4267', '2315', '2198', '2725,68', '2547', '1849', '3735', '1089,5', '878', '3387', '5640', '1242', '8656', '830,6', '4162', '342', '13650', '1529', '1854', '3688', '319', '7420', '7569', '1150', '3600', '539', '433', '2014', '15600', '9754', '3137,9', '247,2', '336', '334', '3257,04', '46300', '3763', '1169,3', '17500', '598', '1725', '56328', '4757', '7325', '1509', '675,5', '317', '6680', '2503', '44000', '6900', '14855', '887', '18900', '3159', '2099', '1567', '6115', '1215', '13300', '14300', '4206,8', '2493', '5036', '3141', '559', '1688', '3274,02', '1382', '1121', '700,83', '1948,2', '32000', '3489', '12335', '3516', '3621,7', '627,4', '6143', '1314', '690,95', '36730', '1847', '7128', '3812,6', '5662', '1258', '4983,2', '9250', '3371', '2424', '10400', '2372', '1047,82', '3311', '298', '10933', '1839', '10255', '7590', '4360', '885', '177', '12211', '6646,5', '481', '2394', '3690', '1178', '100,91', '5999,85', '1829', '4131', '5045', '269', '10766', '37000', '159', '1279,9', '5373', '623', '1318', '3134', '426', '1137', '8117', '2482,84', '3187,74', '10007', '1077,86', '1071', '3569', '4086', '1120', '751', '633', '2016', '2015', '4030', '4999', '323,25', '1827', '7883', '8500', '2230', '20000,91', '708', '5290', '899', '51127', '2200', '3543', '1081', '242', '7750', '2245', '2105', '50442', '4080', '11440', '1340', '1691,6', '3199', '509,3', '10759', '1703', '1700,91', '11200', '48000', '404,1', '12088', '1999,2', '2609', '2900,5', '2062,5', '18256', '3846', '8235', '475,1', '2166', '901', '5155', '4880', '1669', '2282', '15900', '1899', '13000', '1189', '2133', '742', '2865', '14970', '627', '12251', '3538', '6901', '9169', '1200,2', '9264', '5160', '1696', '6948', '421', '5060', '1344', '3332', '3098,88', '4000,91', '236', '1689', '3025', '384', '49337', '4000,9', '1500,5', '1320', '10000,92', '1132', '1243', '2569', '4260', '1035', '3046', '21000', '4708', '1999', '31350', '943', '3980', '605', '43200', '625', '4869', '18719', '2518', '1105', '696', '5168', '3230', '4095', '485,2', '1520', '2715', '15000,4', '2580', '4139,36', '10981', '8680', '51364', '6719', '9907', '4569', '15606', '1459', '3417', '4370', '2201', '7142', '2832', '2784', '940', '3142', '1173', '11548', '6603', '228', '5704', '891', '5610', '4304', '50120', '250', '5124', '1125,3', '1777,91', '15500', '1908', '58800', '471', '1799', '5268', '518', '880,2', '1596', '55000', '6950,8', '2116,57', '45000', '90000', '3580', '3599', '9530', '642', '2233', '5000,92', '665', '1999,8', '1574,1', '250,6', '1585', '749,95', '645', '6257', '835', '2259', '4341', '5366', '4522', '1360', '1160', '17235', '1371', '2041', '1188', '2702', '5928', '11320', '1681', '6068', '1556', '6196', '2553', '3115', '1051,1', '3171', '10489,92', '4040', '561', '969,8', '18500', '582', '2321', '2040', '10560', '1818', '10980', '4916', '1472', '2930', '2517', '589', '4846,96', '1994', '9105', '3290', '863', '229,5', '968', '283', '7749', '7120', '2491', '5260', '47000', '65481', '413,1', '63219', '6000,47', '1438', '5744,5', '4992', '2720', '290', '1825', '20300', '5477', '6550', '3264', '11300', '4106', '302', '4457,5', '353', '1050,92', '3052', '3364', '1629', '14582', '2597', '941', '7623,3', '1802', '648,28', '3670,2', '27000', '7747', '387,6', '2562', '260,1', '2008', '1365', '469', '4440', '2475', '8330', '696,1', '3946', '7185', '3718,2', '7795', '11337', '2643,88', '484,5', '2472,5', '4991,92', '2614', '704', '1238', '13776', '2717', '6730', '3774', '5942', '1507', '1837', '176', '1005', '1000,67', '9619', '1248', '5030', '1869', '1561', '4155', '1800,2', '2070', '1154', '1423,89', '2223', '6365', '8261', '963', '29327', '24800', '11646', '4860', '1497', '3173', '46169,2', '846', '10725', '588', '5750', '1745', '6340', '4138', '4593', '25089', '1410', '5920,65', '4925', '2350,3', '1041', '1927', '1677', '50500', '1386', '2395', '406', '595', '1523', '29860', '140', '797', '929', '1347', '1403', '10051', '1276,8', '6310', '16757,97', '2244', '9992', '1955', '1195', '4350', '4830', '60635', '2206', '498,6', '507', '6500', '3596', '3490,82', '1560', '9350,95', '1310,62', '413,5', '261', '5140', '1460', '788', '729', '5031', '49500', '2130', '16668,82', '824', '1429', '1143', '2904,2', '6290', '1877', '256,2', '6239', '1980', '799,5', '1902', '10350', '514,6', '5273', '1952', '1302', '354', '3537', '1004,2', '7698', '6325', '7395', '9824', '808', '2885', '1622', '1912', '392', '3235', '4363', '7272', '3162,71', '3363', '1990,91', '4507,34', '2890', '7660', '934', '360', '1466', '18735', '600,9', '2248', '1490', '2079', '15120', '4800', '464', '3739', '5999', '1264', '1525', '694', '6445,86', '4390', '9996', '532', '9838', '613', '4055', '7633', '1648', '659', '2029', '372', '114', '1905', '545', '289', '3087', '3297', '2984', '669,3', '39910', '2500,25', '3620', '2730', '2605', '28257', '54230', '1953', '1771', '476', '1608', '3194', '26400', '1203', '1949', '16000', '1440', '413,95', '678,03', '4378', '12520', '1936', '1171', '7882', '7860', '1979', '4434', '3950', '2392', '1797', '4653', '5044', '1399,8', '6002', '1679,67', '1099,1', '2574', '1039', '3284', '1190,9', '15795', '315', '14600', '14322', '1058', '555,2', '2257', '5902', '3492', '4014', '2375', '6777', '9245', '9568', '5134', '5387', '3703', '3080', '1657', '535', '5650', '465', '1574', '1992', '25370', '4570', '7989', '2935', '394', '1860', '494,5', '2127', '443', '234', '209', '2088', '10795', '1685', '5081', '21650', '22799,2', '2176,49', '48156,13', '1700,92', '1670', '631', '5890', '1089', '769', '5247', '1271', '3334', '326', '444,1', '3050', '7107', '9114,9', '2915', '638', '448', '10777', '9520', '7170', '3850', '1141', '600', '2570', '1470', '2412', '2346', '19400', '9288', '1819', '11078', '1363', '1645', '13792', '7805', '10', '1866,6', '619', '306', '1580', '230', '9923', '2047', '4948', '2123', '10502', '2170', '12500', '4546,8', '1512,1', '1737', '2698,93', '3260', '7858', '3926', '3374', '3394', '9790', '850', '0,95', '1275', '7244', '1757', '10434', '1439', '4315', '1305', '3136', '10934', '2934', '4340', '1076', '349', '10162', '752', '1500,92', '44216', '3666,2', '1925', '2327', '1252,05', '948', '2053', '4986,5', '3503', '2599', '320,5', '1743', '8320', '9300', '258', '3205', '2375,68', '331', '1424', '1095', '5330', '7740', '1399,7', '488', '3750', '989', '3820', '3252', '7443', '953', '6398', '754,2', '3619', '1099', '938', '1257', '3590', '18590', '2754', '22940', '575', '1106', '2329', '2357', '124', '3430', '1511', '1329', '21912', '19990', '5245', '746', '2316', '1418', '3105', '5342,94', '2380', '320', '1791', '5700', '9472', '3901', '2430', '4950', '1921', '3730', '3315', '3031', '1319', '2454', '2000,22', '20000', '2550', '3762', '1378', '27600', '1516', '7836', '2621,78', '3810,44', '42906', '448,9', '542', '4770', '6794', '2490', '9103', '6437', '954', '1079', '5345,64', '9533', '1671', '1956,37', '3006', '1297', '2855', '5244', '3702', '7913', '43359', '3568', '7149', '1399,3', '6510,2', '2280', '622', '2578,8', '1800', '5502', '3090', '17610', '675', '5990', '3270,7', '3658', '5548,4', '3195', '2877', '1488', '38800', '694,2', '3935', '438', '6670', '2937', '11700', '1790', '5873', '1501', '1269', '3064', '9362,28', '299', '10685', '2331', '6920', '1875', '1436', '3636', '3340', '1987', '3595', '7240', '2240', '3656', '906', '23950', '1615', '13790', '9040', '10089', '770', '3699', '3165', '11580', '397,7', '10050', '10750', '4551', '34776', '11400', '9574', '2210', '4250', '7631', '12999', '2925', '3560', '34676,51', '327', '2712', '53370', '6217', '8300', '5300', '10147', '927', '8390', '8349', '1726', '2330', '1769', '1978', '515', '3200', '15240', '1544', '3398', '21839', '1631', '7080', '1679', '2129', '25400', '1549', '4310', '3095', '4071', '369', '25791', '1030', '3836', '2190', '2067', '667', '5190', '4214', '918', '2356', '1876,25', '606', '1591', '2820', '1103', '1246', '6748', '2835', '1865', '12367', '20550', '2545', '5989', '138', '3333', '363,8', '3081', '3945', '446,4', '3245,95', '650', '1323', '4630', '1422', '14448', '10100', '12150', '810', '265', '10176', '1324', '12244', '4752', '6094', '387', '11000', '2419', '3054', '1835', '1710,1', '1104', '870,4', '1894', '18152', '2207', '160', '1370', '855', '389,94', '1421', '10425', '10098', '711', '5540', '14674', '724', '33590', '1491', '6890', '3759', '980', '38000', '9068', '463,2', '2369', '386', '5703', '744', '565', '1048', '5280', '347,6', '9833', '21900', '9760', '12600', '6717', '615', '15140', '2209,5', '2998', '4018', '1872', '3687,5', '3995,98', '1493', '2286', '3609', '3335', '1477', '12334', '1770', '10516', '13539', '44500', '2467', '5950', '1786', '2077', '7174,87', '1682', '5845', '3251', '4013', '2812', '790', '11080', '2405,69', '9375', '11560', '1647', '3299', '1432', '510', '2613', '1028', '3448', '4090', '4882', '7900', '1815', '781', '350', '3002', '1135', '6699', '2397', '1093,4', '3280', '19470', '32348', '3086', '500,91', '1539', '7990', '1437', '16750', '2769,27', '2593', '655', '4536', '6950', '2044', '9800', '7670', '30660', '1172', '2926,4', '500', '3957', '7174,56', '2685', '4560', '1731', '7450', '2799,8', '4710', '7133', '9445,95', '4499', '2323', '2064,91', '2231', '2075', '517', '780,1', '23700', '737', '1458,8', '3477,91', '2410', '409', '368', '1972', '6371', '6543', '6972', '2390', '7049', '2256', '1887', '1605', '1291', '12815', '1897', '541', '5194', '1260', '9909', '5786', '3449', '2800,2', '456', '3765', '5490', '1362', '10619', '8945', '515,85', '811', '4000,22', '3104', '762', '4005', '2643', '5203', '9425', '2263', '213', '2019,95', '2294', '1155', '6945', '3410', '7964', '4033,93', '6835', '2602,3', '3977', '1695', '44980', '7518', '9550', '12110', '1653', '5056', '5630', '5999,2', '7519,6', '1781', '2979', '1136,8', '2568', '10719', '4759,6', '959,3', '1948', '854', '16500', '1926', '915', '71999', '2689', '2505', '16484', '1343', '4750', '1634', '3433,2', '3148', '338', '804,5', '5555', '1874,7', '3206,83', '24500', '3186', '2409', '3000,05', '1116', '1842', '299,92', '1140', '3749,74', '7140', '1216,85', '11890', '3096', '740', '2052', '720', '3000,94', '2106', '6544', '4364', '2099,85', '1245', '637,3', '1918', '3023', '9995', '41300', '1814', '1800,28', '1224', '1452', '24900', '495', '4666', '345,3', '1812', '468', '982', '2522', '2000,6', '7249', '4268,72', '599', '604', '2878', '3278,9', '676,8', '1939', '16515', '6005,5', '21648', '10410', '5825', '10796', '9254', '1519', '4444', '3198', '4850,8', '2360', '1170', '15091', '2728', '7100', '5820', '11221,5', '920', '10960', '1148', '1759', '1411', '2187', '4515,82', '120', '1871,75', '753,23', '4746', '2949,7', '2179', '2901,6', '7098,5', '240', '2288', '930,91', '1606', '366', '1678', '1004', '699', '2670', '4346', '19950', '879', '3740', '999,2', '2740', '12300', '19650', '6317', '3800', '4244', '57300', '12100', '3400', '10030', '1013', '1423', '15000,92', '2975', '14940', '648', '2168', '2499', '19730', '13580', '1960', '1556,8', '3804', '1152', '9050', '2848', '5653', '4640', '1199', '964', '6703', '3490', '3040', '5560', '688,3', '380', '3009,25', '9639', '1093', '1395', '2703', '5320', '6532', '3890', '2785', '1000,88', '2559', '1253,7', '49356', '10515', '43500', '239', '609,6', '511', '3145', '586', '10133', '5010', '1740', '573', '8990', '768', '9663', '197', '3202', '71000', '200', '3072,03', '7481,98', '2985', '2121', '15800', '1158', '990', '5361', '2923,35', '1145', '1112', '3270,82', '1609', '630', '4742', '2199', '738', '1883', '10060', '10696', '676', '3495', '1479', '16800', '2307', '2995', '14420', '14400', '849', '718', '35100', '2663', '5463', '323', '1067', '1018,5', '3639,5', '1788', '5360', '446,88', '1068', '10527', '1069', '2080', '3304', '7550', '2180', '3078', '10850', '1175', '22399', '5148', '63213', '7887', '1930,94', '6402', '527', '4198', '692', '313', '673', '756', '1830', '9016', '2797', '702', '4098', '54080', '2232', '55600', '1147,9', '17930', '10270', '2118', '13395', '5722,21', '890', '1126', '2753', '9685', '3250', '1775', '8816', '2260', '1907', '8110', '5279', '2688,69', '4504', '4500', '3470', '2674', '1341', '8421', '5277', '630,5', '5900', '2869,9', '8100', '2349,6', '3899,95', '53598', '14190', '4898', '669,2', '434', '1640', '2193', '9784', '1016', '653', '1845', '3131', '706', '757', '4515', '1011', '6407', '339', '33694', '49582', '10630', '2497', '1899,1', '1654', '20460', '8861', '7280,83', '40100', '7902', '1751', '10706', '2942', '5609', '3094', '868,83', '961', '913', '1454', '17000', '2221', '2310', '3175,73', '20561', '305,1', '1312', '2546', '4190', '2751', '1327', '11498', '13840', '24000', '1295', '4550', '1201', '1000,2', '2970', '53577', '1795', '4619', '614', '3450', '10230', '2086', '6390', '2063', '6575', '11859', '4851', '2708', '500,39', '6641', '9922', '487', '3014', '1503', '3522', '5974,22', '2112', '480,9', '35000', '7720', '7780', '2651', '3028', '8010', '65000', '7820', '5838', '1299', '36330', '553,6', '2630', '560', '4003', '229', '99', '3790', '2561', '799,92', '5040', '2400,1', '643', '15460', '9532', '48800', '3160', '2215', '2834', '675,3', '3902', '1855', '3183', '2964', '8986', '1498,5', '1522', '368,95', '1650', '1821', '1374', '870', '2684', '9874', '2656,4', '17669', '11860', '858', '3657', '505,4', '1231', '3369', '2750', '8263', '2825,5', '3071,52', '44963', '13184', '6160', '2778', '1638', '20644', '2320', '1545', '1999,94', '11689', '7758', '5400', '1080', '823', '499', '389', '6169,98', '20865', '8274', '729,1', '227,5', '2811', '1374,88', '504', '8700', '537,85', '3298', '4589', '2815', '3997', '8078', '2269', '48210', '2716', '3924', '17814,4', '8250', '7553', '1482', '6960', '423', '11600', '4887', '444', '1385', '7567', '9890', '11898', '8734', '1866', '2178', '17408', '10397', '804', '2151', '2006', '5844', '5600', '20810', '5631', '2247', '1360,92', '971', '1322', '2219', '1400,95', '2688', '602', '2659', '7506', '8540', '11065', '9257,3', '2420,1', '845,5', '1166', '4565', '1078', '4400', '33665', '2091', '5396', '13177', '11673', '9975', '5033', '5578', '2059', '13126', '4743', '3547', '932', '1002', '669', '4725', '1755', '9749', '2701,27', '30412', '3650,1', '3951', '852,2', '5352', '3130', '23800', '59066', '9467', '8200', '3337', '10512', '6646', '2241', '2365,13', '3414', '5078', '1720', '412,1', '3874', '6007', '3425', '449,1', '249,3', '25131,59', '1601', '7345', '8115', '1901', '2989', '3717', '4587', '6820,45', '4060', '540', '6712', '9904', '2214', '14281', '1029,41', '2617', '2723', '3089', '1046', '1969', '1564', '6952', '1249,95', '666', '223', '7259', '9500', '2980,5', '1702', '448,5', '2000,95', '1807', '8082', '3621', '2686', '2034', '2466', '5655', '1806', '2739', '26410', '2966,2', '972', '8790', '210', '635', '4620', '2030', '3370', '1345', '5385', '665,5', '6307', '7447', '8000,2', '3000,4', '2248,1', '620', '6499,2', '1368', '425', '4607', '1082', '4289', '2383', '12420', '9991', '4590', '1359', '8445', '837', '5753', '4482', '585', '4858,99', '2211', '1110', '1577', '2216', '1881', '7707', '4225,44', '877', '4706', '2698,89', '292,2', '1800,1', '1053', '1528', '539,09', '6519', '3995', '2482', '4944', '355', '2055', '3885', '3445', '1915', '4876', '2078', '3159,86', '787', '19584,4', '900', '3300', '3756', '1196', '346', '22710', '1831', '580', '5450', '4498', '1066', '6000,81', '11762,27', '1535', '944', '21750', '41774', '3358', '782,8', '974', '1890,5', '3097,8', '5398,1', '1366,05', '1670,69', '3107', '6650', '1309,65', '11790', '3416', '305', '2092,94', '35269,21', '513', '8522,2', '522', '644', '843', '1142', '3880', '303', '937', '2805', '4359', '4910', '7744', '755', '26000', '728', '800,1', '44303', '8710', '3298,5', '3760', '416', '4710,4', '100', '43480', '10330', '52182', '1278', '3463', '454,6', '8879,48', '1937', '4709', '391,2', '778,72', '4166', '1443', '2235', '789', '1361', '1768', '478', '7745', '5023', '1958', '7165', '1712', '3149', '223,2', '3164', '9130', '966', '6610', '1719', '4270', '288', '385', '5420', '254', '988,9', '363', '776', '1481', '2090', '1550', '4460', '8442', '4325', '2157', '5752', '1256', '933', '837,91', '6958', '1244,7', '1085', '1015', '9267', '570', '5780', '538', '6534', '44305', '1169', '1198', '4398', '5082', '955', '3185', '47355', '3000,85', '2465', '553', '1182', '1977', '5984', '2237', '1340,92', '6100', '3656,49', '1938', '1828', '544', '16400', '13488', '3670', '5504', '3003,3', '1268', '1700', '4184', '6357', '18400', '679', '2406', '5746', '2587', '5994', '1947', '48052,1', '3810', '5767', '1200', '900,2', '875', '238', '1721', '345', '230,3', '3872', '11020', '5207', '6138', '1773', '777', '1235', '705', '893', '4175', '377', '1540', '12000', '758,3', '1810', '1547', '1337', '1273', '22400', '1739,69', '1785', '3584', '251,1', '1376', '710', '695,2', '53541', '48910', '2285', '2571', '1798', '1022', '6450', '1270', '641', '180', '2506', '27350', '2019', '5436', '1680', '1062,2', '10300', '3451', '19980', '557', '3538,92', '4352,37', '9650', '9979', '1973', '2324', '2696', '1056', '1813', '798', '2155', '929,1', '5285', '6380', '2826', '14760', '1462', '4690', '2347', '5340', '413', '3480', '1381', '2439', '46200', '7995', '2861', '6907', '1499', '1333', '1179,6', '2250', '7148,1', '1581', '4430', '2009', '1279', '1553', '60530', '457', '2682', '1258,85', '1444', '2275', '4775', '1405', '2149', '2425', '5971', '130', '2011', '10673', '14500', '1735', '1399', '3223', '1226', '4697', '3308', '2477', '42518', '584', '8495', '2700', '8259,55', '1050', '16600', '1513', '2499,86', '1342', '3640', '534', '4577', '7095', '4996', '8059', '7589', '2440', '3498', '8450', '1047', '1999,92', '309', '4275,2', '9910', '1805', '1900,94', '1512', '400', '1286', '853', '4935', '1434', '3598', '2660', '4188', '20516', '5000,95', '1478', '41000', '17110', '3603', '5317', '7270', '8458', '1161', '10752', '1379,4', '1413', '2901', '7019,7', '609', '8923', '2634', '568,7', '3391', '5170', '800,82', '1750', '4893', '18000', '3059', '147', '677,5', '911', '4000', '7034', '3745', '2486', '2508', '880', '5517', '590', '1692', '2345', '1276', '2355', '3180', '3253', '2678', '3018', '50132', '562', '9955', '10260', '2437,5', '999,4', '20645', '1310', '628', '3030', '1223', '2998,5', '29640', '988', '3562,94', '1139', '3000,92', '4167', '771', '447', '5747', '2004', '3135', '8342,38', '2473', '3397', '3822', '50000', '7584', '5145', '1296', '6509', '3100,1', '3298,92', '225', '6999', '276', '38200', '2895', '2615', '2450', '1965', '519', '19356', '1228,2', '556,2', '1864', '4705', '1820,94', '2268', '13290', '522,4', '757,7', '1218', '6875', '1266', '275,4', '2032', '734', '20890', '2500,2', '5440', '6795', '26565', '10325', '9600', '4235', '9116', '530', '640,32', '1880', '687', '1620', '4559', '1548', '11490', '4300', '14010', '5150', '4045', '1727', '1710', '6098', '1233', '2800', '4230', '2795', '2515', '4000,94', '7360', '698', '663', '1876', '4815', '3320', '11044', '2114', '10026', '1780', '2858', '328', '301', '3782', '8201', '2013', '7480', '1414', '4828,2', '2073', '1572', '1738,2', '3559', '485', '16425', '7490', '31000', '1514', '1043', '878,2', '2098', '2177', '4579', '1292', '4319', '894', '50872', '458,4', '9730', '51929', '2458', '3798,18', '813', '14200', '422,1', '98,1', '10695', '468,1', '365', '502', '3036', '7547,8', '3190', '3877,51', '62250', '16250', '1611', '9700', '5305', '687,7', '3390', '947', '1092', '7243', '709', '5817', '11199', '1075', '10431', '2900', '995', '9528', '1251', '1176', '5000,2', '1241,2', '2007', '9325', '6600', '3830', '3585', '700', '8328', '3294', '22000', '5532,66', '30000', '3007', '1087', '5296', '1975', '21500', '7822', '3126', '9570', '3976,32', '14220', '4000,2', '3907', '3704', '1935', '1966', '754', '1300', '1349', '14779', '1113', '1136', '19000', '3010', '1373', '4498,5', '1487', '615,4', '1322,42', '54929', '4517', '1533', '712', '356,1', '733', '15490', '1103,85', '697', '3605', '1380', '909', '1185', '2399', '282', '12030,65', '7205', '4527', '2175', '4580', '2279', '673,5', '15850', '36222', '1100,9', '16000,1', '2728,91', '4113', '1265', '765', '3570', '401', '2598', '500,95', '812', '57280', '2352', '41830', '9602', '10950', '3710', '4328', '634', '2828', '1012', '3444', '316', '2538', '2319', '5979', '9020', '8688', '5038', '867', '344,8', '2588', '3061,6', '3385', '7298', '13400', '4274', '3680', '1107', '5283', '638,7', '3357', '10097', '1057', '2000,4', '5718', '7180', '725', '8008', '3356', '3039', '7280', '4233', '8065', '61827', '8331', '2572', '1999,6', '4000,1', '1650,3', '775', '2036', '11076', '9750', '1579', '2920', '571', '1639', '385,3', '25599', '1573', '898', '15672', '1636', '7800', '2027,7', '1115', '10205,5', '3045', '2799', '5250', '2665', '1099,9', '5690', '4220', '370', '5710', '12358', '1174', '5571', '1306', '7582', '10046', '4020', '5980', '376,21', '2481', '795', '1472,75', '383', '39490', '3288', '1559', '268', '6000', '2079,02', '523,83', '4420', '0,94', '16350', '7431', '1392,4', '3500', '11050', '842', '6700', '1122,3', '3800,2', '3114', '6857', '68500', '1149', '3060', '1285', '432', '2132', '2585', '54000', '6000,92', '3530', '26358', '5554', '2343', '1841,91', '2045', '1933', '280,5', '1384', '917', '1000,5', '1425', '4145', '10160', '367', '1968', '4027', '5998', '341,1', '2490,95', '7019', '7810', '2228', '3211', '24500,03', '8361', '818', '2704', '2160,6', '1964', '2299,9', '2997', '656', '2000,79', '8934', '3236', '1224,75', '14168', '3975', '1899,9', '5925', '2645', '778', '1239', '1959', '11116', '1892', '8036', '8820', '5393', '1222', '11990', '3485', '5580', '400,2', '3000', '10000,1', '7700', '772,3', '3400,1', '53900', '2635', '10136', '1102', '1309', '6300', '677,3', '1408', '472,68', '4949', '3049', '3246', '639', '1040', '1957', '682', '2136', '2958', '13500', '1216', '9047', '1130', '2185', '1555', '4817', '9200', '16050', '2095', '424', '681,2', '35800', '1781,83', '8530', '2115', '5234', '15521', '1031', '1422,6', '5530', '20595', '1059', '921', '1626,5', '10394,5', '5097', '4913', '1415', '1704', '2912,15', '1441', '6050', '39804', '2444', '905', '4453', '3616', '4490', '520', '6240', '555', '1799,9', '1383', '11292', '60360', '45309', '3433', '8650,48', '1149,5', '1254', '29080,92', '20196', '2737', '1989', '2213', '1543,5', '22097,99', '1515,7', '18589', '5022', '1331', '2910', '40000', '34000', '1480', '741', '571,5', '452,1', '1961', '2314', '2028', '1474,3', '678,2', '9845', '3208', '3645', '4142', '2364', '335,2', '1124', '337', '19355', '66000', '814,2', '1200,8', '749', '848', '3214', '810,1', '2981', '3679', '61151', '728,92', '1181', '1752', '4702', '11900', '851', '8618', '16070', '1884', '886', '4700,6', '3175', '3969', '18588', '1588', '2062', '2026', '5802', '6033', '6957', '56680', '3215', '6837', '1078,6', '6599', '5341', '1908,9', '11768', '3282', '7394', '6990', '2949', '840', '1123', '1050,33', '6470', '2868', '7514', '3610', '9418', '2846', '440', '5334', '3795', '1885', '1025', '4335', '7125', '5598,92', '10600', '1084', '1272', '329,2', '695', '430', '987', '838', '0', '680', '5745', '3990', '1247', '3439', '1301', '18375', '3209', '8188', '6541', '999', '7531', '477,5', '407', '5784', '3255', '1375', '1228', '2649', '1224,15', '10001,11', '4263', '1064,2', '3069', '1924', '23430,69', '7776', '7500', '799', '1000,1', '2745', '39600', '28800', '5000,1', '7160', '9661,66', '11962', '427', '9599', '3426', '505', '713', '1484', '5038,1', '2000,7', '1621', '10008', '1159,9', '2325', '2415', '3675', '583', '16481', '4937', '2192', '1595', '8499', '23489', '714,85', '571,3', '1896', '1260,9', '3960', '626', '786', '375,2', '285', '14390', '75570', '9235', '2879', '554', '3022', '1236', '2818', '3970', '6222,48', '1747', '7238,86', '730', '1698', '2459', '56670', '8750', '2804', '1162', '8064', '832', '2197', '357,8', '4989,92', '241', '1543', '1600', '25000', '6200', '2955,03', '9248', '3698', '2031', '9960', '1450', '296,8', '4850', '861', '3228', '15939', '3330', '523', '869', '1863', '304', '2204', '5790', '6481,31', '7359', '774', '7528', '3787', '12800', '13950', '1455', '329', '2426', '1495', '36220', '2999,91', '2478', '7534', '6228', '720,2', '3799', '416,3', '6448', '5131', '2290', '668,71', '3015', '7464', '5660', '6625,16', '15200', '11474', '15320', '5028', '2863', '1803', '1722', '5899', '2200,05', '3408,8', '19150', '644,6', '8731,48', '4767', '3864', '492', '402', '800', '2299,8', '1890', '3550', '4186,59', '5050', '7271', '39487', '859', '2590', '1776', '2140', '5923', '1870', '1635', '1202', '7604', '2807', '1151', '4410', '415', '960', '16300', '14133', '2954', '6820', '592', '7950', '2025', '1165', '1111', '629', '654', '4597', '678', '6933', '2632', '7796', '3324', '359', '1492', '1996', '2051', '3556,4', '4181', '1504', '2690', '8040', '5726,3', '3037', '5226,9', '12250', '3351', '2068', '10637,7', '393', '19924', '1290,6', '6570', '2429', '4498,91', '9444', '7000,5', '3660', '2880', '3838', '10507', '732', '5240', '4401', '1005,75', '2586', '10340', '1045', '2916', '5812', '2860', '1456,5', '358,1', '6991', '2476', '3622', '4575', '3920', '4931,6', '3930', '2350', '5002', '5574', '28500', '2692', '3100', '5112', '857', '6785', '5146,52', '2100,91', '1610,4', '437', '3720', '399', '47350', '753', '1200,84', '5500', '1220', '3606', '3948', '5025', '574', '1546', '4048', '4108', '4280', '549', '13536', '5075,84', '330', '3119', '1197,1', '2499,8', '1590', '21094', '60000', '1406', '10497', '269,1', '440,1', '874', '2335', '1233,2', '3462', '4968', '13519', '311,73', '2283', '763', '4686', '420', '9835', '8130', '7850', '2293', '2649,3', '1598', '2010', '1928', '578', '7967', '3855', '4464', '7137', '9330', '10140', '1091', '2096', '3233,55', '4823', '281', '6598', '14614', '7816', '2500,8', '9391', '429', '3460', '3442', '0,9', '8688,09', '1271,1', '2814', '830', '5814', '2000', '2775', '451', '2888', '2705', '15000', '847', '4330', '14786', '10267', '690', '1616,47', '7880', '4210', '10486', '12468', '611', '3891', '5110', '449', '5847', '217,5', '608', '14640', '4608', '1656', '3870', '1930', '688', '1660', '54470', '14427', '3724', '26550', '6832', '14740', '4953', '2819', '1798,82', '13750', '300', '510,9', '2843', '1287', '10460', '3644', '2340', '1021', '90', '2968', '1677,1', '11104', '15886', '14753', '508,79', '868', '29500', '2781', '637,4', '2000,92', '8480', '1369', '9964', '4447', '1530', '3116', '1822', '20608', '8210', '1498', '3678', '299,1', '12400', '1717,92', '2952', '4712', '1630', '1336', '1665', '1255,41', '13660', '2400,5', '3899', '5594', '13670', '435', '4510', '3505,4', '11024', '2763', '1584', '8396', '28000', '1267', '59400', '1753', '9419', '3318,4', '1356', '3172', '4199', '2845', '3210', '1250', '2455', '12189,9', '6840', '1849,8', '8222', '8389', '827', '3150', '2870', '4318', '5735', '1098', '8940', '1686', '2442', '2398', '48696', '5985', '3916', '7350', '8000', '2980', '459', '34236,65', '8205', '4399', '1065', '5100', '11170', '2578', '8164', '2199,95', '388', '1101,1', '5860', '1389,8', '3776', '1003', '1042', '12130', '247', '3120', '3225', '4692', '2205', '7477', '1920', '2680', '2500,95', '11230', '688,86', '2918', '998', '10177', '2849', '3155', '3303', '395', '4438,2', '8800', '46832', '895', '2119', '6980', '13710', '7889', '12380', '1598,91', '919', '1694', '446,05', '481,8', '716', '56638', '1786,9', '7945', '1517', '1393', '643,7', '16200', '6257,7', '3219', '2596', '1207', '2510', '537', '6555', '44004', '3505', '5730', '709,6', '3602', '1000', '418', '4000,5', '3482', '3055', '7421', '7600', '1064', '4195', '4358', '1225', '3169', '13360', '340', '10000', '2234', '52000', '410,4', '2328', '40758', '965,92', '6495', '1457', '4007', '1956', '2387', '3499', '480', '5275', '5047', '2640', '12562', '7207', '2765', '11027', '9630', '2220', '1239,95', '9900', '431', '38650', '888', '11233', '3454', '405', '977', '19999,2', '2531', '13336', '1469', '23000', '3900', '43000', '2299', '378', '1168', '2498', '314,5', '1153,5', '4567', '3212', '2840', '48500', '3700', '1379', '3555', '2060', '1796,94', '2024', '568', '8', '3520', '758', '4917', '31800', '4393', '1433', '3170', '6782', '965', '1991', '681', '6157', '723', '12012', '2923', '7082', '10090', '1575', '8916', '11275', '2189,9', '1284', '3000,95', '8941', '3249', '1829,43', '16100', '975', '490', '5198', '5000', '4475', '6923', '455', '10723', '5940', '674', '11999', '7764', '2973', '3124', '1995', '550', '3500,03', '4820', '1730', '844', '7520', '473', '1661', '7200', '5740', '21010', '4348', '1570', '18080', '6750', '25405', '2046', '195', '45200', '610', '6326', '371', '2650,92', '7398', '4700', '2962,1', '9539,91', '22500', '2039', '670', '450', '945', '6792', '1693', '1563', '7578', '13398', '6975', '4523', '3158', '5350', '7555', '1062,5', '952', '185', '547', '4694', '3277', '2535', '3075,87', '677', '1760', '8111', '40664', '4472', '567,3', '11362', '3829,6', '1326', '6399,9', '3494', '860', '4197', '6075', '489', '10120', '48155', '4076', '2420', '358', '1808', '684', '3353', '3711', '6675', '750', '3518', '5792', '7953', '1213', '5108', '9898', '514', '10650', '16020', '10347', '594', '49038', '1204', '2940', '3000,5', '1147', '910', '5670', '13613', '9096', '5761', '3073,8', '1355', '1834', '3252,72', '523,4', '18650', '5000,87', '7110', '8920', '2182', '5959', '4865', '1119', '5894', '1809', '1772,7', '528,5', '5550', '1888', '1840', '19212', '6599,8', '1445', '12220', '1566', '5306', '1300,92', '41580', '1948,92', '145', '1600,4', '1554', '714', '3910', '9721', '2464', '14100', '2770', '6454', '1715', '15670', '1010', '3752', '311', '4647', '10041', '2200,91', '310', '4087', '5125', '3360', '7961,49', '7020', '249', '1674', '2655', '25820', '29590', '6387', '1779', '240,6', '16293', '1338', '1109', '14440', '12700', '475', '205', '9190', '1510', '7000', '3743,37', '4632', '6092', '3295', '6349,2', '6370', '1641', '28495', '825', '1603', '2500,4', '673,91', '1289', '1321,5', '5480', '8903', '7116', '2864', '2270', '6400', '4283', '759', '390', '2746,92', '3597', '1001,7', '883', '1244', '1880,2', '2555', '3540', '11800', '5000,8', '651', '1486', '3275', '949', '1129', '652', '3779', '721', '7519', '1465', '634,2', '4439', '3890,92', '3903,31', '10800', '2042', '6000,95', '11528', '8423', '5074', '3677', '599,95', '352', '13203', '119', '293', '2081', '2348', '2076', '8000,91', '248', '2414', '8180', '3577,5', '2469', '833', '11425,8', '5596', '2769', '12148', '3088', '1463', '39400', '805', '1029', '50', '8596', '7250', '4617', '2650', '4788', '3346', '962', '18800', '4798', '8900', '13510', '8190', '7586', '1578', '9480', '2798', '3117', '4081', '13807', '3339', '903', '2403', '26922', '542,2', '11924', '4521', '2167', '2187,5', '2135', '677,25', '1197', '1680,82', '140000', '1765', '512', '1843', '4395', '4980,91', '8998', '1394', '19556', '2339', '5611', '1632', '1895', '525', '2620', '7535', '8868', '935', '2363', '12673', '110', '4077', '10152', '3511', '1485', '34923', '18290', '2504', '6995,92', '297', '6151', '4150', '13700', '6813', '2368', '6860', '4900', '658', '1009', '8350', '1940', '55982', '1014', '7124', '60488', '1569', '1699', '1717', '2480', '3293', '1294', '5425', '649', '45600', '6080', '3', '2150', '445', '1655', '20000,02', '554,4', '1261', '54800', '1252', '4978', '10465', '779', '1219', '4476', '1090', '2734', '7230', '1000,4', '2487', '9000', '14179', '410', '404', '508,5', '2460', '3245', '2134,6', '14385', '8650', '9039', '2776', '660', '1122', '11597', '3418', '6294', '3630', '727', '1259', '5978', '4809', '2496', '6491', '6526', '3133', '12438,4', '1253', '1524', '1600,92', '3575', '7669', '855,9', '6000,1', '6882', '2152', '332', '7385', '748', '1824', '2338', '3138', '4660', '596', '8244', '1625', '2433', '2810', '3157', '25300', '272', '10899', '4856', '1475', '4450', '3650', '793', '6396', '546', '1051', '1706', '6554', '2373', '5192', '516', '2955', '2358', '579', '4185', '2668', '3108', '2495', '2564', '6010,3', '485,8', '23900', '2892', '6844', '950', '4455', '0,92', '362', '576', '2520', '722', '2353', '24140', '3685', '3840', '1690', '872', '5451', '2238', '2833', '2710', '10525', '10599', '3213', '3545', '3266', '1659', '997', '1398,9', '4919', '1000,92', '1180', '8600', '6800', '1453', '75606', '531', '457,5', '20235', '3098,9', '7812', '1914', '5461,11', '54870', '2094', '2100', '8099', '5095', '2000,85', '1997', '1023', '973', '567', '2700,75', '3713', '318', '1034', '3534', '981', '2528', '1017', '18850', '873', '9270', '19430', '1899,8', '4245', '3544', '6230', '1328', '1990', '5521', '8695', '978', '950,92', '1400', '672', '2575', '76157', '7118', '49200', '1500', '1100', '2899,9', '2000,9', '2957,79', '4256', '1789', '10557', '3277,5', '5472', '1508', '1551', '1738', '2516', '1800,9', '4680', '4645', '3016', '435,4', '5116', '1313', '4177', '10467', '3063', '2661', '3318', '3502', '4160', '1060', '2857', '845', '4052', '5562', '10240', '37400', '2257,11', '4050', '708,5', '876', '1249', '6499', '9770', '3984', '8400', '9793', '2592', '2384', '2780', '2950', '1666', '458', '7507', '3261', '1288', '2084', '2017', '419', '2457,9', '1703,2', '1350', '2909', '6910', '1351', '5850', '7756', '3604', '70940', '9576', '3000,2', '5246,5', '12460', '8751', '2667', '890,92', '5534', '7794,92', '7541', '29000', '2947', '736', '2600', '1651', '496', '5874,6', '29032', '18840', '259', '1330', '30303', '2830', '1339,9', '57254', '3403', '16086', '783', '3524', '2156', '1322,9', '2145', '3285', '9555', '2859', '50190', '1282', '618', '2898', '9664', '2125', '5708', '4502', '4200', '3241', '4053', '1820', '500,3', '1451', '2379', '2484', '21696', '1096', '12044', '1179', '1101', '1628', '646', '1020,9', '2468', '1982', '1701', '3319,7', '715', '4287', '5070', '14455', '5120', '8640', '3780', '60245', '2485', '1280', '601', '930', '2880,1', '2999,92', '4320', '10807', '3240', '5547', '955,4', '4600', '11754', '2625', '1094', '26802', '9110', '1255', '11150', '8964', '3110', '1500,95', '1070', '10700', '3510', '735', '1331,78', '1633', '1568', '16824,39', '508', '379', '2690,92', '425,6', '375', '1420', '1749', '1628,5', '5460', '5667', '745', '6297', '4070', '1675', '11382', '2647', '4091', '5499', '1324,96', '4132', '9400', '1049', '13060', '2448', '15009', '2239', '2305', '597', '500,41', '524,85', '834', '45451', '575,2', '5705', '1177', '2300', '1534', '1063', '3413', '10227,2', '3140', '1430', '2142', '785,9', '986', '1873', '764', '2999,6', '2186', '1778', '1610', '279', '1458', '6130', '2653', '9871', '782', '4959', '11522', '1136,44', '1230', '19521', '739', '9411', '958', '745,5', '2911', '3415', '780', '2960', '2567', '1210,51', '9457', '15680', '4194,3', '3350', '2126', '3440', '12910', '9058', '738,8', '1072', '436', '32750', '839', '891,4', '1348', '9699,69', '623,42', '10729', '2222', '4342', '2370', '14806', '14990,94', '2302', '815', '1449', '2326', '8608', '9695', '2413', '13140', '726', '150', '8491', '11288', '5445,92', '2697', '11190', '1619,95', '1648,5', '7400', '18447,2', '3084', '6929', '902', '4202', '3815', '9398', '889', '386,1', '7659,01', '75500', '2183', '1138', '4633', '2022', '928', '1823', '7300', '439', '100000', '364', '36500', '34492', '1192', '925', '1353', '6789', '820', '691', '3794', '6458', '2173', '6629', '10015', '4104', '5437', '5200', '6848', '4239', '1860,9', '967', '1417', '3000,91', '1841', '1400,1', '2289', '2749', '686', '5248,91', '747', '7811', '4100', '3000,55', '373', '16657', '1708,5', '6320', '1442', '10031', '4870', '381', '276,6', '8150', '4403', '9108', '1108', '1724', '1397', '6323', '1625,2', '3154', '1431', '39000', '3943', '1026', '2530', '10299', '12015', '7495', '3270', '4675', '6109', '636', '1281', '818,4', '2403,98', '1540,84', '15675', '3216', '3597,4', '5061', '1489', '2796', '13772,82', '2271', '3092', '6127', '2137', '1303', '868,42', '2816', '6350', '4720', '912', '13350', '11660', '5870', '1274', '53310', '1000,95', '411', '3380', '6406', '558', '2110', '2532', '9788', '6679', '3020', '2001', '53530', '862', '6174', '1396', '2000,2', '635,2', '577', '4353', '1763', '14000', '1900', '1018', '4767,2', '4995', '479,8', '2488', '717,1', '828', '9498', '773', '5811', '552', '534,1', '8870', '564', '5800', '1515', '4011', '3099', '503', '6156', '3328', '10550', '2131', '2772', '2188', '1007', '1055', '4828', '2584', '2333', '5760', '1100,2', '1125', '9746', '168', '5143', '34698,2', '2549', '1950', '780,3', '5130', '422', '528', '3392', '2610', '3443', '2278', '7040,2', '2608', '7845', '8125', '6480', '3043', '10900', '30791', '979', '2731', '794', '2102', '1398', '1571', '646,5', '1784,81', '19958', '2699', '2887', '2281,1', '5005', '1000,3', '5055', '4380', '4085', '3499,8', '1557', '2938', '936', '2218', '6250', '7630', '6410', '1889', '1838', '2729', '4110', '1731,9', '2287', '20879', '3359', '2772,13', '1619', '4806', '1146', '4993', '7352', '3224', '6919,2', '956', '12144,42', '2050', '970', '2159', '5620', '1167', '4157', '324', '4343'}\n",
      "\n",
      "\n",
      "==========\n",
      "LOAN_AVG_DLQ_AMT\n",
      "{'1389,63', '2400', '1290', '5410', '1459,99', '1112,57', '2028,702', '2852,74', '2758', '702,23', '1243,83', '1949,8', '1158,1', '1068,32', '3420', '554,36', '1247,92', '1970', '2500', '2217,22333333333', '280', '768,97', '4650', '724,38', '763,3', '1789,04', '9280', '760', '269,51', '989,39', '957,4', '5526,72666666667', '1197,24875', '1970,52', '6591,48', '1296,4', '1240', '3055,72', '613,21', '837,74', '1390', '1677,48', '460', '2470', '1555,00090909091', '1542,42', '1679,2', '3310', '2790', '1130,785', '1103,19', '892,95', '1609,47', '327,98', '4240', '3940', '2265', '640', '1881,83', '2020', '3220', '2560', '2120', '2760', '1335,47', '755,063333333333', '1740,19', '1573,35', '1002,60333333333', '1182,23', '470', '51,8', '990,85', '533', '1706,3', '2158,2775', '1629,58', '861,03', '712,179', '866', '1875,70333333333', '1020', '1910', '2365', '497,62', '796,59', '2160', '1439,94', '1197,38333333333', '2920,45', '1861,6', '1733,88', '2990', '699,78', '1210', '3769,3625', '2365,47', '2850', '1850', '1190', '2540', '1662,1', '3428,56', '1930,595', '946,49', '1459,385', '1758,25', '1094,85', '816,3', '2006,83', '2070,52', '548,523333333333', '1150', '3600', '1563,61', '4559,26', '6938,27', '9239,69', '719,25', '1199,54', '1675,75', '1205,4725', '909,424285714286', '4159,78', '831,23', '1136,86', '2202,69', '1215', '43,3', '1098,8', '947,57', '2276,54666666667', '663,05', '2957,71', '1375,39', '1199,27', '1781,225', '896,31', '1606,5', '658,18', '1152,89', '865,05', '859,9325', '758,82', '827,57', '1120', '1427,295', '1498,2', '2015', '4030', '2230', '1570,46', '676,85', '2200', '2989,98', '2105', '2592,5', '1340', '728,49', '1655,63', '3501,45', '526,43', '1595,575', '3155,89333333333', '336,9925', '3106,29', '656,705', '3828,09666666667', '677,474', '7840', '1573,30428571429', '757,75', '631,68', '797,135', '3316,8675', '14970', '1833,77', '609,4925', '758,95', '1276,7', '5160', '1003,255', '4530', '875,2', '1320', '4260', '625', '1191,604', '1167,98', '1297,36333333333', '2293,65', '3230', '1520', '2462,1', '668,53', '979,63', '2580', '576,324', '854,47', '1109,855', '4370', '1232,78', '940', '799,16', '859,84', '1113,17', '1010,43', '4269,94', '1165,25', '567,51', '880,2', '701,32', '1093,75', '2132,88', '3580', '662,13', '1020,7725', '314,76', '664,94', '478,13', '1292,59', '779,82', '7763,74', '1360', '1160', '1844,885', '674,263333333333', '1535,89', '2575,71428571429', '1636,04', '7530', '2040', '14990', '518,9', '2188,21', '2930', '2081,78', '3099,42', '3231,88', '3202,2', '2051,5', '1160,96', '658,42', '805,86', '578,06', '2482,72', '1082,9', '2720', '6550', '2509,38', '1751,37', '2701,26', '673,89', '1875,75', '859,92', '582,386666666667', '1098,1', '1365', '11460', '290,82', '604,43', '5030', '1658,42', '2070', '1063,17', '959,955', '791,98', '2656,68', '1410', '1181,13', '776,59', '1307,99', '3415,66666666667', '2323,025', '5830', '898,77', '569,121428571429', '1931,44', '6310', '2796,66', '1798,49', '4830', '4350', '917,57', '2265,01', '6500', '1560', '727,63', '1639,24571428571', '2119,5625', '2008,01', '942,17', '2651,68', '5140', '1460', '896,1', '1098,64', '2101,256', '2130', '2127,1', '2217,25', '1980', '509,533333333333', '2699,88', '3755,32', '4180', '2792,33', '4056,11', '1382,67', '509,52', '2890', '957,63', '1142,83', '360', '1107,5', '749,82', '1490', '863,68', '970,155', '2296,35', '4390', '4635', '1616,1825', '3279,56', '591,935', '831,2', '3620', '2730', '2605', '1447,67333333333', '1986,88', '1905,8', '1296,74', '1440', '1980,6', '1889,43', '289,02', '648,68', '4840', '3950', '310,126', '1409,965', '805,73', '596,16', '370,77', '1180,48', '2289,48', '1615,22', '14870', '965,1', '433,306666666667', '1149,495', '2070,42', '6647,97', '3080', '862,5', '1415,2', '5650', '4570', '682,56', '1860', '1817,76', '1159,18', '1670', '1342,58', '631', '5269,78', '3339,71', '3013,9', '1171,65', '451,495', '2261,19', '3050', '2186,585', '1851,55', '3850', '1739,88', '600', '1986,35', '1470', '2570', '1509,44', '2287,02', '1314,58666666667', '5180', '1601,63', '3387,85', '1069,6', '1418,86', '1580', '2262,12', '3037,58', '110,91', '1211,17', '1309,89', '2170', '1269,82', '1838,56428571429', '1525,885', '3260', '2386,505', '2423,54', '1304,0625', '850', '1238,855', '2923,96', '1068,72', '1892,28', '2237,245', '4340', '1168,63', '2097,97333333333', '433,3425', '861,56', '2503,19', '1407,725', '652,36', '1713,74', '1408,73', '2323,55', '1221,8', '3750', '4119,97', '3820', '969,59', '758,15', '3590', '2701,5', '1529,06', '3430', '1666,28', '2380', '758,96', '2108,71', '320', '1111,4', '2430', '3730', '869,45', '3315', '6180', '2550', '2736,28', '542', '1266,34', '4770', '2490', '860,22', '2524,28', '2280', '1800', '560,86', '3090', '5570', '776,3', '477', '1790', '882,01', '3340', '818,74', '2240', '1615', '2497,09', '988,62', '695,39', '770', '5075,99', '6133,41', '2210', '4250', '880,74', '2925', '2269,735', '3033,41', '4729,07', '950,888', '5300', '2916,18', '3376,515', '2864,92', '2330', '1883,04', '761,74', '3200', '440,63625', '1549', '2704,02', '4310', '1456,85', '1180,53', '1030', '2190', '1563,45', '2820', '1095,88', '709,96', '5076,65', '650', '4630', '1054,5', '1134,58', '605,32', '810', '1154,34', '1370', '855', '980', '2419,9', '6041,86', '767,566', '2679,82', '872,065', '6740', '1770', '2146,66666666667', '472,11', '1426,72', '1340,16', '830,53', '1263', '949,89', '1922,69', '790', '4112,53', '1022,67', '510', '4090', '813,335', '136,76', '350', '4055,03', '1135', '3280', '28012,2', '3011,18', '6660', '1052,63', '7670', '500', '1504,79', '3889,696', '910,13', '1745,7', '978,56', '1029,75', '4560', '7450', '4710', '2410', '54,58', '3365,305', '2390', '6532,49', '1055,71', '11310', '801,8', '535,53', '1260', '2166,82', '983,28', '1091,2', '875,09', '580,49', '3410', '1681,62666666667', '3075,82', '1147,5', '1508,79', '1924,4', '1959,42', '2144,77', '630,49', '616,06', '772,73', '2184,66', '1742,41', '3086,66666666667', '683,9975', '2149,94', '1719,72', '606,55', '2168,26', '1321,59', '1140', '1200,99', '740', '720', '586,646666666667', '2979,57', '1179,89', '1073,54', '1173,46', '830,7', '984,79', '3506,07', '1191,65', '1896,24', '429,11', '1498,26', '821,93', '2360', '1170', '7100', '920', '857,956666666667', '1496,3275', '722,59', '1405,53', '1215,45777777778', '240', '2140,36', '1959,99', '2670', '879', '4164,34', '1879,28', '2740', '862,43', '3800', '3400', '4850,2', '1960', '4640', '1077,605', '1429,99', '3490', '486,895', '3283,1', '2659,95', '5560', '3040', '380', '5320', '3890', '1180,87', '930,4', '2499,775', '588,13', '586', '1252,67', '1727,62', '716,33', '1740', '3235,24', '1258,95', '1269,372', '821,45', '1736,4', '4884,95', '2554,005', '1514,45833333333', '628,94', '990', '1112', '630', '1138,2', '1154,905', '2466,8625', '446,31', '5047,5', '2135,75', '903,66', '3111,3', '2599,29', '3762,5', '1283,89', '1159,06', '2080', '1433,4', '2180', '3309,87', '2247,51', '429,24', '2445,93', '386,666666666667', '2441,4', '1288,63', '1544,95', '2112,17', '1070,05', '1830', '1344,33', '1317,32', '1206,745', '95,09', '890', '1850,24', '1985,528', '3250', '2260', '2340,06777777778', '5149,95', '3470', '586,501428571429', '5900', '1628,45', '502,1', '2151,50333333333', '2447,225', '1324,41285714286', '911,793333333333', '1640', '578,3', '2060,782', '2083', '2627,58666666667', '1899,1', '746,74', '1047,32', '1119,27', '4574,85', '2192,0875', '2310', '1300,386', '4190', '366,58', '988,5025', '651,625', '4550', '1539,13', '1795', '2970', '183,13', '1140,2', '6390', '2647,9', '215,55', '1405,09', '7780', '2002,45', '2630', '1020,63', '560', '1114,57', '740,575', '5040', '695,59', '1678,99', '1286,73', '3160', '1209,47', '1196,43', '894,29', '1650', '3101,73', '438,19', '870', '619,73', '2750', '2518,18', '886,26', '6160', '846,55', '746,57', '2320', '2247,08', '1080', '528,15', '1006,29666666667', '1095,89', '1068,76', '1258,69', '2750,86', '3018,275', '2451,54333333333', '3768,7', '699,99', '983,45', '756,453333333333', '1040,5', '444', '1507,48', '2273,72', '1248,27', '2178', '1097,86', '954,65', '4565', '4400', '5603,82', '3130', '1021,13', '2940,81', '1720', '2991,39', '543,17', '1311,85', '1920,9575', '531,65', '4060', '540', '887,79', '1287,35', '1108,96333333333', '1597,92', '5397,15', '1594,914', '558,06625', '917,651666666667', '1127,76', '2781,08', '2030', '4620', '1528,832', '620', '2139,63375', '1067,73', '355,04', '1059,47', '410,6', '1110', '929,39', '2391,38', '1053', '1831,51333333333', '3509,805', '524,6', '1097,55', '779,415', '980,25', '918,55', '900', '3300', '516,18', '2066,905', '580', '2154,02', '1645,64', '6650', '767,7', '600,93', '1168,565', '1314,11', '610,986666666667', '3880', '3760', '3860,18', '100', '1478,49', '1004,8', '2794,22333333333', '1845,5', '1155,06', '988,44', '1145,38', '2250,56', '1639,94', '1319,56', '5420', '6490', '2090', '1550', '1373,99333333333', '1015', '570', '1411,835', '5780', '780,75', '1608,255', '849,19', '816,83', '2569,05', '553', '603,55', '991,19', '2597,78', '1253,34', '1217,36', '1663,27', '2079,37', '1240,46', '3670', '91,27', '1072,752', '265,55', '1700', '3089,155', '1049,42666666667', '806,19', '758,68', '3810', '1200', '315,796666666667', '4810', '1169,82', '510,136666666667', '2158,72', '1537,71', '1371,86', '1540', '1810', '3959', '855,675', '1600,26', '1506,39', '3509,22', '710', '1411,31', '499,69', '1209,5', '1270', '1330,41', '1120,93', '3870,25', '3072,475', '1680', '457,71', '2370,01', '684,89', '3691,2675', '1948,62', '910,826666666667', '782,21', '4690', '3480', '2809,87', '2477,64', '2250', '3752,455', '2009', '1256,635', '596,29', '367,35', '839,88', '1248,56', '1279,91', '5872,64', '2425', '1605,95', '1367,735', '1132,64', '1489,13', '2700', '1317,06', '1050', '2142,2', '3640', '534', '451,06', '2440', '1355,12', '1388,83769230769', '717,87', '1512', '2359,898', '400', '697,72', '1408,87', '2660', '604,353333333333', '568,7', '5170', '1750', '721,151428571429', '4000', '880', '590', '2128,74', '3180', '2112,57', '1913,31', '599,19', '1826,86', '1599,9', '1310', '3030', '856,64', '957,46', '2670,02', '1684,42', '2409,01', '2702,4', '1091,55', '698,26', '2219,93571428571', '1010,27', '2269,565', '798,53', '2563,29', '1269,16', '2450', '635,53', '1739,33', '1233,309', '1026,8175', '2232,28333333333', '1626,75', '1869,795', '612,524', '530', '1880', '1620', '4300', '4893,17', '1710', '1413,765', '2800', '3320', '698', '2961', '731,72', '1780', '1063,58666666667', '2608,17142857143', '660,6', '9840', '3223,09', '7490', '696,97', '980,42', '997,65', '1160,21', '3875', '3639,91', '1683,49', '1176,82', '2473,45', '3190', '5401,67', '2268,41857142857', '5577,92', '1402,2', '1583,15', '3390', '524,82', '3768,74', '1516,872', '1258,585', '2900', '2252,3', '1235,4', '552,57', '1429,97', '870,69', '700', '1398,58', '3539,82', '871,07', '826,64', '1403,64', '2959', '4508,2', '1325,63', '2429,09', '4120', '1193,9675', '1077,03', '1090,8', '1300', '3010', '947,285', '1181,51', '726,57', '1909,16', '1885,265', '1380', '84,07', '2175', '1036,336', '860,505', '0,71', '3668,79333333333', '502,2', '3570', '658,84', '115,65', '9060', '1630,344', '579,94', '1119,93', '2090,53', '2538', '1965,32', '1108,574', '812,11', '3680', '613,12', '1226,25', '1457,52', '1546,55', '7280', '1066,005', '2877,745', '1251,35', '2920', '134,78', '1002,22', '1780,28', '4220', '2122,45', '929,51', '1339,99', '370', '3303,2', '4020', '3863,72', '5545,0225', '1244,53', '670,085', '2712,72', '6260', '1196,17', '4420', '3500', '3589,09', '3821,44', '3060', '2259,35', '2252,24', '2585', '3530', '872,81', '3358,58', '991,79', '1391,47', '1443,3', '367', '2081,36', '1671,33', '1007,36', '811,49', '2676,2125', '1369,755', '342,02', '3000', '1097,62', '981,71', '657,95', '4136,07', '782,705', '7790', '1671,7', '1040', '682', '3165,46', '2840,62', '410,39', '1130', '2185', '1459,34', '1675,345', '411,43', '756,84', '818,81', '1374,28', '1881,26', '3770', '3433,42', '2858,6', '1377,5275', '2409,2', '1985,3', '1338,69', '482,28', '520', '501,305', '1255,21', '3191,75', '2163,94', '1004,225', '2974,37666666667', '964,69', '2910', '1180,16666666667', '2315,64857142857', '1479,11', '5430', '1480', '7340', '4084,07', '1961,35', '678,2', '750,175', '1085,53', '1171,686', '963,96', '4472,91333333333', '819,3', '920,175', '2492,54', '1731,06', '840', '1179,394', '3610', '1198,15', '0,04', '1942,72', '440', '567,16', '918,255', '550,83', '1574,6', '430', '0', '680', '3990', '1829,73', '1317,4', '1424,26', '455,32', '868,01', '15110', '4617,935', '3255', '812,693333333333', '849,085', '1849,496', '1606,38', '7369,77', '979,89', '717,9', '2510,2', '1241,32428571429', '1614,36', '1234,7375', '8020', '1600,0925', '5757,9', '3127,19', '1007,8', '526,563333333333', '1259,39', '1993,245', '1175,566', '1402,43', '2418,306', '3960', '4115,33333333333', '748,93', '1692,49', '2707,25', '3659,0625', '1830,2', '1867,66166666667', '3355,19', '3970', '6540', '1991,725', '730', '5394,29', '1274,59', '1459,54666666667', '3860', '7620', '1600', '6200', '1113,74', '836,6', '804,89', '1450', '1587,06', '1260,55', '1761,03', '3330', '87,39', '2068,56', '1071,75', '1222,06', '777,84', '1495', '813,305', '1017,28', '339,83', '866,59', '1832,91', '2290', '3594,45', '1245,94', '957,59', '1287,132', '800', '3550', '1890', '1348,68', '5050', '2590', '2140', '1870', '1099,54', '425,97', '960', '407,8', '1259,43', '651,16', '1793,66', '2025', '1305,97', '5370', '1775,46', '695,06', '5510', '769,43', '2690', '837,48', '187,35', '1768,07', '1832,78', '2476,77', '4758,14', '762,16', '752,923076923077', '3660', '2880', '1954,4', '4158,85', '1045', '2860', '2751,25', '913,4975', '842,15', '2742,25', '3920', '2350', '1032,06', '3100', '3971,6', '1792,71', '2178,925', '3720', '753', '1023,66', '5500', '1220', '1312,44', '327,675', '3752,02', '598,396666666667', '4940', '330', '1590', '849,91', '2690,33333333333', '1010,55', '198,88', '2010', '1424,9175', '1410,53333333333', '761,866666666667', '669,48', '5048,19', '2441,465', '732,62', '1317,88333333333', '1591,94', '3460', '2157,32', '1088,48', '1056,95', '830', '1731,7', '806,93', '2000', '665,57', '2804,46', '2685,68', '1022,204', '3102,49333333333', '690', '18307,16', '4210', '1033', '5110', '1626', '1716,52', '2782,89', '2755,21', '3870', '1930', '1660', '2619,25', '2706,39', '620,75', '300', '2340', '2043,665', '2547,85', '5752,98', '2725', '2088,86', '874,31', '4827,666', '526,94', '1530', '2013,19', '2044,155', '794,5', '1630', '1102,7', '1039,36', '4510', '978,55', '1966,99', '802,36', '944,93', '1289,105', '2399,55', '1250', '3210', '673,02', '3237,94', '3777,93333333333', '1423,33333333333', '2870', '3150', '216,59', '270', '1128,64', '3201,95', '2980', '4399', '756,1', '5100', '1717,47333333333', '7060', '641,04', '2059,46', '1101,1', '1589,92333333333', '3637,43', '2094,3', '1561,95333333333', '1880,59', '3120', '1747,33', '762,93', '1920', '2680', '820,124', '2201,11', '1359,6', '1208,09', '966,07', '1276,66666666667', '598,5', '1288,898', '2853,18333333333', '653,293333333333', '1144,98', '2018,255', '2510', '619,4', '962,655', '1000', '4387,48', '2082,47857142857', '1164,99666666667', '1188,46', '1814,93', '2430,38', '2579,43', '2668,07', '1552,325', '1145,21', '799,09', '340', '1066,605', '3377,57', '480', '3279,705', '2640', '3382,31333333333', '481,506', '664,42', '2220', '517,51', '1634,81', '958,76', '94,89', '1932,5', '3900', '859,1', '4760', '2840', '2568,45', '2060', '778,07', '1582,435', '2676,24', '3520', '1439,815', '1072,34', '3170', '767,53', '1538,69', '2473,645', '918,7', '3635,77', '2235,225', '1896,34', '951,12', '904,08', '975', '490', '963,12', '3749,07', '1547,02', '2282,89', '1995', '1399,25', '550', '666,86', '4820', '437,26', '1730', '62,46', '1570', '6750', '1209,27', '997,89', '1074,52', '610', '1093,22', '1155,02142857143', '4700', '1195,3', '6360', '670', '7010', '450', '2263,18', '1810,155', '1817,57', '6689,82', '1760', '4140', '860', '2388,505', '2372,77', '2590,15', '820,87', '59,68', '1141,06', '1414,34', '2361,22', '750', '38,32', '212,25', '1684,04', '2940', '825,10875', '910', '1007,63', '1674,3', '3626,91', '4834,28', '1598,01', '71,71', '5550', '1840', '846,74', '988,85', '1237,24', '1221,24', '714', '3910', '2272,5', '1776,96666666667', '2770', '1697,22', '1010', '891,95', '5428,62', '3716,35', '310', '1309,43', '3360', '2786,89', '1179,86', '789,23', '1957,21', '1033,905', '2464,55', '9530,91', '2559,89666666667', '3914,24', '1510', '2084,32', '836,79', '3172,83', '2270', '1221,92', '390', '3540', '865,1', '809,42', '998,968', '1999,73', '1304,722', '768,11', '1045,89', '1116,49', '532,24', '7510', '1439,9', '2650', '2303,11666666667', '823,54', '2493,97', '4230,185', '605,496', '908,78', '845,55', '42,52', '647,42', '1175,57', '177,34', '2258,3', '937,405', '1532,04', '9453,33333333333', '4920', '1040,78666666667', '778,32', '559,94', '2326,81', '4956,4', '666,41', '2620', '581,15', '2119,77', '4445,6', '2779,29', '1270,16', '1940', '997,13', '978,13', '966,53', '901,64', '1283,93', '2480', '6080', '1804,9', '1519,72', '2150', '2629,87', '1915,35', '1778,635', '1477,37', '1090', '233,335', '2460', '859,73', '2573,8', '660', '1987,565', '964,516666666667', '4890', '1303,04', '1347,12', '1134,525', '376,08', '3630', '848,45', '4290', '2394,45', '753,68', '869,26', '2379,46', '951', '3702,8', '1145,85', '3138', '1574,25', '4660', '68,77', '2810', '1468,38', '2446,5', '1387,15', '2429,5', '3024', '4450', '560,36', '3231,2', '1085,5', '413,145', '775,86', '2939,536', '950', '824,581428571429', '1848,05', '3782,39', '1839,85', '2520', '1325', '2343,41', '1690', '3840', '715,54', '2710', '1313,33333333333', '1894,04', '1120,19', '2263,2', '879,74', '1670,18', '1180', '1264,23', '1892,238', '727,79', '3651,445', '791,56', '2406,8', '2100', '1321,68833333333', '549,88', '1095,61', '1441,57', '1352,85714285714', '1136,6', '1467,05', '3964,85', '1990', '1149,395', '455,59', '1400', '669,12', '2575', '3322,7775', '4296,29333333333', '1993,59', '1500', '1100', '1706,318', '3119,99', '1068,47', '706,48', '949,15', '4680', '1206,51', '1707,5', '1437,01', '4160', '1060', '1492,404', '1771,33', '1288,7', '845', '4050', '145,92', '1130,63', '1152,15', '828,64', '1553,31625', '5090', '1774,5175', '839,79', '1012,02', '989,15', '2780', '2950', '1350', '1788,46', '5850', '2005,15', '1113,335', '1139,49', '2467,33', '1581,82', '2600', '1659,576', '1330', '1953,6', '2830', '2769,82', '6070', '543,33', '690,99', '1766,2', '704,93', '564,93', '2354,29', '1070,52', '4200', '1820', '1258,49', '1476,6', '1155,125', '5070', '1549,18', '5108,38', '3780', '1280', '3248,28', '930', '1639,99', '1841,9', '1616', '4320', '284,02', '2239,37', '3240', '4600', '3070', '1006,59', '921,58', '1094', '1275,785', '2240,34', '3110', '1070', '3510', '2368,84', '735', '766,26', '3783,78', '2732,2', '1127,63', '95,79', '1274,99', '324,16', '183,48', '5698,46', '3464,88', '2352,78', '1420', '4070', '1661,74666666667', '687,11', '2779,4', '1899,7', '2300', '2739,76', '1239,08', '101,52', '3103,84', '1918,79', '568,75', '3140', '1430', '1539,2', '1187,565', '2910,25', '715,3', '912,41', '1268,44', '2816,25', '1610', '6130', '1230', '3209,5', '1878,86', '37,5', '804,32', '2262,73', '1094,09', '780', '2960', '678,18', '1065,62', '3350', '3440', '4610', '2088,64', '462,915', '2349,51', '1686,92', '2370', '1386,115', '661,46', '2189,99', '763,185', '49,35', '1402,92', '0,98', '1259,1', '1769,1975', '4515,81', '2157,89', '1593,76', '588,9', '1649,37', '986,606666666667', '1386,96', '769,915', '948,58', '613,25', '820', '760,65', '2992,64', '10640', '1373,87', '4100', '63,31', '1272,72', '1412,55', '2935,02', '1749,69', '702,565', '2530', '5974,67', '673,6825', '4660,495', '4026,63', '865,03', '1088,05', '824,02', '1647,97888888889', '976,68', '642,31', '5870', '2979,31', '2110', '4001,34', '3020', '574,21', '892,18', '2549,52', '1900', '1329,54', '1355,87', '1299,55', '2010,03', '2598,9', '829,393333333333', '1230,63', '224,59', '630,8', '705,6', '5760', '739,93', '1724,15333333333', '1950', '4376,4', '2031,34333333333', '840,7', '599,485', '2707,64', '1999,19', '2610', '1042,41', '1233,33', '13920', '1144,03', '4380', '1272,81', '1259,71333333333', '1939,61', '639,11', '966,953333333333', '2050', '970'}\n",
      "\n",
      "\n",
      "==========\n",
      "LOAN_MAX_DLQ_AMT\n",
      "{'1389,63', '2400', '1290', '5410', '1459,99', '1112,57', '2852,74', '2758', '702,23', '1243,83', '1949,8', '1068,32', '3420', '554,36', '1247,92', '1970', '2500', '280', '768,97', '4650', '724,38', '1789,04', '9280', '760', '269,51', '989,39', '957,4', '1970,52', '6591,48', '1296,4', '1240', '613,21', '837,74', '1390', '1677,48', '460', '2470', '9470', '1542,42', '1679,2', '3310', '2790', '359,3', '892,95', '1609,47', '4240', '327,98', '3940', '2265', '640', '1881,83', '2020', '3220', '2560', '2120', '2760', '1335,47', '1740,19', '470', '51,8', '990,85', '533', '1706,3', '1629,58', '861,03', '866', '1020', '1910', '1177,52', '1624,72', '1828,89', '497,62', '796,59', '4520', '1729,66', '2160', '1439,94', '918,83', '2920,45', '1861,6', '1733,88', '2990', '699,78', '1210', '2365,47', '2850', '1850', '1190', '2540', '1662,1', '3428,56', '946,49', '1094,85', '446,3', '816,3', '2006,83', '1150', '3600', '1563,61', '4559,26', '1837,31', '6938,27', '9239,69', '719,25', '1199,54', '2979,35', '2782,93', '4159,78', '831,23', '1136,86', '2202,69', '43,3', '1098,8', '623,69', '947,57', '663,05', '2902,89', '2957,71', '1375,39', '1199,27', '896,31', '1606,5', '658,18', '3690', '827,57', '1120', '1498,2', '4030', '9540', '2230', '676,85', '2200', '2989,98', '1340', '728,49', '1655,63', '3501,45', '526,43', '3106,29', '4880', '7840', '540,39', '826,77', '757,75', '631,68', '1833,77', '14970', '758,95', '1276,7', '5160', '4530', '875,2', '1320', '1395,7', '4260', '1231,72', '1167,98', '2293,65', '3230', '1520', '2462,1', '668,53', '979,63', '956,1', '2580', '854,47', '4370', '1232,78', '940', '799,16', '2193,63', '1113,17', '4269,94', '1165,25', '567,51', '880,2', '701,32', '1093,75', '2132,88', '3580', '662,13', '314,76', '664,94', '478,13', '1292,59', '779,82', '7763,74', '1360', '1160', '1636,04', '3422,28', '7530', '2040', '14990', '518,9', '2188,21', '2930', '589,45', '2081,78', '3099,42', '3231,88', '3290', '3202,2', '2051,5', '1160,96', '658,42', '5260', '578,06', '2482,72', '1082,9', '2720', '6550', '2509,38', '473,16', '1751,37', '2701,26', '673,89', '716,44', '5980,18', '859,92', '1098,1', '7890', '1365', '11460', '290,82', '604,43', '5030', '1658,42', '2070', '1063,17', '1387,3', '791,98', '2656,68', '1410', '1181,13', '2969,75', '776,59', '1307,99', '5830', '898,77', '1363,79', '1931,44', '6310', '2796,66', '1798,49', '8570', '4830', '4350', '917,57', '2265,01', '735,3', '625,23', '6500', '1560', '2008,01', '2651,68', '5140', '1460', '896,1', '1098,64', '2130', '2127,1', '1901,3', '2217,25', '1980', '2699,88', '3755,32', '4180', '2792,33', '4056,11', '1382,67', '957,63', '2890', '1517,51', '1142,83', '360', '749,82', '1300,16', '1490', '863,68', '2296,35', '4390', '831,2', '3620', '2730', '2605', '1986,88', '1905,8', '1296,74', '1440', '1980,6', '1046,01', '1889,43', '289,02', '648,68', '4840', '3950', '869,37', '805,73', '596,16', '370,77', '1180,48', '2289,48', '14870', '965,1', '2070,42', '6647,97', '3080', '862,5', '1415,2', '5650', '4570', '1860', '1817,76', '355,55', '1159,18', '1670', '1427,4', '631', '5269,78', '3339,71', '3013,9', '1171,65', '2261,19', '2661,68', '3050', '620,18', '1851,55', '3850', '1739,88', '600', '2570', '1470', '1509,44', '2287,02', '5180', '1601,63', '1069,6', '1418,86', '1580', '2262,12', '110,91', '1309,89', '2170', '3260', '850', '2923,96', '1745,19', '1068,72', '1892,28', '4340', '1168,63', '1450,22', '861,56', '2503,19', '652,36', '1408,73', '331', '2323,55', '1221,8', '3750', '4119,97', '3820', '969,59', '3590', '1529,06', '3430', '1666,28', '2380', '758,96', '320', '1111,4', '2430', '3730', '869,45', '1446,55', '6180', '2550', '2736,28', '542', '1266,34', '4770', '2490', '860,22', '2524,28', '586,5', '1715,7', '2280', '1800', '18310', '3090', '5570', '776,3', '477', '1790', '3340', '818,74', '2240', '1434,4', '1615', '2497,09', '988,62', '770', '5075,99', '6133,41', '2210', '4250', '880,74', '3560', '3033,41', '4729,07', '5300', '2916,18', '2864,92', '2330', '1883,04', '761,74', '3200', '1549', '2704,02', '4310', '1456,85', '1180,53', '1030', '2190', '1563,45', '2820', '1095,88', '5076,65', '2693,8', '650', '1054,5', '1134,58', '605,32', '810', '1154,34', '1311,53', '1370', '1056,64', '620,22', '980', '1672,88', '2419,9', '2879,3', '6041,86', '2679,82', '6740', '1860,72', '1770', '472,11', '1426,72', '1340,16', '830,53', '1263', '949,89', '790', '4112,53', '1022,67', '510', '4090', '136,76', '350', '4055,03', '1249,61', '3280', '28012,2', '3011,18', '6660', '1052,63', '7670', '500', '1504,79', '910,13', '1745,7', '978,56', '1029,75', '4560', '7450', '4710', '2410', '54,58', '2390', '6532,49', '1055,71', '11310', '801,8', '535,53', '1260', '2166,82', '983,28', '875,09', '580,49', '2058,71', '3410', '2944,54', '3075,82', '1508,79', '1924,4', '1959,42', '572,22', '997,66', '2144,77', '630,49', '616,06', '772,73', '2184,66', '1742,41', '3299,1', '2149,94', '1719,72', '2168,26', '1321,59', '1140', '1200,99', '1317,12', '740', '720', '2979,57', '1179,89', '1073,54', '1173,46', '830,7', '1452', '3506,07', '1191,65', '1896,24', '429,11', '1498,26', '821,93', '2360', '1170', '2695,38', '7100', '920', '722,59', '1405,53', '240', '1959,99', '2670', '879', '4164,34', '2740', '862,43', '3800', '3400', '4850,2', '1960', '4640', '2124,5', '1429,99', '3490', '3283,1', '2659,95', '5560', '3040', '380', '3285,74', '5320', '979,94', '3890', '1408,32', '1180,87', '930,4', '910,63', '588,13', '586', '1252,67', '1727,62', '1740', '3235,24', '1736,4', '4884,95', '628,94', '990', '1112', '2173,43', '630', '1138,2', '446,31', '5047,5', '903,66', '2599,29', '3762,5', '1159,06', '2080', '1433,4', '2180', '3309,87', '2247,51', '429,24', '2445,93', '2441,4', '1288,63', '2176,36', '1544,95', '2112,17', '1070,05', '1830', '1344,33', '1317,32', '958,5', '943,56', '1489,45', '95,09', '890', '1850,24', '3250', '2260', '790,77', '5149,95', '3470', '5900', '1628,45', '502,1', '1640', '578,3', '2083', '1899,1', '2497', '833,55', '1819,09', '1047,32', '1119,27', '4574,85', '5470', '2310', '2642,83', '4190', '366,58', '4550', '1539,13', '183,13', '2970', '1140,2', '3450', '6390', '961,94', '2647,9', '1405,09', '2002,45', '2630', '560', '1114,57', '5040', '1678,99', '3160', '1209,47', '1196,43', '894,29', '1650', '3101,73', '438,19', '870', '619,73', '2750', '2518,18', '886,26', '6160', '846,55', '746,57', '2320', '2247,08', '1080', '4446,3', '528,15', '1095,89', '919,88', '1199,15', '2750,86', '3768,7', '1040,5', '1053,67', '1507,48', '444', '1248,27', '2178', '1873,19', '1097,86', '954,65', '1519,64', '4565', '4400', '5603,82', '1991,71', '1840,14', '3130', '1021,13', '2940,81', '1720', '2991,39', '543,17', '1311,85', '531,65', '4060', '540', '887,79', '1287,35', '665,11', '1597,92', '5397,15', '1127,76', '4620', '2030', '620', '355,04', '1059,47', '410,6', '1110', '929,39', '2391,38', '1053', '524,6', '1097,55', '980,25', '918,55', '900', '3300', '516,18', '580', '1066', '2154,02', '1645,64', '6650', '767,7', '600,93', '1930,47', '3880', '3760', '3860,18', '100', '1478,49', '1004,8', '1845,5', '903,48', '1155,06', '988,44', '1145,38', '2250,56', '1639,94', '1319,56', '5420', '6490', '2090', '1550', '1015', '570', '5780', '849,19', '816,83', '2569,05', '553', '1320,85', '603,55', '991,19', '2597,78', '1253,34', '1217,36', '1663,27', '1240,46', '3670', '91,27', '1268', '1700', '265,55', '2044,32', '806,19', '3810', '1200', '1169,82', '481,51', '2158,72', '1537,71', '1371,86', '1540', '1810', '3959', '1506,39', '3509,22', '710', '1411,31', '499,69', '1209,5', '1270', '1330,41', '1120,93', '3870,25', '1680', '457,71', '684,89', '1948,62', '4690', '5340', '3480', '668,36', '2809,87', '2477,64', '2250', '2009', '1562,12', '1286,14', '596,29', '367,35', '839,88', '2425', '5872,64', '1132,64', '1186,31', '1489,13', '1302,38', '2700', '1317,06', '1050', '2220,72', '2142,2', '3640', '4406,5', '451,06', '2440', '1355,12', '717,87', '400', '5910', '697,72', '1408,87', '2660', '568,7', '5170', '1750', '4000', '880', '590', '3180', '2112,57', '599,19', '1826,86', '1599,9', '1310', '3030', '856,64', '2670,02', '1684,42', '2409,01', '2702,4', '2309,46', '1091,55', '698,26', '1010,27', '798,53', '2563,29', '2450', '635,53', '1242,57', '1739,33', '1192,75', '1626,75', '530', '1880', '1620', '1255,29', '4300', '4893,17', '1710', '2800', '3320', '698', '2347,51', '731,72', '1780', '660,6', '9840', '7490', '980,42', '997,65', '1160,21', '3639,91', '1683,49', '1176,82', '3190', '5401,67', '883,33', '5577,92', '1402,2', '1583,15', '3390', '524,82', '3768,74', '2900', '2252,3', '1235,4', '552,57', '1429,97', '3830', '700', '1398,58', '3539,82', '871,07', '826,64', '1403,64', '2959', '4508,2', '1325,63', '2429,09', '4120', '1077,03', '1090,8', '1300', '3010', '1181,51', '726,57', '1909,16', '1380', '84,07', '1336,38', '0,71', '502,2', '3570', '658,84', '115,65', '9060', '2090,53', '1119,93', '1965,32', '2588', '812,11', '3680', '1226,25', '1457,52', '937,79', '1546,55', '1251,35', '2920', '134,78', '1002,22', '1780,28', '4220', '2122,45', '1339,99', '370', '3303,2', '4020', '3863,72', '1244,53', '2712,72', '6260', '2064,03', '749,05', '4420', '3500', '3589,09', '3060', '2252,24', '3530', '872,81', '1391,47', '605,59', '1443,3', '367', '2081,36', '811,49', '1031,76', '342,02', '5580', '3000', '1097,62', '981,71', '657,95', '4136,07', '7790', '1351,06', '1671,7', '1040', '682', '3165,46', '3783,76', '410,39', '1130', '1459,34', '411,43', '756,84', '1374,28', '1881,26', '3770', '3433,42', '2858,62', '2858,6', '2409,2', '1985,3', '1338,69', '4490', '482,28', '3018,62', '520', '1255,21', '2163,94', '964,69', '2910', '1177,84', '3089,5', '1479,11', '5430', '1480', '7340', '4084,07', '1961,35', '678,2', '2375,59', '1085,53', '1479,51', '963,96', '924,08', '819,3', '1210,94', '2492,54', '1731,06', '840', '3610', '1198,15', '0,04', '1942,72', '440', '567,16', '776,6', '550,83', '430', '0', '680', '3990', '1317,4', '868,01', '1030,63', '15110', '2935,52', '1606,38', '7369,77', '979,89', '717,9', '2510,2', '1614,36', '8020', '3127,19', '1007,8', '1259,39', '3771,24', '1402,43', '3960', '489,13', '2707,25', '1692,49', '3355,19', '3970', '6540', '1169,69', '472,8', '730', '5394,29', '828,51', '3860', '7620', '1600', '6200', '3388,62', '1113,74', '836,6', '804,89', '1450', '1260,55', '1761,03', '3330', '87,39', '2068,56', '1071,75', '2153,67', '1222,06', '2890,47', '777,84', '1017,28', '339,83', '954,34', '1832,91', '2290', '3594,45', '797,16', '1245,94', '957,59', '800', '3550', '1890', '1348,68', '5050', '2590', '2140', '1870', '1099,54', '1110,39', '1000,38', '960', '407,8', '1259,43', '651,16', '1793,66', '2979,13', '2474,45', '5370', '1775,46', '695,06', '769,43', '2690', '837,48', '187,35', '1768,07', '1832,78', '4758,14', '762,16', '3660', '2880', '1586,61', '1954,4', '4960', '4158,85', '3357,52', '2860', '2751,25', '842,15', '2742,25', '3920', '2350', '1032,06', '3100', '3971,6', '2595,06', '717,01', '1792,71', '3720', '1023,66', '5500', '1220', '1312,44', '3752,02', '1086,57', '4940', '330', '1590', '849,91', '1010,55', '2010', '669,48', '5048,19', '732,62', '4263,14', '1591,94', '1185,5', '3460', '2157,32', '1056,95', '830', '1731,7', '806,93', '2000', '665,57', '2804,46', '2685,68', '690', '4210', '724,93', '1033', '5110', '1716,52', '2755,21', '1527,19', '3870', '1930', '1660', '2619,25', '2706,39', '620,75', '300', '2340', '2547,85', '5752,98', '2725', '2088,86', '526,94', '1530', '2013,19', '794,5', '1630', '1102,7', '1039,36', '4510', '2589,2', '978,55', '1966,99', '802,36', '944,93', '2399,55', '1250', '3210', '673,02', '3237,94', '2870', '3150', '216,59', '490,88', '270', '1128,64', '3201,95', '2980', '2641,33', '756,1', '5100', '7060', '641,04', '2059,46', '1101,1', '2094,3', '3637,43', '1880,59', '3120', '1747,33', '762,93', '1920', '2680', '2201,11', '1386,14', '1359,6', '1208,09', '966,07', '598,5', '1293,09', '1144,98', '2510', '1000', '4387,48', '1814,93', '2430,38', '2579,43', '2668,07', '1145,21', '799,09', '340', '1012,9', '3377,57', '480', '2640', '664,42', '2220', '517,51', '958,76', '94,89', '3900', '859,1', '4760', '2840', '3700', '2568,45', '2060', '2676,24', '3520', '3170', '1538,69', '918,7', '3635,77', '1896,34', '951,12', '904,08', '975', '490', '963,12', '3749,07', '1370,25', '1547,02', '2282,89', '550', '4820', '437,26', '1730', '62,46', '1570', '6750', '997,89', '1074,52', '610', '1093,22', '4700', '1195,3', '6360', '670', '450', '7010', '2263,18', '1817,57', '1485,15', '6689,82', '1760', '4140', '860', '2372,77', '2590,15', '820,87', '59,68', '1141,06', '1414,34', '2361,22', '750', '38,32', '212,25', '2940', '910', '1007,63', '1674,3', '1783,55', '3626,91', '4834,28', '1598,01', '71,71', '5550', '1840', '846,74', '988,85', '714', '3910', '2770', '1697,22', '1010', '891,95', '5428,62', '3716,35', '849,07', '1309,43', '310', '3360', '2786,89', '1179,86', '789,23', '1957,21', '2618,78', '9530,91', '3914,24', '1510', '2084,32', '836,79', '3172,83', '2016,7', '2270', '1221,92', '390', '3540', '1408,53', '865,1', '652', '809,42', '838,09', '1999,73', '768,11', '2539,91', '1045,89', '956,67', '1116,49', '7510', '1439,9', '2650', '823,54', '2493,97', '2131,91', '908,78', '42,52', '647,42', '1175,57', '177,34', '604,76', '2258,3', '1532,04', '4920', '778,32', '559,94', '4956,4', '666,41', '2620', '852,48', '581,15', '2119,77', '2779,29', '1071,44', '1940', '997,13', '978,13', '966,53', '901,64', '1283,93', '2480', '6080', '1804,9', '2150', '2629,87', '1915,35', '1477,37', '1090', '2460', '859,73', '2573,8', '660', '4890', '1303,04', '1347,12', '376,08', '4290', '3630', '848,45', '753,68', '869,26', '2379,46', '1870,69', '3702,8', '1145,85', '3138', '1574,25', '1090,01', '4660', '68,77', '2810', '1468,38', '2446,5', '1387,15', '2429,5', '560,36', '4450', '3231,2', '1085,5', '775,86', '2575,19', '950', '1848,05', '3782,39', '1839,85', '2520', '3840', '1241,71', '1690', '950,33', '715,54', '2343,41', '2710', '1894,04', '1120,19', '2263,2', '879,74', '1670,18', '1180', '727,79', '791,56', '2406,8', '2100', '549,88', '1095,61', '2539,12', '1136,6', '1467,05', '3964,85', '1990', '455,59', '660,86', '1400', '669,12', '1993,59', '1500', '1100', '1850,5', '706,48', '1068,47', '4680', '1206,51', '1707,5', '1437,01', '4160', '1060', '1771,33', '1288,7', '1819,26', '1619,63', '4050', '145,92', '1130,63', '828,64', '840,4', '5090', '2398,8', '839,79', '989,15', '2780', '2950', '1350', '1788,46', '5850', '2005,15', '1139,49', '2467,33', '1581,82', '2600', '1330', '1953,6', '2830', '2499,82', '6070', '543,33', '783', '690,99', '1766,2', '704,93', '911,49', '564,93', '2354,29', '1070,52', '4200', '1820', '1258,49', '736,3', '2013,45', '1476,6', '1721,35', '5070', '1549,18', '5108,38', '3780', '1280', '1154,9', '930', '1639,99', '1841,9', '2233,65', '4320', '284,02', '2239,37', '3240', '4600', '3070', '1006,59', '921,58', '1094', '3110', '5975,04', '609,52', '1070', '3510', '2368,84', '766,26', '3783,78', '802,29', '1127,63', '2732,2', '95,79', '1274,99', '324,16', '5698,46', '3464,88', '2352,78', '1420', '706,5', '918,28', '4070', '1387,47', '687,11', '2779,4', '2300', '2739,76', '1239,08', '101,52', '2319,2', '3103,84', '1105,07', '755,76', '1918,79', '568,75', '2064,82', '3140', '1430', '1539,2', '1268,44', '2816,25', '1610', '6130', '1136,44', '1230', '37,5', '804,32', '2262,73', '1094,09', '780', '2960', '678,18', '1065,62', '3350', '3440', '4610', '2088,64', '2349,51', '1686,92', '2370', '856,3', '3718,64', '661,46', '2189,99', '1324,5', '49,35', '0,98', '1259,1', '2157,89', '1593,76', '1649,37', '2064,08', '948,58', '820', '760,65', '2992,64', '10640', '1373,87', '3111,86', '4100', '63,31', '1272,72', '1650,53', '1749,69', '2530', '3270', '5974,67', '2289,89', '4026,63', '865,03', '1088,05', '824,02', '976,68', '581,67', '642,31', '5870', '2110', '4001,34', '3020', '574,21', '892,18', '2102,75', '3780,1', '2549,52', '1900', '1299,55', '2010,03', '2598,9', '1230,63', '224,59', '630,8', '705,6', '5760', '937,6', '739,93', '1950', '1626,16', '1381,12', '2707,64', '1999,19', '2610', '1042,41', '1233,33', '13920', '1144,03', '2281,1', '4380', '1272,81', '712,12', '1939,61', '2050', '970'}\n",
      "\n",
      "\n",
      "==========\n",
      "sample\n",
      "{'test', 'train'}\n",
      "\n",
      "\n"
     ]
    }
   ],
   "source": [
    "for i in df.columns: # перебираем все столбцы\n",
    "    if str(df[i].dtype) == 'object': # если тип столбца - object\n",
    "        print('='*10)\n",
    "        print(i) # выводим название столбца\n",
    "        print(set(df[i])) # выводим все его значения (но делаем set - чтоб значения не повторялись)\n",
    "        print('\\n') # выводим пустую строку"
   ]
  },
  {
   "cell_type": "markdown",
   "metadata": {
    "collapsed": true
   },
   "source": [
    "Mожно заметить что некоторые переменные, которые обозначены как строки (например PERSONAL_INCOME) на самом деле числа, но по какой-то причине были распознаны как строки\n",
    "\n",
    "Причина же что использовалась запятая для разделения не целой части числа.."
   ]
  },
  {
   "cell_type": "markdown",
   "metadata": {},
   "source": [
    "Перекодировать их можно например так:"
   ]
  },
  {
   "cell_type": "code",
   "execution_count": 522,
   "metadata": {},
   "outputs": [],
   "source": [
    "# for i in ['PERSONAL_INCOME', 'CREDIT', 'FST_PAYMENT', 'LOAN_AVG_DLQ_AMT', 'LOAN_MAX_DLQ_AMT']:\n",
    "#     df[i]=df[i].map(lambda x: x.replace(',', '.')).astype('float')"
   ]
  },
  {
   "cell_type": "markdown",
   "metadata": {},
   "source": [
    "Такой эффект наблюдается в столбцах `PERSONAL_INCOME`, `CREDIT`, `FST_PAYMENT`, `LOAN_AVG_DLQ_AMT`, `LOAN_MAX_DLQ_AMT`"
   ]
  },
  {
   "cell_type": "markdown",
   "metadata": {},
   "source": [
    "### Теперь ваше небольшое исследование"
   ]
  },
  {
   "cell_type": "markdown",
   "metadata": {
    "collapsed": true
   },
   "source": [
    "#### Задание 1. Есть ли пропуски в данных? Что с ними сделать?\n",
    "\n",
    "(единственного верного ответа нет - аргументируйте)"
   ]
  },
  {
   "cell_type": "code",
   "execution_count": 523,
   "metadata": {},
   "outputs": [
    {
     "data": {
      "text/plain": [
       "(2713, 53)"
      ]
     },
     "execution_count": 523,
     "metadata": {},
     "output_type": "execute_result"
    }
   ],
   "source": [
    "#  да, пропуски есть, особенно в данных - справочниках (некоторые забиты NaN )\n",
    "df[df['GEN_INDUSTRY'].isnull()].shape"
   ]
  },
  {
   "cell_type": "code",
   "execution_count": 524,
   "metadata": {},
   "outputs": [],
   "source": [
    "#  их количество порядка 10%, что значимо, при этом эти параметры (должность, индустрия где работает клиент,\n",
    "# тип организации) могути влиять на скоринг, поэтому игнорировать их нецелесообразно.\n",
    "# для этого заменим значение NaN на категорию - \"Не определено\" \n",
    "# тем более, в дальнейшем можно рассмотреть влияние этой категории на результат и исключить ее (т.к. в целом \n",
    "# эти столбцы не заполнены у одних и тех же данных)\n",
    "# for i in ['GEN_INDUSTRY','GEN_TITLE', 'ORG_TP_STATE', 'ORG_TP_FCAPITAL', 'JOB_DIR', 'TP_PROVINCE']:\n",
    "#         df.loc[df[i].isnull(),i]='Не определено'"
   ]
  },
  {
   "cell_type": "code",
   "execution_count": 525,
   "metadata": {},
   "outputs": [],
   "source": [
    "# для WORK_TIME (числовое значение) незаполненные значения (их также около 10%) можно заполнить медианой\n",
    "# df.loc[df['WORK_TIME'].isnull(),'WORK_TIME']=df['WORK_TIME'].median()"
   ]
  },
  {
   "cell_type": "code",
   "execution_count": 526,
   "metadata": {},
   "outputs": [],
   "source": [
    "#так как поле PREVIOUS_CARD_NUM_UTILIZED заполнено только для 600 записей (2%), этот параметр можно вообще исключить из рассмотрения\n",
    "# df=df.drop(['PREVIOUS_CARD_NUM_UTILIZED'], axis=1)"
   ]
  },
  {
   "cell_type": "markdown",
   "metadata": {
    "collapsed": true
   },
   "source": [
    "#### Задание 2. Есть ли категориальные признаки? Что с ними делать?"
   ]
  },
  {
   "cell_type": "code",
   "execution_count": 527,
   "metadata": {},
   "outputs": [],
   "source": [
    "# их много. имеет смысл провести OneCodeEncoding (правда столбцов будет 451, что-то многовато...)\n",
    "# df_obj_list=[]\n",
    "# for i in df.columns: # перебираем все столбцы\n",
    "#     if (str(df[i].dtype) == 'object'): df_obj_list.append(i)\n",
    "# del df_obj_list[-1]      \n",
    "# df=pd.get_dummies(df, columns=df_obj_list)"
   ]
  },
  {
   "cell_type": "markdown",
   "metadata": {},
   "source": [
    "#### Задание 3. Фунция предобработки"
   ]
  },
  {
   "cell_type": "markdown",
   "metadata": {},
   "source": [
    "Напишите функцию, которая бы\n",
    "\n",
    "* Удаляло идентификатор `AGREEMENT_RK`\n",
    "* Избавлялась от проблем с '.' и ',' в стобцах PERSONAL_INCOME, CREDIT, FST_PAYMENT, LOAN_AVG_DLQ_AMT, LOAN_MAX_DLQ_AMT\n",
    "* Что-то делала с пропусками\n",
    "* Кодировала категориальные признаки\n",
    "\n",
    "В результате, ваш датафрейм должен содержать только числа и не содержать пропусков!"
   ]
  },
  {
   "cell_type": "code",
   "execution_count": 528,
   "metadata": {},
   "outputs": [],
   "source": [
    "# сделал выше переношу сюда для произвольного датафрэйм\n",
    "def preproc_data(df_input):\n",
    "    df_output = df_input.copy()\n",
    "#     \n",
    "    df_output=df_output.drop(['AGREEMENT_RK'], axis=1)\n",
    "    for i in ['PERSONAL_INCOME', 'CREDIT', 'FST_PAYMENT', 'LOAN_AVG_DLQ_AMT', 'LOAN_MAX_DLQ_AMT']:\n",
    "         df_output[i]=df_output[i].map(lambda x: x.replace(',', '.')).astype('float')\n",
    "    \n",
    "    for i in ['GEN_INDUSTRY','GEN_TITLE', 'ORG_TP_STATE', 'ORG_TP_FCAPITAL', 'JOB_DIR', 'TP_PROVINCE']:\n",
    "        df_output.loc[df_output[i].isnull(),i]='Не определено'\n",
    "    \n",
    "    df_output.loc[df['WORK_TIME'].isnull(),'WORK_TIME']=df_output['WORK_TIME'].median()\n",
    "    df_output=df_output.drop(['PREVIOUS_CARD_NUM_UTILIZED'], axis=1)\n",
    "    \n",
    "    df_obj_list=[]\n",
    "    for i in df_output.columns: \n",
    "        if (str(df_output[i].dtype) == 'object'): df_obj_list.append(i)\n",
    "    del df_obj_list[-1]      \n",
    "    df_output=pd.get_dummies(df_output, columns=df_obj_list)\n",
    "#    \n",
    "    return df_output"
   ]
  },
  {
   "cell_type": "code",
   "execution_count": 529,
   "metadata": {},
   "outputs": [],
   "source": [
    "df_preproc = df.pipe(preproc_data)\n",
    "\n",
    "df_train_preproc = df_preproc.query('sample == \"train\"').drop(['sample'], axis=1)\n",
    "df_test_preproc = df_preproc.query('sample == \"test\"').drop(['sample'], axis=1)"
   ]
  },
  {
   "cell_type": "markdown",
   "metadata": {},
   "source": [
    "#### Задание 4. Отделите целевую переменную и остальные признаки\n",
    "\n",
    "Должно получится:\n",
    "* 2 матрицы: X и X_test\n",
    "* 2 вектора: y и y_test"
   ]
  },
  {
   "cell_type": "code",
   "execution_count": 530,
   "metadata": {},
   "outputs": [],
   "source": [
    "x_train=df_train_preproc.drop(['TARGET'], axis=1)\n",
    "y_train=df_train_preproc['TARGET']\n",
    "\n",
    "x_test=df_test_preproc.drop(['TARGET'], axis=1)\n",
    "y_test=df_test_preproc['TARGET']"
   ]
  },
  {
   "cell_type": "markdown",
   "metadata": {},
   "source": [
    "#### Задание 5. Обучение и оценка качества разных моделей"
   ]
  },
  {
   "cell_type": "code",
   "execution_count": 531,
   "metadata": {},
   "outputs": [],
   "source": [
    "from sklearn.cross_validation import train_test_split\n",
    "# test_size=0.3, random_state=42\n",
    "\n",
    "X_train, X_test, Y_train, Y_test = train_test_split(x_train, y_train, test_size=0.3, random_state=42)\n"
   ]
  },
  {
   "cell_type": "code",
   "execution_count": 532,
   "metadata": {},
   "outputs": [
    {
     "name": "stdout",
     "output_type": "stream",
     "text": [
      "CPU times: user 1.78 s, sys: 98.2 ms, total: 1.88 s\n",
      "Wall time: 1.76 s\n"
     ]
    }
   ],
   "source": [
    "%%time\n",
    "# Попробовать следующие \"черные ящики\": интерфейс одинаковый \n",
    "# Постепенно мы узнаем, что они делают а сейчас учимся понимать какой работает качественнее\n",
    "#     fit, \n",
    "#     predict, \n",
    "#     predict_proba\n",
    "\n",
    "from sklearn.tree import DecisionTreeClassifier\n",
    "from sklearn.ensemble import RandomForestClassifier\n",
    "from sklearn.linear_model import LogisticRegression\n",
    "\n",
    "models_=[DecisionTreeClassifier(),\n",
    "         RandomForestClassifier(n_estimators=10),\n",
    "         LogisticRegression()]\n",
    "model_names=[]\n",
    "predict_={}\n",
    "predict_proba={}\n",
    "\n",
    "for model_ in models_:\n",
    "    model_.fit(X_train, Y_train)\n",
    "    \n",
    "    model_name=str(model_)[:str(model_).find('(')]\n",
    "    model_names.append(model_name)\n",
    "    \n",
    "    predict_[model_name] = model_.predict(X_test)   \n",
    "    predict_proba[model_name] = model_.predict_proba(X_test)[:,1]"
   ]
  },
  {
   "cell_type": "code",
   "execution_count": 533,
   "metadata": {},
   "outputs": [],
   "source": [
    "predict_=pd.DataFrame(predict_,columns=model_names)\n",
    "predict_proba=pd.DataFrame(predict_proba,columns=model_names)"
   ]
  },
  {
   "cell_type": "code",
   "execution_count": 534,
   "metadata": {},
   "outputs": [],
   "source": [
    "# Посчитать метрики стандартные\n",
    "# accuracy, precision, recall\n",
    "from sklearn.metrics import accuracy_score, precision_score, recall_score\n",
    "\n",
    "metrics_ = {'metrics':['accuracy', 'precision', 'recall']}\n",
    "\n",
    "for model_name in model_names:\n",
    "    metrics_[model_name]=[accuracy_score(Y_test, predict_[model_name]),\n",
    "    precision_score(Y_test, predict_[model_name]),\n",
    "    recall_score(Y_test, predict_[model_name])]\n",
    "\n",
    "metrics_=pd.DataFrame(metrics_,columns=\n",
    "   ['metrics', 'DecisionTreeClassifier', 'RandomForestClassifier', 'LogisticRegression'])"
   ]
  },
  {
   "cell_type": "code",
   "execution_count": 535,
   "metadata": {},
   "outputs": [
    {
     "data": {
      "text/html": [
       "<div>\n",
       "<style scoped>\n",
       "    .dataframe tbody tr th:only-of-type {\n",
       "        vertical-align: middle;\n",
       "    }\n",
       "\n",
       "    .dataframe tbody tr th {\n",
       "        vertical-align: top;\n",
       "    }\n",
       "\n",
       "    .dataframe thead th {\n",
       "        text-align: right;\n",
       "    }\n",
       "</style>\n",
       "<table border=\"1\" class=\"dataframe\">\n",
       "  <thead>\n",
       "    <tr style=\"text-align: right;\">\n",
       "      <th></th>\n",
       "      <th>metrics</th>\n",
       "      <th>DecisionTreeClassifier</th>\n",
       "      <th>RandomForestClassifier</th>\n",
       "      <th>LogisticRegression</th>\n",
       "    </tr>\n",
       "  </thead>\n",
       "  <tbody>\n",
       "    <tr>\n",
       "      <th>0</th>\n",
       "      <td>accuracy</td>\n",
       "      <td>0.795270</td>\n",
       "      <td>0.875848</td>\n",
       "      <td>0.878038</td>\n",
       "    </tr>\n",
       "    <tr>\n",
       "      <th>1</th>\n",
       "      <td>precision</td>\n",
       "      <td>0.173540</td>\n",
       "      <td>0.227273</td>\n",
       "      <td>0.333333</td>\n",
       "    </tr>\n",
       "    <tr>\n",
       "      <th>2</th>\n",
       "      <td>recall</td>\n",
       "      <td>0.181982</td>\n",
       "      <td>0.009009</td>\n",
       "      <td>0.003604</td>\n",
       "    </tr>\n",
       "  </tbody>\n",
       "</table>\n",
       "</div>"
      ],
      "text/plain": [
       "     metrics  DecisionTreeClassifier  RandomForestClassifier  \\\n",
       "0   accuracy                0.795270                0.875848   \n",
       "1  precision                0.173540                0.227273   \n",
       "2     recall                0.181982                0.009009   \n",
       "\n",
       "   LogisticRegression  \n",
       "0            0.878038  \n",
       "1            0.333333  \n",
       "2            0.003604  "
      ]
     },
     "execution_count": 535,
     "metadata": {},
     "output_type": "execute_result"
    }
   ],
   "source": [
    "metrics_"
   ]
  },
  {
   "cell_type": "code",
   "execution_count": 536,
   "metadata": {},
   "outputs": [
    {
     "data": {
      "text/plain": [
       "<matplotlib.axes._subplots.AxesSubplot at 0x1a282a6a90>"
      ]
     },
     "execution_count": 536,
     "metadata": {},
     "output_type": "execute_result"
    },
    {
     "data": {
      "image/png": "[encoded data removed]",
      "text/plain": [
       "<Figure size 1080x504 with 1 Axes>"
      ]
     },
     "metadata": {},
     "output_type": "display_data"
    }
   ],
   "source": [
    "# Визуалищировать эти метрики всех моделей на одном графике (чтоб визуально сравнить)\n",
    "# Возможно вас удивит качество! Но задача подобрана специально ;) Такое качество тоже бывает\n",
    "\n",
    "_, ax_my = plt.subplots(figsize=(15,7)) \n",
    "metrics_.plot(x='metrics', kind='bar', ax=ax_my, color=['r', 'b', 'g'])\n"
   ]
  },
  {
   "cell_type": "code",
   "execution_count": 537,
   "metadata": {},
   "outputs": [
    {
     "data": {
      "text/plain": [
       "<matplotlib.legend.Legend at 0x1a298e94e0>"
      ]
     },
     "execution_count": 537,
     "metadata": {},
     "output_type": "execute_result"
    },
    {
     "data": {
      "image/png": "[encoded data removed]",
      "text/plain": [
       "<Figure size 1080x720 with 1 Axes>"
      ]
     },
     "metadata": {},
     "output_type": "display_data"
    }
   ],
   "source": [
    "# Потроить roc-кривые всех можелей на одном графике\n",
    "# Вывести roc_auc каждой моделе\n",
    "# Подпишите оси и линии\n",
    "from sklearn.metrics import roc_auc_score, roc_curve\n",
    "\n",
    "plt.figure(figsize=(15, 10))\n",
    "plt.ylabel('tpr')\n",
    "plt.xlabel('fpr')\n",
    "plt.grid(True)\n",
    "plt.title('ROC curve')\n",
    "plt.xlim((-0.01, 1.01))\n",
    "plt.ylim((-0.01, 1.01))\n",
    "\n",
    "curve_colors=['ro-', 'bx-','g']\n",
    "\n",
    "for model_name in model_names:\n",
    "    fpr, tpr, thresholds = roc_curve(Y_test, predict_proba[model_name])\n",
    "    plt.plot(fpr, tpr, curve_colors[model_names.index(model_name)] , label=model_name+' roc_auc='+ str(roc_auc_score(Y_test, predict_proba[model_name])))\n",
    "\n",
    "\n",
    "\n",
    "plt.legend()"
   ]
  },
  {
   "cell_type": "code",
   "execution_count": 538,
   "metadata": {},
   "outputs": [],
   "source": [
    "from sklearn.cross_validation import cross_val_score\n",
    "# Сделать k-fold (10 фолдов) кросс-валидацию каждой модели\n",
    "# И посчитать средний roc_auc\n",
    "avg_roc_auc={}\n",
    "for model_ in models_:\n",
    "    avg_roc_auc[str(model_)[:str(model_).find('(')]]=cross_val_score(\n",
    "        model_,\n",
    "        X_test,\n",
    "        Y_test,\n",
    "        scoring='roc_auc',\n",
    "        cv=10\n",
    "       ).mean()"
   ]
  },
  {
   "cell_type": "code",
   "execution_count": 539,
   "metadata": {},
   "outputs": [
    {
     "data": {
      "text/plain": [
       "Text(0.5,1,'Средний ROC_auc по кросс-валидации')"
      ]
     },
     "execution_count": 539,
     "metadata": {},
     "output_type": "execute_result"
    },
    {
     "data": {
      "image/png": "[encoded data removed]",
      "text/plain": [
       "<Figure size 864x360 with 1 Axes>"
      ]
     },
     "metadata": {},
     "output_type": "display_data"
    }
   ],
   "source": [
    "plt.bar(avg_roc_auc.keys(), avg_roc_auc.values(), width=0.3, color=['r', 'b', 'g'])\n",
    "plt.plot(avg_roc_auc.keys(), avg_roc_auc.values(), 'mx-')\n",
    "plt.grid(True)\n",
    "plt.title('Средний ROC_auc по кросс-валидации')\n"
   ]
  },
  {
   "cell_type": "code",
   "execution_count": 540,
   "metadata": {},
   "outputs": [
    {
     "data": {
      "text/plain": [
       "{'DecisionTreeClassifier': 0.5221118949412022,\n",
       " 'RandomForestClassifier': 0.5763823204716774,\n",
       " 'LogisticRegression': 0.6554463315929986}"
      ]
     },
     "execution_count": 540,
     "metadata": {},
     "output_type": "execute_result"
    }
   ],
   "source": [
    "avg_roc_auc"
   ]
  },
  {
   "cell_type": "code",
   "execution_count": 541,
   "metadata": {},
   "outputs": [],
   "source": [
    "# Взять лучшую модель и сделать предсказания (с вероятностями (!!!)) для test выборки\n",
    "model_=LogisticRegression()\n",
    "model_.fit(x_train, y_train) # обучение на полном массиве\n",
    "predict_ = model_.predict(x_test)   \n",
    "predict_proba = model_.predict_proba(x_test)"
   ]
  },
  {
   "cell_type": "code",
   "execution_count": 542,
   "metadata": {},
   "outputs": [
    {
     "data": {
      "text/html": [
       "<div>\n",
       "<style scoped>\n",
       "    .dataframe tbody tr th:only-of-type {\n",
       "        vertical-align: middle;\n",
       "    }\n",
       "\n",
       "    .dataframe tbody tr th {\n",
       "        vertical-align: top;\n",
       "    }\n",
       "\n",
       "    .dataframe thead th {\n",
       "        text-align: right;\n",
       "    }\n",
       "</style>\n",
       "<table border=\"1\" class=\"dataframe\">\n",
       "  <thead>\n",
       "    <tr style=\"text-align: right;\">\n",
       "      <th></th>\n",
       "      <th>val</th>\n",
       "      <th>prob</th>\n",
       "    </tr>\n",
       "  </thead>\n",
       "  <tbody>\n",
       "    <tr>\n",
       "      <th>0</th>\n",
       "      <td>1</td>\n",
       "      <td>0.700848</td>\n",
       "    </tr>\n",
       "    <tr>\n",
       "      <th>1</th>\n",
       "      <td>1</td>\n",
       "      <td>0.560928</td>\n",
       "    </tr>\n",
       "    <tr>\n",
       "      <th>2</th>\n",
       "      <td>1</td>\n",
       "      <td>0.543187</td>\n",
       "    </tr>\n",
       "    <tr>\n",
       "      <th>3</th>\n",
       "      <td>1</td>\n",
       "      <td>0.530719</td>\n",
       "    </tr>\n",
       "    <tr>\n",
       "      <th>4</th>\n",
       "      <td>1</td>\n",
       "      <td>1.000000</td>\n",
       "    </tr>\n",
       "    <tr>\n",
       "      <th>5</th>\n",
       "      <td>1</td>\n",
       "      <td>0.559713</td>\n",
       "    </tr>\n",
       "    <tr>\n",
       "      <th>6</th>\n",
       "      <td>1</td>\n",
       "      <td>0.508865</td>\n",
       "    </tr>\n",
       "    <tr>\n",
       "      <th>7</th>\n",
       "      <td>1</td>\n",
       "      <td>0.571716</td>\n",
       "    </tr>\n",
       "  </tbody>\n",
       "</table>\n",
       "</div>"
      ],
      "text/plain": [
       "   val      prob\n",
       "0    1  0.700848\n",
       "1    1  0.560928\n",
       "2    1  0.543187\n",
       "3    1  0.530719\n",
       "4    1  1.000000\n",
       "5    1  0.559713\n",
       "6    1  0.508865\n",
       "7    1  0.571716"
      ]
     },
     "execution_count": 542,
     "metadata": {},
     "output_type": "execute_result"
    }
   ],
   "source": [
    "# полученный результат - ВСЕ записи в тестовой выборке кроме 8 (ВОСЬМИ, КАРЛ!) \"выпадают в шлак\", то есть \n",
    "# всем этим клиентам банк должен будет отказать. Да и 6 записей из 8 тоже \"на грани\" - вероятности очечь близки к порогу решения \n",
    "pd.DataFrame({'val': predict_[predict_>0], 'prob': predict_proba[predict_>0,1]})"
   ]
  },
  {
   "cell_type": "code",
   "execution_count": 543,
   "metadata": {},
   "outputs": [
    {
     "data": {
      "text/plain": [
       "<matplotlib.legend.Legend at 0x11e1e5550>"
      ]
     },
     "execution_count": 543,
     "metadata": {},
     "output_type": "execute_result"
    },
    {
     "data": {
      "image/png": "[encoded data removed]",
      "text/plain": [
       "<Figure size 1080x720 with 1 Axes>"
      ]
     },
     "metadata": {},
     "output_type": "display_data"
    }
   ],
   "source": [
    "# Померить roc_auc на тесте\n",
    "# Вывести текстом и на графике =)\n",
    "plt.figure(figsize=(15, 10))\n",
    "plt.ylabel('tpr')\n",
    "plt.xlabel('fpr')\n",
    "plt.grid(True)\n",
    "plt.title('ROC curve для модели LogisticRegression')\n",
    "plt.xlim((-0.01, 1.01))\n",
    "plt.ylim((-0.01, 1.01))\n",
    "\n",
    "fpr, tpr, thresholds = roc_curve(y_test, predict_proba[:,1])\n",
    "plt.plot(fpr, tpr,  label=' roc_auc='+ str(roc_auc_score(y_test, predict_proba[:,1])))\n",
    "\n",
    "plt.legend()\n",
    "## Your Code Here"
   ]
  },
  {
   "cell_type": "markdown",
   "metadata": {},
   "source": [
    "### Больше обязательных заданий нет, но ниже вы можете провести исследование, поиграться с данными\n",
    "### Это возможность написать код, который я посмотрю и в случае чего откомметирую. ;)\n",
    "### Это не оценивается и остается на ваше усмотрение. Просто дополнительная возможность"
   ]
  },
  {
   "cell_type": "code",
   "execution_count": 544,
   "metadata": {},
   "outputs": [],
   "source": [
    "# Получился очень странный результат - модель, вроде как наиболее качественная по roc_curve и accuracy \n",
    "# показывает очень плохие результаты в части recall (он почти нулевой). Да и другие модели также не блещут этим показателем\n",
    "# Выбранная же модель с точки зрения результата тестирования показала обескураживающий результат.\n",
    "# Это если представленные ТЕСТОВЫЕ данные действительно имеют усредненную \n",
    "# выборку, а не сразу создавались из тех клиентов, которых банк видит как бесперспективных и предполагал им отказать\n",
    "# Возможно, объем рассматриваемых в выборке параметров слишком велик ? Есть мысль исключить какие-то группы параметров и \n",
    "# проверить влияние этого исключения на результат"
   ]
  },
  {
   "cell_type": "code",
   "execution_count": 498,
   "metadata": {},
   "outputs": [],
   "source": [
    "df = df_test.append(df_train).reset_index(drop=True)\n"
   ]
  },
  {
   "cell_type": "code",
   "execution_count": 545,
   "metadata": {},
   "outputs": [],
   "source": [
    "# исключим  данные о месте работы и должности\n",
    "def preproc_data_1(df_input):\n",
    "    df_output = df_input.copy()\n",
    "#     \n",
    "    df_output=df_output.drop(['GEN_INDUSTRY'], axis=1)\n",
    "    df_output=df_output.drop(['GEN_TITLE'], axis=1)\n",
    "    df_output=df_output.drop(['ORG_TP_STATE'], axis=1)\n",
    "    df_output=df_output.drop(['ORG_TP_FCAPITAL'], axis=1)\n",
    " \n",
    "    df_output=df_output.drop(['AGREEMENT_RK'], axis=1)\n",
    "    \n",
    "    for i in ['PERSONAL_INCOME', 'CREDIT', 'FST_PAYMENT', 'LOAN_AVG_DLQ_AMT', 'LOAN_MAX_DLQ_AMT']:\n",
    "         df_output[i]=df_output[i].map(lambda x: x.replace(',', '.')).astype('float')\n",
    "    \n",
    "    for i in ['JOB_DIR', 'TP_PROVINCE']:\n",
    "        df_output.loc[df_output[i].isnull(),i]='Не определено'\n",
    "    \n",
    "    df_output.loc[df['WORK_TIME'].isnull(),'WORK_TIME']=df_output['WORK_TIME'].median()\n",
    "    \n",
    "    df_output=df_output.drop(['PREVIOUS_CARD_NUM_UTILIZED'], axis=1)\n",
    "    \n",
    "    df_obj_list=[]\n",
    "    for i in df_output.columns: \n",
    "        if (str(df_output[i].dtype) == 'object'): df_obj_list.append(i)\n",
    "    del df_obj_list[-1]      \n",
    "    df_output=pd.get_dummies(df_output, columns=df_obj_list)\n",
    "#    \n",
    "    return df_output"
   ]
  },
  {
   "cell_type": "code",
   "execution_count": 564,
   "metadata": {},
   "outputs": [],
   "source": [
    "# описываем процесс обработки в одной процедуре для разных функций подготовки данных\n",
    "def process(preproc_data_all):\n",
    "    global x_train,y_train,x_test,y_test\n",
    "    \n",
    "    df_preproc = df.pipe(preproc_data_all)\n",
    "\n",
    "    df_train_preproc = df_preproc.query('sample == \"train\"').drop(['sample'], axis=1)\n",
    "    df_test_preproc = df_preproc.query('sample == \"test\"').drop(['sample'], axis=1)\n",
    "\n",
    "    x_train=df_train_preproc.drop(['TARGET'], axis=1)\n",
    "    y_train=df_train_preproc['TARGET']\n",
    "\n",
    "    x_test=df_test_preproc.drop(['TARGET'], axis=1)\n",
    "    y_test=df_test_preproc['TARGET']\n",
    "\n",
    "    X_train, X_test, Y_train, Y_test = train_test_split(x_train, y_train, test_size=0.3, random_state=42)\n",
    "\n",
    "    metrics_ = {'metrics':['accuracy', 'precision', 'recall', 'roc_auc', 'roc_auc_avg']}\n",
    "\n",
    "    for model_ in models_:\n",
    "        model_.fit(X_train, Y_train)\n",
    "        model_name=str(model_)[:str(model_).find('(')]    \n",
    "        predict_ = model_.predict(X_test)   \n",
    "        predict_proba= model_.predict_proba(X_test)[:,1]\n",
    "\n",
    "        fpr, tpr, thresholds = roc_curve(Y_test, predict_proba)\n",
    "       \n",
    "        metrics_[model_name]=[accuracy_score(Y_test, predict_),\n",
    "            precision_score(Y_test, predict_),\n",
    "            recall_score(Y_test, predict_),\n",
    "            roc_auc_score(Y_test, predict_proba),\n",
    "            cross_val_score(\n",
    "                model_,\n",
    "                X_test,\n",
    "                Y_test,\n",
    "                scoring='roc_auc',\n",
    "                cv=10\n",
    "            ).mean()]\n",
    "\n",
    "    return pd.DataFrame(metrics_,columns=\n",
    "       ['metrics', 'DecisionTreeClassifier', 'RandomForestClassifier', 'LogisticRegression'])"
   ]
  },
  {
   "cell_type": "code",
   "execution_count": 585,
   "metadata": {},
   "outputs": [
    {
     "data": {
      "text/html": [
       "<div>\n",
       "<style scoped>\n",
       "    .dataframe tbody tr th:only-of-type {\n",
       "        vertical-align: middle;\n",
       "    }\n",
       "\n",
       "    .dataframe tbody tr th {\n",
       "        vertical-align: top;\n",
       "    }\n",
       "\n",
       "    .dataframe thead th {\n",
       "        text-align: right;\n",
       "    }\n",
       "</style>\n",
       "<table border=\"1\" class=\"dataframe\">\n",
       "  <thead>\n",
       "    <tr style=\"text-align: right;\">\n",
       "      <th></th>\n",
       "      <th>metrics</th>\n",
       "      <th>DecisionTreeClassifier</th>\n",
       "      <th>RandomForestClassifier</th>\n",
       "      <th>LogisticRegression</th>\n",
       "    </tr>\n",
       "  </thead>\n",
       "  <tbody>\n",
       "    <tr>\n",
       "      <th>0</th>\n",
       "      <td>accuracy</td>\n",
       "      <td>0.798774</td>\n",
       "      <td>0.876067</td>\n",
       "      <td>0.877819</td>\n",
       "    </tr>\n",
       "    <tr>\n",
       "      <th>1</th>\n",
       "      <td>precision</td>\n",
       "      <td>0.179577</td>\n",
       "      <td>0.260870</td>\n",
       "      <td>0.285714</td>\n",
       "    </tr>\n",
       "    <tr>\n",
       "      <th>2</th>\n",
       "      <td>recall</td>\n",
       "      <td>0.183784</td>\n",
       "      <td>0.010811</td>\n",
       "      <td>0.003604</td>\n",
       "    </tr>\n",
       "    <tr>\n",
       "      <th>3</th>\n",
       "      <td>roc_auc</td>\n",
       "      <td>0.533816</td>\n",
       "      <td>0.581988</td>\n",
       "      <td>0.639117</td>\n",
       "    </tr>\n",
       "    <tr>\n",
       "      <th>4</th>\n",
       "      <td>roc_auc_avg</td>\n",
       "      <td>0.513998</td>\n",
       "      <td>0.588930</td>\n",
       "      <td>0.652700</td>\n",
       "    </tr>\n",
       "  </tbody>\n",
       "</table>\n",
       "</div>"
      ],
      "text/plain": [
       "       metrics  DecisionTreeClassifier  RandomForestClassifier  \\\n",
       "0     accuracy                0.798774                0.876067   \n",
       "1    precision                0.179577                0.260870   \n",
       "2       recall                0.183784                0.010811   \n",
       "3      roc_auc                0.533816                0.581988   \n",
       "4  roc_auc_avg                0.513998                0.588930   \n",
       "\n",
       "   LogisticRegression  \n",
       "0            0.877819  \n",
       "1            0.285714  \n",
       "2            0.003604  \n",
       "3            0.639117  \n",
       "4            0.652700  "
      ]
     },
     "execution_count": 585,
     "metadata": {},
     "output_type": "execute_result"
    }
   ],
   "source": [
    "metrics_=process(preproc_data_1)\n",
    "metrics_"
   ]
  },
  {
   "cell_type": "code",
   "execution_count": 588,
   "metadata": {},
   "outputs": [
    {
     "data": {
      "text/plain": [
       "<matplotlib.axes._subplots.AxesSubplot at 0x1a285832e8>"
      ]
     },
     "execution_count": 588,
     "metadata": {},
     "output_type": "execute_result"
    },
    {
     "data": {
      "image/png": "[encoded data removed]",
      "text/plain": [
       "<Figure size 1080x504 with 1 Axes>"
      ]
     },
     "metadata": {},
     "output_type": "display_data"
    }
   ],
   "source": [
    "_, ax_my = plt.subplots(figsize=(15,7)) \n",
    "metrics_.plot(x='metrics', kind='bar', ax=ax_my, color=['r', 'b', 'g', 'm', 'r'])"
   ]
  },
  {
   "cell_type": "code",
   "execution_count": 566,
   "metadata": {},
   "outputs": [
    {
     "data": {
      "text/html": [
       "<div>\n",
       "<style scoped>\n",
       "    .dataframe tbody tr th:only-of-type {\n",
       "        vertical-align: middle;\n",
       "    }\n",
       "\n",
       "    .dataframe tbody tr th {\n",
       "        vertical-align: top;\n",
       "    }\n",
       "\n",
       "    .dataframe thead th {\n",
       "        text-align: right;\n",
       "    }\n",
       "</style>\n",
       "<table border=\"1\" class=\"dataframe\">\n",
       "  <thead>\n",
       "    <tr style=\"text-align: right;\">\n",
       "      <th></th>\n",
       "      <th>val</th>\n",
       "      <th>prob</th>\n",
       "    </tr>\n",
       "  </thead>\n",
       "  <tbody>\n",
       "    <tr>\n",
       "      <th>0</th>\n",
       "      <td>1</td>\n",
       "      <td>0.541935</td>\n",
       "    </tr>\n",
       "    <tr>\n",
       "      <th>1</th>\n",
       "      <td>1</td>\n",
       "      <td>0.681287</td>\n",
       "    </tr>\n",
       "    <tr>\n",
       "      <th>2</th>\n",
       "      <td>1</td>\n",
       "      <td>0.570927</td>\n",
       "    </tr>\n",
       "    <tr>\n",
       "      <th>3</th>\n",
       "      <td>1</td>\n",
       "      <td>0.536382</td>\n",
       "    </tr>\n",
       "    <tr>\n",
       "      <th>4</th>\n",
       "      <td>1</td>\n",
       "      <td>0.561000</td>\n",
       "    </tr>\n",
       "    <tr>\n",
       "      <th>5</th>\n",
       "      <td>1</td>\n",
       "      <td>0.540683</td>\n",
       "    </tr>\n",
       "    <tr>\n",
       "      <th>6</th>\n",
       "      <td>1</td>\n",
       "      <td>1.000000</td>\n",
       "    </tr>\n",
       "    <tr>\n",
       "      <th>7</th>\n",
       "      <td>1</td>\n",
       "      <td>0.538546</td>\n",
       "    </tr>\n",
       "    <tr>\n",
       "      <th>8</th>\n",
       "      <td>1</td>\n",
       "      <td>0.526061</td>\n",
       "    </tr>\n",
       "    <tr>\n",
       "      <th>9</th>\n",
       "      <td>1</td>\n",
       "      <td>0.634050</td>\n",
       "    </tr>\n",
       "  </tbody>\n",
       "</table>\n",
       "</div>"
      ],
      "text/plain": [
       "   val      prob\n",
       "0    1  0.541935\n",
       "1    1  0.681287\n",
       "2    1  0.570927\n",
       "3    1  0.536382\n",
       "4    1  0.561000\n",
       "5    1  0.540683\n",
       "6    1  1.000000\n",
       "7    1  0.538546\n",
       "8    1  0.526061\n",
       "9    1  0.634050"
      ]
     },
     "execution_count": 566,
     "metadata": {},
     "output_type": "execute_result"
    }
   ],
   "source": [
    "model_=LogisticRegression()\n",
    "model_.fit(x_train, y_train) \n",
    "predict_ = model_.predict(x_test)   \n",
    "predict_proba = model_.predict_proba(x_test)\n",
    "\n",
    "pd.DataFrame({'val': predict_[predict_>0], 'prob': predict_proba[predict_>0,1]})\n"
   ]
  },
  {
   "cell_type": "code",
   "execution_count": 556,
   "metadata": {},
   "outputs": [],
   "source": [
    "# устойчивость результата показывает, что удаленные из выборки параметры (данные о компании, где работает сотрудник)\n",
    "# не играют значимой роли для принятия решения\n"
   ]
  },
  {
   "cell_type": "code",
   "execution_count": 581,
   "metadata": {},
   "outputs": [],
   "source": [
    "# попробуем еще удалить часть данных - адреса\n",
    "def preproc_data_2(df_input):\n",
    "    df_output = df_input.copy()\n",
    "#     \n",
    "    df_output=df_output.drop(['GEN_INDUSTRY'], axis=1)\n",
    "    df_output=df_output.drop(['GEN_TITLE'], axis=1)\n",
    "    df_output=df_output.drop(['ORG_TP_STATE'], axis=1)\n",
    "    df_output=df_output.drop(['ORG_TP_FCAPITAL'], axis=1)\n",
    "    df_output=df_output.drop(['JOB_DIR'], axis=1)\n",
    "\n",
    "    df_output=df_output.drop(['REG_ADDRESS_PROVINCE'], axis=1)\n",
    "    df_output=df_output.drop(['FACT_ADDRESS_PROVINCE'], axis=1)\n",
    "    df_output=df_output.drop(['POSTAL_ADDRESS_PROVINCE'], axis=1)\n",
    "    df_output=df_output.drop(['TP_PROVINCE'], axis=1)\n",
    "    df_output=df_output.drop(['REGION_NM'], axis=1)\n",
    "\n",
    "    df_output=df_output.drop(['REG_FACT_FL'], axis=1)\n",
    "    df_output=df_output.drop(['FACT_POST_FL'], axis=1)\n",
    "    df_output=df_output.drop(['REG_POST_FL'], axis=1)\n",
    "    df_output=df_output.drop(['REG_FACT_POST_FL'], axis=1)\n",
    "    df_output=df_output.drop(['REG_FACT_POST_TP_FL'], axis=1)\n",
    "\n",
    "    df_output=df_output.drop(['AGREEMENT_RK'], axis=1)\n",
    "    \n",
    "    for i in ['PERSONAL_INCOME', 'CREDIT', 'FST_PAYMENT', 'LOAN_AVG_DLQ_AMT', 'LOAN_MAX_DLQ_AMT']:\n",
    "         df_output[i]=df_output[i].map(lambda x: x.replace(',', '.')).astype('float')\n",
    "    \n",
    "#     for i in ['JOB_DIR' ]:\n",
    "#         df_output.loc[df_output[i].isnull(),i]='Не определено'\n",
    "    \n",
    "    df_output.loc[df['WORK_TIME'].isnull(),'WORK_TIME']=df_output['WORK_TIME'].median()\n",
    "    \n",
    "    df_output=df_output.drop(['PREVIOUS_CARD_NUM_UTILIZED'], axis=1)\n",
    "    \n",
    "    df_obj_list=[]\n",
    "    for i in df_output.columns: \n",
    "        if (str(df_output[i].dtype) == 'object'): df_obj_list.append(i)\n",
    "    del df_obj_list[-1]      \n",
    "    df_output=pd.get_dummies(df_output, columns=df_obj_list)\n",
    "#    \n",
    "    return df_output"
   ]
  },
  {
   "cell_type": "code",
   "execution_count": 590,
   "metadata": {},
   "outputs": [
    {
     "data": {
      "text/html": [
       "<div>\n",
       "<style scoped>\n",
       "    .dataframe tbody tr th:only-of-type {\n",
       "        vertical-align: middle;\n",
       "    }\n",
       "\n",
       "    .dataframe tbody tr th {\n",
       "        vertical-align: top;\n",
       "    }\n",
       "\n",
       "    .dataframe thead th {\n",
       "        text-align: right;\n",
       "    }\n",
       "</style>\n",
       "<table border=\"1\" class=\"dataframe\">\n",
       "  <thead>\n",
       "    <tr style=\"text-align: right;\">\n",
       "      <th></th>\n",
       "      <th>metrics</th>\n",
       "      <th>DecisionTreeClassifier</th>\n",
       "      <th>RandomForestClassifier</th>\n",
       "      <th>LogisticRegression</th>\n",
       "    </tr>\n",
       "  </thead>\n",
       "  <tbody>\n",
       "    <tr>\n",
       "      <th>0</th>\n",
       "      <td>accuracy</td>\n",
       "      <td>0.784979</td>\n",
       "      <td>0.874535</td>\n",
       "      <td>0.877819</td>\n",
       "    </tr>\n",
       "    <tr>\n",
       "      <th>1</th>\n",
       "      <td>precision</td>\n",
       "      <td>0.177979</td>\n",
       "      <td>0.200000</td>\n",
       "      <td>0.285714</td>\n",
       "    </tr>\n",
       "    <tr>\n",
       "      <th>2</th>\n",
       "      <td>recall</td>\n",
       "      <td>0.212613</td>\n",
       "      <td>0.010811</td>\n",
       "      <td>0.003604</td>\n",
       "    </tr>\n",
       "    <tr>\n",
       "      <th>3</th>\n",
       "      <td>roc_auc</td>\n",
       "      <td>0.538385</td>\n",
       "      <td>0.597539</td>\n",
       "      <td>0.637300</td>\n",
       "    </tr>\n",
       "    <tr>\n",
       "      <th>4</th>\n",
       "      <td>roc_auc_avg</td>\n",
       "      <td>0.514566</td>\n",
       "      <td>0.585177</td>\n",
       "      <td>0.645813</td>\n",
       "    </tr>\n",
       "  </tbody>\n",
       "</table>\n",
       "</div>"
      ],
      "text/plain": [
       "       metrics  DecisionTreeClassifier  RandomForestClassifier  \\\n",
       "0     accuracy                0.784979                0.874535   \n",
       "1    precision                0.177979                0.200000   \n",
       "2       recall                0.212613                0.010811   \n",
       "3      roc_auc                0.538385                0.597539   \n",
       "4  roc_auc_avg                0.514566                0.585177   \n",
       "\n",
       "   LogisticRegression  \n",
       "0            0.877819  \n",
       "1            0.285714  \n",
       "2            0.003604  \n",
       "3            0.637300  \n",
       "4            0.645813  "
      ]
     },
     "execution_count": 590,
     "metadata": {},
     "output_type": "execute_result"
    }
   ],
   "source": [
    "metrics_=process(preproc_data_2)\n",
    "metrics_"
   ]
  },
  {
   "cell_type": "code",
   "execution_count": 591,
   "metadata": {},
   "outputs": [
    {
     "data": {
      "text/plain": [
       "<matplotlib.axes._subplots.AxesSubplot at 0x1a288c9860>"
      ]
     },
     "execution_count": 591,
     "metadata": {},
     "output_type": "execute_result"
    },
    {
     "data": {
      "image/png": "[encoded data removed]",
      "text/plain": [
       "<Figure size 1080x504 with 1 Axes>"
      ]
     },
     "metadata": {},
     "output_type": "display_data"
    }
   ],
   "source": [
    "_, ax_my = plt.subplots(figsize=(15,7)) \n",
    "metrics_.plot(x='metrics', kind='bar', ax=ax_my, color=['r', 'b', 'g', 'm', 'r'])"
   ]
  },
  {
   "cell_type": "code",
   "execution_count": 583,
   "metadata": {},
   "outputs": [
    {
     "data": {
      "text/html": [
       "<div>\n",
       "<style scoped>\n",
       "    .dataframe tbody tr th:only-of-type {\n",
       "        vertical-align: middle;\n",
       "    }\n",
       "\n",
       "    .dataframe tbody tr th {\n",
       "        vertical-align: top;\n",
       "    }\n",
       "\n",
       "    .dataframe thead th {\n",
       "        text-align: right;\n",
       "    }\n",
       "</style>\n",
       "<table border=\"1\" class=\"dataframe\">\n",
       "  <thead>\n",
       "    <tr style=\"text-align: right;\">\n",
       "      <th></th>\n",
       "      <th>val</th>\n",
       "      <th>prob</th>\n",
       "    </tr>\n",
       "  </thead>\n",
       "  <tbody>\n",
       "    <tr>\n",
       "      <th>0</th>\n",
       "      <td>1</td>\n",
       "      <td>0.689449</td>\n",
       "    </tr>\n",
       "    <tr>\n",
       "      <th>1</th>\n",
       "      <td>1</td>\n",
       "      <td>0.532446</td>\n",
       "    </tr>\n",
       "    <tr>\n",
       "      <th>2</th>\n",
       "      <td>1</td>\n",
       "      <td>0.520665</td>\n",
       "    </tr>\n",
       "    <tr>\n",
       "      <th>3</th>\n",
       "      <td>1</td>\n",
       "      <td>1.000000</td>\n",
       "    </tr>\n",
       "    <tr>\n",
       "      <th>4</th>\n",
       "      <td>1</td>\n",
       "      <td>0.569491</td>\n",
       "    </tr>\n",
       "  </tbody>\n",
       "</table>\n",
       "</div>"
      ],
      "text/plain": [
       "   val      prob\n",
       "0    1  0.689449\n",
       "1    1  0.532446\n",
       "2    1  0.520665\n",
       "3    1  1.000000\n",
       "4    1  0.569491"
      ]
     },
     "execution_count": 583,
     "metadata": {},
     "output_type": "execute_result"
    }
   ],
   "source": [
    "model_=LogisticRegression()\n",
    "model_.fit(x_train, y_train) \n",
    "predict_ = model_.predict(x_test)   \n",
    "predict_proba = model_.predict_proba(x_test)\n",
    "\n",
    "pd.DataFrame({'val': predict_[predict_>0], 'prob': predict_proba[predict_>0,1]})"
   ]
  },
  {
   "cell_type": "code",
   "execution_count": null,
   "metadata": {},
   "outputs": [],
   "source": []
  }
 ],
 "metadata": {
  "anaconda-cloud": {},
  "kernelspec": {
   "display_name": "Python 3",
   "language": "python",
   "name": "python3"
  },
  "language_info": {
   "codemirror_mode": {
    "name": "ipython",
    "version": 3
   },
   "file_extension": ".py",
   "mimetype": "text/x-python",
   "name": "python",
   "nbconvert_exporter": "python",
   "pygments_lexer": "ipython3",
   "version": "3.7.0"
  },
  "toc": {
   "base_numbering": 1,
   "nav_menu": {
    "height": "31px",
    "width": "253px"
   },
   "number_sections": false,
   "sideBar": true,
   "skip_h1_title": false,
   "title_cell": "Table of Contents",
   "title_sidebar": "Contents",
   "toc_cell": false,
   "toc_position": {},
   "toc_section_display": "block",
   "toc_window_display": false
  }
 },
 "nbformat": 4,
 "nbformat_minor": 2
}
